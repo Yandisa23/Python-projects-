{
 "cells": [
  {
   "cell_type": "markdown",
   "id": "82cc2aa7-dda4-4343-bd40-bf3ae373c06f",
   "metadata": {},
   "source": [
    "### Data type"
   ]
  },
  {
   "cell_type": "markdown",
   "id": "302f059c-43ae-4749-93b6-fa6379e771f2",
   "metadata": {},
   "source": [
    "#### Numeric Data Type"
   ]
  },
  {
   "cell_type": "code",
   "execution_count": null,
   "id": "250d2113-1744-4aae-99fb-1dfd4db6941a",
   "metadata": {},
   "outputs": [],
   "source": [
    "5*5"
   ]
  },
  {
   "cell_type": "code",
   "execution_count": null,
   "id": "38ce81e9-259d-44a0-ac83-50ec7aefb463",
   "metadata": {},
   "outputs": [],
   "source": [
    "N = 5*5"
   ]
  },
  {
   "cell_type": "code",
   "execution_count": null,
   "id": "87ae76d2-42cf-405f-8776-dc8da033fc8f",
   "metadata": {},
   "outputs": [],
   "source": [
    "N"
   ]
  },
  {
   "cell_type": "code",
   "execution_count": null,
   "id": "81e8e6ec-d309-4ee1-8539-280deef75fac",
   "metadata": {},
   "outputs": [],
   "source": [
    "2.365+23.5"
   ]
  },
  {
   "cell_type": "code",
   "execution_count": null,
   "id": "7ebcd4df-d41b-4c64-abe8-be11a38b223a",
   "metadata": {},
   "outputs": [],
   "source": [
    "M=2.365+23.5"
   ]
  },
  {
   "cell_type": "code",
   "execution_count": null,
   "id": "3aef0a93-a3f6-481c-8525-affe498df500",
   "metadata": {},
   "outputs": [],
   "source": [
    "M"
   ]
  },
  {
   "cell_type": "code",
   "execution_count": null,
   "id": "12740060-727a-4fa7-9a98-52cc7407730a",
   "metadata": {},
   "outputs": [],
   "source": [
    "8/2\n"
   ]
  },
  {
   "cell_type": "markdown",
   "id": "07608312-eeff-4c69-8010-42924daa3775",
   "metadata": {},
   "source": [
    "#### List Data Type"
   ]
  },
  {
   "cell_type": "code",
   "execution_count": null,
   "id": "2058bdda-9c30-42f4-863f-8c72b27d9d78",
   "metadata": {},
   "outputs": [],
   "source": [
    "People = [\"Lushozi\",\"Chare\",\"Peter\"]"
   ]
  },
  {
   "cell_type": "code",
   "execution_count": null,
   "id": "a548dfa1-36b1-4c57-a7ca-5f83203d3c0a",
   "metadata": {},
   "outputs": [],
   "source": [
    "People"
   ]
  },
  {
   "cell_type": "code",
   "execution_count": null,
   "id": "f0908ece-7b0e-42b4-972e-122d1c53f91e",
   "metadata": {},
   "outputs": [],
   "source": [
    "People[0]"
   ]
  },
  {
   "cell_type": "code",
   "execution_count": null,
   "id": "14677ee6-4abf-4e87-8c0d-555ebd6b455b",
   "metadata": {},
   "outputs": [],
   "source": [
    "Numbers=[6,7,8,9]"
   ]
  },
  {
   "cell_type": "code",
   "execution_count": null,
   "id": "769a8cce-1cd4-4a89-b305-f9df24e4b579",
   "metadata": {},
   "outputs": [],
   "source": [
    "Numbers"
   ]
  },
  {
   "cell_type": "code",
   "execution_count": null,
   "id": "ac6b23eb-055e-4755-8c74-28f694afea8f",
   "metadata": {},
   "outputs": [],
   "source": [
    "Numbers[4-1]"
   ]
  },
  {
   "cell_type": "markdown",
   "id": "af758b1d-c737-4fde-970e-d758adedd315",
   "metadata": {},
   "source": [
    "#### Tuple Data Type"
   ]
  },
  {
   "cell_type": "code",
   "execution_count": null,
   "id": "06a875ca-5921-47cd-8f95-dcab1119a9b9",
   "metadata": {},
   "outputs": [],
   "source": [
    "Products=('TV','Radio','Software')"
   ]
  },
  {
   "cell_type": "code",
   "execution_count": null,
   "id": "9082f777-e5ff-46ad-966b-0ea82a259319",
   "metadata": {},
   "outputs": [],
   "source": [
    "Products"
   ]
  },
  {
   "cell_type": "code",
   "execution_count": null,
   "id": "fe1b4343-9f3a-4801-ae85-b99188407a19",
   "metadata": {},
   "outputs": [],
   "source": [
    "Products[3-1]"
   ]
  },
  {
   "cell_type": "markdown",
   "id": "8882f947-4908-45f6-b4a2-ed9fce4bc6aa",
   "metadata": {},
   "source": [
    "#### String Data Type"
   ]
  },
  {
   "cell_type": "markdown",
   "id": "cefe0955-2cb0-4a5c-b646-bf61c2ff72a7",
   "metadata": {},
   "source": [
    "Name= 'Peter'"
   ]
  },
  {
   "cell_type": "markdown",
   "id": "413ed6d0-8a77-40ac-8f71-81ccc8333a3e",
   "metadata": {},
   "source": [
    "Name"
   ]
  },
  {
   "cell_type": "code",
   "execution_count": null,
   "id": "fd81eee4-c955-4761-8ee2-c0c6ed29e305",
   "metadata": {},
   "outputs": [],
   "source": [
    "Surname='John'\n",
    "Surname"
   ]
  },
  {
   "cell_type": "markdown",
   "id": "aa07bdea-9573-40e5-923a-d9eb293521a2",
   "metadata": {},
   "source": [
    "#### Set Data Type"
   ]
  },
  {
   "cell_type": "code",
   "execution_count": null,
   "id": "36ce995d-a8e8-4da1-af4e-4c5aff331527",
   "metadata": {},
   "outputs": [],
   "source": [
    "Myset= {5,6,9,10}"
   ]
  },
  {
   "cell_type": "code",
   "execution_count": null,
   "id": "cd968355-c72d-4a17-9690-8b734a03e54f",
   "metadata": {},
   "outputs": [],
   "source": [
    "Myset"
   ]
  },
  {
   "cell_type": "code",
   "execution_count": null,
   "id": "892a96cf-f376-4834-8d1d-27202abbeae0",
   "metadata": {},
   "outputs": [],
   "source": [
    "stringset={'Peter','John','Allan'}"
   ]
  },
  {
   "cell_type": "code",
   "execution_count": null,
   "id": "10ade8c5-a8a1-4f12-b5b2-7994b65cb502",
   "metadata": {},
   "outputs": [],
   "source": [
    "stringset"
   ]
  },
  {
   "cell_type": "markdown",
   "id": "902a9ffd-1ed9-4817-b52e-c548f190f3e5",
   "metadata": {},
   "source": [
    "#### Data Input/Output in Python"
   ]
  },
  {
   "cell_type": "code",
   "execution_count": null,
   "id": "8efae9e6-5a30-463e-8de3-c1d2f001c322",
   "metadata": {},
   "outputs": [],
   "source": [
    "Age= input(\"please enter your age: \")"
   ]
  },
  {
   "cell_type": "code",
   "execution_count": null,
   "id": "d5289787-c87f-4e05-bfe0-786189877b4b",
   "metadata": {},
   "outputs": [],
   "source": [
    "Name= input(\"Please enter your name: \")"
   ]
  },
  {
   "cell_type": "code",
   "execution_count": null,
   "id": "22c7b123-bbac-4075-9105-bf3b0a306d6d",
   "metadata": {},
   "outputs": [],
   "source": [
    "print(Name)"
   ]
  },
  {
   "cell_type": "code",
   "execution_count": null,
   "id": "96748d10-db48-486f-b0c0-1683ed2b4a75",
   "metadata": {},
   "outputs": [],
   "source": [
    "print('Your Name:', Name)"
   ]
  },
  {
   "cell_type": "code",
   "execution_count": null,
   "id": "24165b1e-2c65-4704-9f2e-f47486695617",
   "metadata": {},
   "outputs": [],
   "source": []
  },
  {
   "cell_type": "code",
   "execution_count": null,
   "id": "71fbe972-2b21-43ba-b221-6f3f5f849973",
   "metadata": {},
   "outputs": [],
   "source": [
    "Test =int(input(\"Please enter your Test Mark: \"))"
   ]
  },
  {
   "cell_type": "code",
   "execution_count": null,
   "id": "3db6864c-31c3-4848-a379-dc2e7a765271",
   "metadata": {},
   "outputs": [],
   "source": [
    "Emark= int(input(\"Please enter your Exam Mark: \"))"
   ]
  },
  {
   "cell_type": "code",
   "execution_count": null,
   "id": "bbfbd001-1967-4f6d-b56f-60b3207495ef",
   "metadata": {},
   "outputs": [],
   "source": [
    "print('Product between Test and EMark is:', Test * Emark)"
   ]
  },
  {
   "cell_type": "code",
   "execution_count": null,
   "id": "36f012a6-0388-47a7-9ec9-34f990f9205f",
   "metadata": {},
   "outputs": [],
   "source": []
  },
  {
   "cell_type": "code",
   "execution_count": null,
   "id": "59bcbfba-5af9-4d77-9961-b0da34dcb99b",
   "metadata": {},
   "outputs": [],
   "source": [
    "Side1=float(input(\"Please enter your Side1: \"))"
   ]
  },
  {
   "cell_type": "code",
   "execution_count": null,
   "id": "c9471bd5-d2c9-4bc8-bac5-65866997963e",
   "metadata": {},
   "outputs": [],
   "source": [
    "Side2=float(input(\"Please enter your Side2: \"))"
   ]
  },
  {
   "cell_type": "code",
   "execution_count": null,
   "id": "bf80feeb-1678-4c01-aab2-dd28eb8a70f0",
   "metadata": {},
   "outputs": [],
   "source": [
    "Side3=float(input(\"Please enter your Side3: \"))"
   ]
  },
  {
   "cell_type": "code",
   "execution_count": null,
   "id": "5e3dd4fb-2a48-47bc-9e34-e3342f389299",
   "metadata": {},
   "outputs": [],
   "source": [
    "print('Area of Triangle:', ((1/2)*Side1* Side2))"
   ]
  },
  {
   "cell_type": "code",
   "execution_count": null,
   "id": "7956db7b-e738-4191-a5b9-cefc71d60d92",
   "metadata": {},
   "outputs": [],
   "source": []
  },
  {
   "cell_type": "code",
   "execution_count": null,
   "id": "3964472b-cd13-417b-b7be-271f14fb0b1e",
   "metadata": {},
   "outputs": [],
   "source": [
    "A=int(input(\"Please enter your Test a: \"))"
   ]
  },
  {
   "cell_type": "code",
   "execution_count": null,
   "id": "d120e3c8-90a5-42d4-b41a-fa11c669fe12",
   "metadata": {},
   "outputs": [],
   "source": [
    "B=int(input(\"Please enter your Test b: \"))"
   ]
  },
  {
   "cell_type": "code",
   "execution_count": null,
   "id": "3f182922-9b9e-4eab-8fa2-a32aef709214",
   "metadata": {},
   "outputs": [],
   "source": [
    "A,B=B,A\n",
    "print(A)\n",
    "print(B)"
   ]
  },
  {
   "cell_type": "code",
   "execution_count": null,
   "id": "c07e0ee6-2cee-41b8-abbd-138d9da6a90b",
   "metadata": {},
   "outputs": [],
   "source": []
  },
  {
   "cell_type": "code",
   "execution_count": null,
   "id": "f5c1a6cb-e664-423f-aff9-8438db97f22c",
   "metadata": {},
   "outputs": [],
   "source": [
    "Lenght=int(input(\"Please enter your L: \"))"
   ]
  },
  {
   "cell_type": "code",
   "execution_count": null,
   "id": "af263dd2-f375-4d0d-9195-9417b870a236",
   "metadata": {},
   "outputs": [],
   "source": [
    "breadth=int(input(\"Please enter your B: \"))"
   ]
  },
  {
   "cell_type": "code",
   "execution_count": null,
   "id": "31b5d2a3-ae89-4b03-ad85-b2b0c77a1e84",
   "metadata": {},
   "outputs": [],
   "source": [
    "print('Perimeter of rectangle',((2)*(Lenght+breadth)))"
   ]
  },
  {
   "cell_type": "code",
   "execution_count": null,
   "id": "6e83e447-6490-4d3a-b7f6-a056e383a2e9",
   "metadata": {},
   "outputs": [],
   "source": []
  },
  {
   "cell_type": "code",
   "execution_count": null,
   "id": "760baa37-d2c6-4e37-9b43-367d45306762",
   "metadata": {},
   "outputs": [],
   "source": [
    "Name= input(\"Please enter your name: \")"
   ]
  },
  {
   "cell_type": "code",
   "execution_count": null,
   "id": "09e6763d-ee7f-422c-87a2-a9534600c7cb",
   "metadata": {},
   "outputs": [],
   "source": [
    "Age= input(\"please enter your age: \")"
   ]
  },
  {
   "cell_type": "code",
   "execution_count": null,
   "id": "03133a27-2bd8-43f1-b608-c10309c5e6fd",
   "metadata": {},
   "outputs": [],
   "source": [
    "print('My Name and age:', Name, Age)"
   ]
  },
  {
   "cell_type": "code",
   "execution_count": null,
   "id": "f84cec92-fb72-44cd-a017-afe083898eaf",
   "metadata": {},
   "outputs": [],
   "source": []
  },
  {
   "cell_type": "markdown",
   "id": "b3a3ada8-509a-46ff-9b38-20d1d7f3262c",
   "metadata": {},
   "source": [
    "### Arithmetic Practice Questions"
   ]
  },
  {
   "cell_type": "markdown",
   "id": "3f8643cb-0366-48bf-b790-4a0bb22fcda8",
   "metadata": {},
   "source": [
    "#### 1. How many second are in 42 minutes and 42 seconds"
   ]
  },
  {
   "cell_type": "code",
   "execution_count": null,
   "id": "eecc2613-16ca-46ec-a336-5c880c5aec4b",
   "metadata": {},
   "outputs": [],
   "source": [
    "Min= int(input('Enter minutes:'))\n",
    "Sec= int(input('Enter seconds:'))  \n",
    "print('Seconds in 42 minutes and 42 seconds are', (Min* 60)+ Sec)"
   ]
  },
  {
   "cell_type": "code",
   "execution_count": null,
   "id": "3c4130b7-9063-48ea-8a46-37002997293d",
   "metadata": {},
   "outputs": [],
   "source": []
  },
  {
   "cell_type": "code",
   "execution_count": null,
   "id": "c1978879-ac1f-4962-aa2b-afcb029da42e",
   "metadata": {},
   "outputs": [],
   "source": [
    "Mile= int(input('Enter miles:'))\n",
    "KM= float(input('Enter km:'))  \n",
    "print('Miles in 100 km', (100/KM))"
   ]
  },
  {
   "cell_type": "code",
   "execution_count": null,
   "id": "8d1b98d4-ebd4-4774-b29c-d636f3461a72",
   "metadata": {},
   "outputs": [],
   "source": []
  },
  {
   "cell_type": "code",
   "execution_count": null,
   "id": "299acef6-390f-4734-ab76-e19371a0d0b8",
   "metadata": {},
   "outputs": [],
   "source": [
    "Min= int(input('Enter minutes:'))\n",
    "Sec= int(input('Enter seconds:')) \n",
    "KM= float(input('Enter km:'))\n",
    "print('Seconds in 42 minutes and 42 seconds',((Min* 60)+ Sec)/(10/KM))"
   ]
  },
  {
   "cell_type": "code",
   "execution_count": null,
   "id": "cf179bbc-c59d-43e8-b6f2-775e71c3969d",
   "metadata": {},
   "outputs": [],
   "source": []
  },
  {
   "cell_type": "code",
   "execution_count": null,
   "id": "ab4e7ba6-6b83-4028-9a91-870930611bc4",
   "metadata": {},
   "outputs": [],
   "source": [
    "Min= int(input('Enter minutes:'))\n",
    "Sec= int(input('Enter seconds:')) \n",
    "KM= float(input('Enter km:'))\n",
    "print('Seconds in 42 minutes and 42 seconds',((Min* 60)+ Sec)/KM)"
   ]
  },
  {
   "cell_type": "code",
   "execution_count": null,
   "id": "6f93400c-abe4-4d28-b7b7-e0619fec89a7",
   "metadata": {},
   "outputs": [],
   "source": []
  },
  {
   "cell_type": "code",
   "execution_count": null,
   "id": "0d0919e3-9db1-46b4-af6e-27a5694ff4c1",
   "metadata": {},
   "outputs": [],
   "source": [
    "Num1= int(input('Enter first number'))\n",
    "Num2=int(input('Enter Sec number'))\n",
    "if Num1>Num2:\n",
    "    print(Num1, 'is larger')\n",
    "else: print(Num2,'is larger')"
   ]
  },
  {
   "cell_type": "code",
   "execution_count": null,
   "id": "b78a3c32-26f1-4a62-9867-486a36714638",
   "metadata": {},
   "outputs": [],
   "source": [
    "P= int(input('Enter amount'))\n",
    "r=int(input('Enter interest rate'))\n",
    "n=int(input('Enter number of years'))\n",
    "t=int(input('Enter time'))\n",
    "print('Amount of money accumulated after', P*(1+(r/n)**n*t))"
   ]
  },
  {
   "cell_type": "code",
   "execution_count": null,
   "id": "b299366b-4941-4eaa-9f4c-ccebb472e4de",
   "metadata": {},
   "outputs": [],
   "source": [
    "#### if <condition>:\n",
    "      <action>\n",
    "#### elif<condition>:\n",
    "       <action>\n",
    "#### else:\n",
    "     <action(s)>"
   ]
  },
  {
   "cell_type": "code",
   "execution_count": null,
   "id": "c52f4981-404c-4d12-b96b-bdffbf79264c",
   "metadata": {},
   "outputs": [],
   "source": []
  },
  {
   "cell_type": "code",
   "execution_count": null,
   "id": "491427e7-b06e-4533-aede-0c29108443cb",
   "metadata": {},
   "outputs": [],
   "source": [
    "mark= int(input('Enter your mark:'))\n",
    "if mark>=75 and mark<=100:\n",
    "      print('A student got Distinction')\n",
    "elif mark>=60 and mark<=74:\n",
    "        print('A student got a Credit')\n",
    "elif mark>=50 and mark<=59:\n",
    "        print('A student got a Pass')\n",
    "elif mark>=0 and mark<=49:\n",
    "      print('A student got Fail')\n",
    "else:\n",
    "    print('Invalid Mark')"
   ]
  },
  {
   "cell_type": "code",
   "execution_count": null,
   "id": "d953d7f2-edb0-4c50-8d8e-35223f149509",
   "metadata": {},
   "outputs": [],
   "source": [
    "Age= float(input('Enter your age:'))\n",
    "if Age>=18:\n",
    "      print('Eligible to vote')\n",
    "elif Age<=17:\n",
    "        print('Not eligible to vote')\n",
    "    "
   ]
  },
  {
   "cell_type": "code",
   "execution_count": null,
   "id": "854051e0-ee6c-4b26-9995-3c6d2175ca58",
   "metadata": {},
   "outputs": [],
   "source": [
    "Num= float(input('Enter Number:'))\n",
    "if Num % 2==0:\n",
    "      print('The number is even')\n",
    "elif Num % 2!=0:\n",
    "        print('The number is odd')"
   ]
  },
  {
   "cell_type": "code",
   "execution_count": null,
   "id": "4a9cee71-a03f-4a4d-a309-fde53fa11343",
   "metadata": {},
   "outputs": [],
   "source": [
    "a= float(input('Enter your side a:'))\n",
    "b= float(input('Enter your side b:'))\n",
    "c=float(input('Enter your side c:'))\n",
    "if a==b and a==c and c==b:\n",
    "    print('Equilateral')\n",
    "elif a!=b and a!=c and c!=b:\n",
    "    print('Obsute')\n",
    "else:\n",
    "    print('Isosceles')"
   ]
  },
  {
   "cell_type": "markdown",
   "id": "aa50f12e-0662-46b8-b352-99ac9e7ddc33",
   "metadata": {},
   "source": [
    "### Repetitive Structure in Python(Ileration/Loops)"
   ]
  },
  {
   "cell_type": "markdown",
   "id": "1ab0e28b-43af-43f6-82b8-54896727341d",
   "metadata": {},
   "source": [
    "#### The While Loop"
   ]
  },
  {
   "cell_type": "code",
   "execution_count": null,
   "id": "94ccf5e0-31be-409c-95ab-0fcef2390661",
   "metadata": {},
   "outputs": [],
   "source": [
    "while <condition>\n",
    "      <action>\n",
    "      <increment control variable> "
   ]
  },
  {
   "cell_type": "markdown",
   "id": "efa5cfa9-acde-48a2-809e-4ff697a0beef",
   "metadata": {},
   "source": [
    "##### The For Loop"
   ]
  },
  {
   "cell_type": "code",
   "execution_count": null,
   "id": "31f12dd8-ffea-4725-a276-1c9a77717839",
   "metadata": {},
   "outputs": [],
   "source": [
    "for <control variable> in <data structure>:\n",
    "<action(s)>\n",
    " "
   ]
  },
  {
   "cell_type": "code",
   "execution_count": null,
   "id": "71b3b5b3-23e2-4d66-8ff0-6b7cb9e09978",
   "metadata": {},
   "outputs": [],
   "source": [
    "names= ['Lucky','Yandisa','Sinazo']\n",
    "for y in names:\n",
    " if y!='Manda':\n",
    "    print('there is', y)\n",
    " else:\n",
    "    print('there is no', y)"
   ]
  },
  {
   "cell_type": "markdown",
   "id": "150a4884-d93b-47ca-b263-35a4744b7a87",
   "metadata": {},
   "source": [
    "### range(initial, finalvalue, increametor)"
   ]
  },
  {
   "cell_type": "code",
   "execution_count": null,
   "id": "872dc8e6-2da5-49b7-b7d3-984bb437713c",
   "metadata": {},
   "outputs": [],
   "source": [
    "for i in range(100):\n",
    " if i%2==1:\n",
    "    print(i, end=\" \")"
   ]
  },
  {
   "cell_type": "code",
   "execution_count": null,
   "id": "c2e02907-1958-455c-a668-c96bbc862b52",
   "metadata": {},
   "outputs": [],
   "source": [
    "num = int(input(\"Enter the num:\"))\n",
    "sum=0\n",
    "for t in range(1,num+1):\n",
    "    sum=sum+t\n",
    "print(sum)"
   ]
  },
  {
   "cell_type": "code",
   "execution_count": null,
   "id": "8fa9e770-99ce-43f6-8d63-fac3f73abadf",
   "metadata": {},
   "outputs": [],
   "source": [
    "num = int(input(\"Enter the num:\"))\n",
    "count=0\n",
    "if num==0:\n",
    "   count=1\n",
    "else:\n",
    " while num!=0:\n",
    "      num=num//10\n",
    "      count+=1\n",
    "print(count)"
   ]
  },
  {
   "cell_type": "code",
   "execution_count": null,
   "id": "5e750e65-0981-4274-9a30-d032ceecaf29",
   "metadata": {},
   "outputs": [],
   "source": [
    "names= ['Lucky','Yandisa','Sinazo']\n",
    "revnames=reversed(names)\n",
    "print(list(revnames))"
   ]
  },
  {
   "cell_type": "code",
   "execution_count": null,
   "id": "4cd6cf47-cacd-49df-8592-629db550ef7b",
   "metadata": {},
   "outputs": [],
   "source": [
    "for t in range(1,5+1):\n",
    " for m in range(1, t+1):\n",
    "     print(m, end=\" \")\n",
    " print()"
   ]
  },
  {
   "cell_type": "code",
   "execution_count": null,
   "id": "79cefd0e-eac0-4b75-96f3-c97b85cf276c",
   "metadata": {},
   "outputs": [],
   "source": [
    "tuple=('Yandisa', 23,50.6)\n",
    "print(tuple)"
   ]
  },
  {
   "cell_type": "code",
   "execution_count": null,
   "id": "a9dc1b05-b9eb-4da2-87e9-642a846fbb17",
   "metadata": {},
   "outputs": [],
   "source": [
    "name='Yandisa'\n",
    "Age=23\n",
    "mark=56.9\n",
    "tuple= (name, Age, mark)\n",
    "print(tuple)"
   ]
  },
  {
   "cell_type": "code",
   "execution_count": null,
   "id": "05a34e1c-29d2-4dc8-8fb9-4231c89db160",
   "metadata": {},
   "outputs": [],
   "source": [
    "emptyset={''}\n",
    "print(type(emptyset))"
   ]
  },
  {
   "cell_type": "code",
   "execution_count": null,
   "id": "9412fb03-0642-41ba-bb20-3fc714c37ce4",
   "metadata": {},
   "outputs": [],
   "source": [
    "nonemptyset={'lucky'}\n",
    "print(type(nonemptyset))"
   ]
  },
  {
   "cell_type": "code",
   "execution_count": null,
   "id": "8b7fdbff-2501-4596-9c74-8cb4860cc17d",
   "metadata": {},
   "outputs": [],
   "source": [
    "start = int(input(\"Enter the num:\"))\n",
    "end = int(input(\"Enter the num:\"))\n",
    "if start<=1:\n",
    "    print('prime number')\n",
    "else:\n",
    "       print('not prime number')  \n",
    "e=int(end**0.5)+1\n",
    "for j in range(2,e,2):\n",
    "   print(j, end=\" \")\n",
    "    "
   ]
  },
  {
   "cell_type": "code",
   "execution_count": null,
   "id": "e0cdcd0a-aeac-4b60-a49b-67392da7532b",
   "metadata": {},
   "outputs": [],
   "source": [
    "for r in range(-100,-5--1):\n",
    " print(r, end=\" \")"
   ]
  },
  {
   "cell_type": "code",
   "execution_count": null,
   "id": "eb65ea5d-6f8f-48a0-8ee4-81dc174a079f",
   "metadata": {},
   "outputs": [],
   "source": [
    "num=[1,3,6,9]\n",
    "evencount=0\n",
    "oddcount=0\n",
    "for r in num:\n",
    "    if r%2==0:\n",
    "        evencount+=1\n",
    "    else:\n",
    "        oddcount+=1\n",
    "print('even number', evencount, 'and odd number',oddcount)"
   ]
  },
  {
   "cell_type": "code",
   "execution_count": null,
   "id": "ae0bb10d-3007-40cb-b111-1d19ea85a87c",
   "metadata": {},
   "outputs": [],
   "source": [
    "name= input('Enter a word:')\n",
    "for r in name[::-1]:\n",
    "    print (r, end=\" \")"
   ]
  },
  {
   "cell_type": "code",
   "execution_count": null,
   "id": "41c88a92-b484-429a-ad4a-fa13e9750fe4",
   "metadata": {},
   "outputs": [],
   "source": [
    "word=input(\"Enter a word\")\n",
    "tempstr=\"\"\n",
    "for y in word:\n",
    "    tempstr= y + tempstr\n",
    "if word == tempstr:\n",
    "       print (y,\"is pari\")\n",
    "else:\n",
    "       print (y,\"is not pari\")"
   ]
  },
  {
   "cell_type": "code",
   "execution_count": null,
   "id": "146a4d56-385f-4ca3-bb38-951c4bfa2757",
   "metadata": {},
   "outputs": [],
   "source": [
    "num= int(input('Enter a number:'))\n",
    "tot=1\n",
    "for y in range(1,num+1):\n",
    "    tot*=y\n",
    "print(tot)"
   ]
  },
  {
   "cell_type": "code",
   "execution_count": null,
   "id": "da1ee582-684a-4b4d-80a3-46df62205f60",
   "metadata": {},
   "outputs": [],
   "source": [
    "n=int(input('Enter a number:'))\n",
    "start=int(input('Enter a number:'))\n",
    "end=int(input('Enter a number:'))\n",
    "for y in range(start,end+1):\n",
    "  print(n*y)"
   ]
  },
  {
   "cell_type": "code",
   "execution_count": null,
   "id": "9aa7dd62-3779-4402-81e7-95e0fa20741a",
   "metadata": {},
   "outputs": [],
   "source": [
    "def finalM(h,j):\n",
    "    return((h+j)/200*100)\n",
    "Exam=int(input('Enter a exam mark:'))\n",
    "Coursework=int(input('Enter a coursework mark:'))\n",
    "print(finalM(Exam, Coursework))"
   ]
  },
  {
   "cell_type": "code",
   "execution_count": null,
   "id": "840d68c7-5bba-484b-95df-8ad735c69461",
   "metadata": {},
   "outputs": [],
   "source": [
    "def ave(a,b,c,d,e,f,g,h,i,j):\n",
    "    return(a+b+c+d+e+f+g+h+i+j)/10\n",
    "S1=int(input('Enter a exam mark:'))\n",
    "S2=int(input('Enter a exam mark:'))\n",
    "S3=int(input('Enter a exam mark:'))\n",
    "S4=int(input('Enter a exam mark:'))\n",
    "S5=int(input('Enter a exam mark:'))\n",
    "S6=int(input('Enter a exam mark:'))\n",
    "S7=int(input('Enter a exam mark:'))\n",
    "S8=int(input('Enter a exam mark:'))\n",
    "S9=int(input('Enter a exam mark:'))\n",
    "S10=int(input('Enter a exam mark:'))\n",
    "print(ave(S1,S2,S3,S4,S5,S6,S7,S8,S9,S10))"
   ]
  },
  {
   "cell_type": "code",
   "execution_count": null,
   "id": "f27f3d03-f39e-4d3b-90ef-955a75f76e98",
   "metadata": {},
   "outputs": [],
   "source": [
    "def factor(n):\n",
    "    if n==0:\n",
    "        return 1\n",
    "    else:\n",
    "        return n*factor(n-1)  \n",
    "num=int(input('Enter the number:'))\n",
    "factor(num)"
   ]
  },
  {
   "cell_type": "code",
   "execution_count": null,
   "id": "f7f5f91f-e6d5-460d-903b-827549296454",
   "metadata": {},
   "outputs": [],
   "source": [
    "def argum(*arguments):\n",
    "    print(arguments)\n",
    "arg=input('Enter your province:')\n",
    "arg1=int(input('Enter the population:'))\n",
    "argum(arg,arg1)"
   ]
  },
  {
   "cell_type": "code",
   "execution_count": null,
   "id": "d1b72f14-2e24-40b1-8da8-9f56a8a460ac",
   "metadata": {},
   "outputs": [],
   "source": [
    "def largnum(a,b):\n",
    "    return a>b\n",
    "num1=int(input('Enter the number:'))\n",
    "num2=int(input('Enter the number:'))\n",
    "print(largnum(num1,num2))"
   ]
  },
  {
   "cell_type": "code",
   "execution_count": null,
   "id": "94f6a8ac-c2f9-4b96-8f54-d2913c9ef4b5",
   "metadata": {},
   "outputs": [],
   "source": [
    "def sum(a,b):\n",
    "    return a>b\n",
    "num1=int(input('Enter the number:'))\n",
    "num2=int(input('Enter the number:'))"
   ]
  },
  {
   "cell_type": "code",
   "execution_count": null,
   "id": "7c09b64d-979b-4d99-b506-687f7c1f432e",
   "metadata": {},
   "outputs": [],
   "source": [
    "def find()"
   ]
  },
  {
   "cell_type": "code",
   "execution_count": null,
   "id": "1fc61fa7-1866-4a84-9526-b0fadadfe58c",
   "metadata": {},
   "outputs": [],
   "source": [
    "def tuple():\n",
    "    return\n"
   ]
  },
  {
   "cell_type": "markdown",
   "id": "927bf3dd-2681-4a8b-a3a7-745211cecdff",
   "metadata": {},
   "source": [
    "### Python Pandas"
   ]
  },
  {
   "cell_type": "markdown",
   "id": "ff1349f9-0994-4839-b874-6ee5c6a6ecb2",
   "metadata": {},
   "source": [
    "##### Pandas Series"
   ]
  },
  {
   "cell_type": "code",
   "execution_count": null,
   "id": "314ddc8f-4a39-404a-b226-eec952ef2a14",
   "metadata": {},
   "outputs": [],
   "source": [
    "import pandas as pd\n",
    "data=pd.Series([1,3,4,6,7,8],['Indiphile','Yandisa','Sipho','Sane','Angel','JP'])\n",
    "data"
   ]
  },
  {
   "cell_type": "markdown",
   "id": "e20ff830-4a22-4c26-a2e2-ce1b1e541461",
   "metadata": {},
   "source": [
    "##### Pandas DataFrame"
   ]
  },
  {
   "cell_type": "code",
   "execution_count": null,
   "id": "ef386eb3-6a51-4426-8c36-d5c6973c6a2d",
   "metadata": {},
   "outputs": [],
   "source": [
    "import pandas as pt\n",
    "cars={'Car name':['Polo Viva','Mercedes-Bens','Toyota','BMW','Hyundai'], 'Year':[2012,2015,2020,2018,2022],'Price':[200000,500000,300000,400000,350000]}\n",
    "ap=pt.DataFrame(cars, index=[1,2,3,4,5])\n",
    "ap"
   ]
  },
  {
   "cell_type": "code",
   "execution_count": null,
   "id": "347d091e-c926-484b-9f2c-88f4687c4a22",
   "metadata": {},
   "outputs": [],
   "source": [
    "ap.to_excel('mycars.xlsx')\n"
   ]
  },
  {
   "cell_type": "code",
   "execution_count": null,
   "id": "be886c37-120b-4090-8345-023c1fe7bc39",
   "metadata": {},
   "outputs": [],
   "source": [
    "import pandas as pt\n",
    "patient={'Patient Number': [110,120,130,140,150], \n",
    "         'Patient Name': ['Yandisa', 'Indiphile', 'Angel', 'Mondli','Fezeka'], \n",
    "         'Patient Surname': ['Sisilana','Sokhulu', 'Mavundla',' Ntshingila','Gida'],\n",
    "         'Ward Number':[1200,1201,1202,1203,1204],\n",
    "         'Bed Number':[101,102,103,104,105]}\n",
    "ap= pt.DataFrame(patient, index=[1,2,3,4,5])\n",
    "ap"
   ]
  },
  {
   "cell_type": "code",
   "execution_count": null,
   "id": "4f5b9fa6-4e52-4ed7-aa43-610e6b92f35c",
   "metadata": {},
   "outputs": [],
   "source": [
    "ap.loc[1:3, 'Patient Name']"
   ]
  },
  {
   "cell_type": "code",
   "execution_count": null,
   "id": "5943970f-1360-4eb0-b158-7f26b7f212f9",
   "metadata": {},
   "outputs": [],
   "source": [
    "ap.loc[[1,3]]"
   ]
  },
  {
   "cell_type": "code",
   "execution_count": null,
   "id": "e2becfa6-1e76-4b82-af00-8d72fece10dd",
   "metadata": {},
   "outputs": [],
   "source": [
    "ap.loc[[1,3],'Patient Name']"
   ]
  },
  {
   "cell_type": "code",
   "execution_count": null,
   "id": "0f91d468-89b9-47a3-bc28-078a7fc3bcc7",
   "metadata": {},
   "outputs": [],
   "source": [
    "pt.read_csv('Path of file')"
   ]
  },
  {
   "cell_type": "code",
   "execution_count": null,
   "id": "b9171a6a-cc5e-4d9b-9753-1a1a4790062b",
   "metadata": {},
   "outputs": [],
   "source": [
    "import pandas as pt\n",
    "ap=pt.read_csv('train.csv')\n",
    "ap"
   ]
  },
  {
   "cell_type": "code",
   "execution_count": null,
   "id": "8d552dc3-7557-4f6b-8862-d792ddf7a979",
   "metadata": {},
   "outputs": [],
   "source": [
    "ap = pt.read_excel('mycars.xlsx')"
   ]
  },
  {
   "cell_type": "code",
   "execution_count": null,
   "id": "7912cea8-6cd2-4b16-82b3-7ce2c57e0c6b",
   "metadata": {},
   "outputs": [],
   "source": [
    "ap.head()"
   ]
  },
  {
   "cell_type": "code",
   "execution_count": null,
   "id": "d725d893-897b-4c12-94ae-12ec317269da",
   "metadata": {},
   "outputs": [],
   "source": [
    "ap.info()"
   ]
  },
  {
   "cell_type": "code",
   "execution_count": null,
   "id": "64097892-9343-44a3-979f-e558d7c58260",
   "metadata": {},
   "outputs": [],
   "source": [
    "ap.tail(10)"
   ]
  },
  {
   "cell_type": "code",
   "execution_count": null,
   "id": "6b3520b1-d4ab-4af2-97b7-e724f943e9a1",
   "metadata": {},
   "outputs": [],
   "source": [
    "ap.dropna()"
   ]
  },
  {
   "cell_type": "code",
   "execution_count": null,
   "id": "a87fb64f-cb33-497c-8a4b-7f1f5cd9a80f",
   "metadata": {},
   "outputs": [],
   "source": [
    "ave=ap['Price'].mean()\n",
    "ave"
   ]
  },
  {
   "cell_type": "code",
   "execution_count": null,
   "id": "d7679f81-d7e5-4c41-9633-1dee1118d64f",
   "metadata": {},
   "outputs": [],
   "source": [
    "ap.loc[1,'Price']=500000\n",
    "ap"
   ]
  },
  {
   "cell_type": "code",
   "execution_count": null,
   "id": "7dedd47e-20a5-4cc6-b990-d8e1a73db6de",
   "metadata": {},
   "outputs": [],
   "source": [
    "newap=ap.fillna(347809)\n",
    "newap"
   ]
  },
  {
   "cell_type": "code",
   "execution_count": null,
   "id": "6c0b37e1-7a8f-4ff4-b07f-536f53d2e997",
   "metadata": {},
   "outputs": [],
   "source": [
    "ap.fillna(347809,inplace= True)\n",
    "ap"
   ]
  },
  {
   "cell_type": "code",
   "execution_count": null,
   "id": "e9f37844-d181-4e06-a753-8183734bd724",
   "metadata": {},
   "outputs": [],
   "source": [
    "import pandas as pt\n",
    "ap=pt.read_excel('Dataset.xlsx')\n",
    "ap"
   ]
  },
  {
   "cell_type": "code",
   "execution_count": null,
   "id": "8a5e663f-38d1-4bd0-b76b-b4e88d1ac0da",
   "metadata": {},
   "outputs": [],
   "source": [
    "ap['Sales']=pt.to_numeric(ap['Sales'],errors='coerce')\n",
    "ap"
   ]
  },
  {
   "cell_type": "code",
   "execution_count": null,
   "id": "47b0ca1f-2221-4f08-88ed-c5777b462e4d",
   "metadata": {},
   "outputs": [],
   "source": [
    "ave=ap['Sales'].mean()\n",
    "ave"
   ]
  },
  {
   "cell_type": "code",
   "execution_count": null,
   "id": "2ea70308-9dfa-452d-b9ea-657ffc04b480",
   "metadata": {},
   "outputs": [],
   "source": [
    "ap['Sales'].fillna(ave,inplace= True)\n",
    "ap"
   ]
  },
  {
   "cell_type": "code",
   "execution_count": null,
   "id": "92885816-cfb3-40a9-b499-319ab9922a58",
   "metadata": {},
   "outputs": [],
   "source": [
    "mod=ap['Region'].mode()[0]\n",
    "mod"
   ]
  },
  {
   "cell_type": "code",
   "execution_count": null,
   "id": "b9a5ccde-d6c8-4eeb-9839-07200a9bc8fb",
   "metadata": {},
   "outputs": [],
   "source": [
    "ap['Region'].fillna(mod, inplace = True)\n",
    "ap"
   ]
  },
  {
   "cell_type": "code",
   "execution_count": null,
   "id": "a55daf6d-0e9d-4d0c-9faf-9b2f70893889",
   "metadata": {},
   "outputs": [],
   "source": [
    "ap.drop_duplicates()"
   ]
  },
  {
   "cell_type": "code",
   "execution_count": null,
   "id": "8e70ef8f-ad21-4e48-b627-0b102f60ae80",
   "metadata": {},
   "outputs": [],
   "source": [
    "ap.drop_duplicates(['Last Name'])"
   ]
  },
  {
   "cell_type": "code",
   "execution_count": null,
   "id": "6055139b-45a4-43ba-a6ca-ca079417867e",
   "metadata": {},
   "outputs": [],
   "source": [
    "#replacing all occurring digit in strings with NaN\n",
    "ap['Quarter']=ap['Quarter'].str.replace('\\d+', \"\")\n",
    "ap"
   ]
  },
  {
   "cell_type": "code",
   "execution_count": null,
   "id": "5318f430-6b0a-4a20-a981-b7d17f40a0bc",
   "metadata": {},
   "outputs": [],
   "source": [
    "mod=ap['Quarter'].mode()[0]\n",
    "mod"
   ]
  },
  {
   "cell_type": "code",
   "execution_count": null,
   "id": "4f5092cd-8d77-42b9-9b17-1790030257b3",
   "metadata": {},
   "outputs": [],
   "source": [
    "ap['Quater'].fillna(mod, inplace = True)\n",
    "ap"
   ]
  },
  {
   "cell_type": "code",
   "execution_count": null,
   "id": "dbf30793-c302-437c-bc77-059b8a3f7e8d",
   "metadata": {},
   "outputs": [],
   "source": [
    "ap = pt.read_excel('Financial Sample.xlsx')\n",
    "ap"
   ]
  },
  {
   "cell_type": "code",
   "execution_count": null,
   "id": "7875a4f2-537a-45ca-9583-31841488cf68",
   "metadata": {},
   "outputs": [],
   "source": [
    "mod=ap['Discount Band'].mode()[0]\n",
    "mod"
   ]
  },
  {
   "cell_type": "code",
   "execution_count": null,
   "id": "498125de-d74d-41b0-9821-ebf98e0f2e77",
   "metadata": {},
   "outputs": [],
   "source": [
    "ap['Discount Band'].fillna(mod, inplace = True)\n",
    "ap"
   ]
  },
  {
   "cell_type": "code",
   "execution_count": null,
   "id": "1509c2ca-c639-4fc4-b55d-aa7425c120b6",
   "metadata": {},
   "outputs": [],
   "source": [
    "\n",
    "mod=ap['Segment'].mode()[0]\n",
    "mod"
   ]
  },
  {
   "cell_type": "code",
   "execution_count": null,
   "id": "7c871f66-d981-4249-8105-b0035da4c42c",
   "metadata": {},
   "outputs": [],
   "source": [
    "ap['Segment'].fillna(mod, inplace = True)\n",
    "ap"
   ]
  },
  {
   "cell_type": "code",
   "execution_count": null,
   "id": "e41dc970-da35-4472-a417-fca0e894f239",
   "metadata": {},
   "outputs": [],
   "source": [
    "ap['Sale Price']=pt.to_numeric(ap['Sale Price'],errors='coerce')\n",
    "ap"
   ]
  },
  {
   "cell_type": "code",
   "execution_count": null,
   "id": "fb91b24a-3874-4475-9fd7-bf79e2a85976",
   "metadata": {},
   "outputs": [],
   "source": [
    "ave=ap['Sale Price'].median()\n",
    "ave"
   ]
  },
  {
   "cell_type": "code",
   "execution_count": null,
   "id": "3bd15588-f302-4f71-890e-cef4c589455d",
   "metadata": {},
   "outputs": [],
   "source": [
    "ap['Sale Price'].fillna(ave,inplace= True)\n",
    "ap"
   ]
  },
  {
   "cell_type": "code",
   "execution_count": null,
   "id": "c3530d22-5160-4c69-9edb-d80570f3b11c",
   "metadata": {},
   "outputs": [],
   "source": [
    "ap.info()"
   ]
  },
  {
   "cell_type": "markdown",
   "id": "45b3d318-abc4-4cc0-baaf-9c12413a1258",
   "metadata": {},
   "source": [
    "### Which segment had the highest number of units sold"
   ]
  },
  {
   "cell_type": "code",
   "execution_count": null,
   "id": "2475a91b-81a6-4c14-b521-bb041bd80b84",
   "metadata": {},
   "outputs": [],
   "source": [
    "Highest_units= ap[['Segment','Units Sold']][ap['Units Sold'] ==ap['Units Sold'].max()]\n",
    "Highest_units"
   ]
  },
  {
   "cell_type": "code",
   "execution_count": null,
   "id": "d1609ce7-aa2d-49c8-806d-cf79db177927",
   "metadata": {},
   "outputs": [],
   "source": [
    "GS= ap[ap['Segment']=='Government']\n",
    "GS"
   ]
  },
  {
   "cell_type": "code",
   "execution_count": null,
   "id": "24d7dcf0-1c22-4b35-9671-75c7c22af8ce",
   "metadata": {},
   "outputs": [],
   "source": [
    "Pcount=ap['Product'].value_counts()\n",
    "Pcount"
   ]
  },
  {
   "cell_type": "code",
   "execution_count": null,
   "id": "dd9cc53c-0ec1-4079-9cd9-c80ed69e0d3f",
   "metadata": {},
   "outputs": [],
   "source": [
    "highestP= ap.groupby('Product')\n",
    "max_unitsold= highestP[['Product','Units Sold']].max()\n",
    "max_unitsold"
   ]
  },
  {
   "cell_type": "code",
   "execution_count": null,
   "id": "39efa2a9-8c37-47bf-ab62-2c4089846db4",
   "metadata": {},
   "outputs": [],
   "source": [
    "ap.nlargest(10, 'Units Sold')"
   ]
  },
  {
   "cell_type": "code",
   "execution_count": null,
   "id": "cc770497-9909-4a8c-988b-6c993d6ef288",
   "metadata": {},
   "outputs": [],
   "source": [
    "ap.nsmallest(10,'Profit')"
   ]
  },
  {
   "cell_type": "code",
   "execution_count": null,
   "id": "76868383-4c26-4caf-b928-809e1299a0c3",
   "metadata": {},
   "outputs": [],
   "source": [
    "ap.rename(columns={'Segment':'Sector','Sale Price':'Price','Units Sold':'Quantity'}, inplace =True)\n",
    "ap"
   ]
  },
  {
   "cell_type": "code",
   "execution_count": null,
   "id": "e092178a-8e72-49ca-abb3-55a27d221faa",
   "metadata": {},
   "outputs": [],
   "source": []
  },
  {
   "cell_type": "markdown",
   "id": "62808529-c23a-438a-a8ba-f71fd327bfa9",
   "metadata": {},
   "source": [
    "### Date 06/11/2024"
   ]
  },
  {
   "cell_type": "code",
   "execution_count": null,
   "id": "7cb31fb6-db61-4111-a3bc-228e2d0f9c35",
   "metadata": {},
   "outputs": [],
   "source": [
    "import pandas as bc\n",
    "ab = bc.read_excel('Financial Sample.xlsx')\n",
    "ab"
   ]
  },
  {
   "cell_type": "code",
   "execution_count": null,
   "id": "229712c4-96a3-43df-9c38-2bf174bc83ae",
   "metadata": {},
   "outputs": [],
   "source": [
    "mod=ab['Discount Band'].mode()[0]\n",
    "mod"
   ]
  },
  {
   "cell_type": "code",
   "execution_count": null,
   "id": "c7c95d86-0aae-4fd2-aeb9-ea21c6921afd",
   "metadata": {},
   "outputs": [],
   "source": [
    "ab['Discount Band'].fillna(mod, inplace = True)\n",
    "ab"
   ]
  },
  {
   "cell_type": "code",
   "execution_count": null,
   "id": "aeab5d14-a218-4963-a668-f9fc03a4b70d",
   "metadata": {},
   "outputs": [],
   "source": [
    "mod=ab['Segment'].mode()[0]\n",
    "mod"
   ]
  },
  {
   "cell_type": "code",
   "execution_count": null,
   "id": "9bc7b3fa-b479-4b93-9683-1eca36e53f5d",
   "metadata": {},
   "outputs": [],
   "source": [
    "ab['Segment'].fillna(mod, inplace = True)\n",
    "ab"
   ]
  },
  {
   "cell_type": "code",
   "execution_count": null,
   "id": "89322fc9-f3c1-4505-881c-86820e2c70c2",
   "metadata": {},
   "outputs": [],
   "source": [
    "ab['Sale Price']=bc.to_numeric(ab['Sale Price'],errors='coerce')\n",
    "ab"
   ]
  },
  {
   "cell_type": "code",
   "execution_count": null,
   "id": "83ba2b85-7b9f-49e0-9ff7-5a16ce71f361",
   "metadata": {},
   "outputs": [],
   "source": [
    "ave=ab['Sale Price'].median()\n",
    "ave"
   ]
  },
  {
   "cell_type": "code",
   "execution_count": null,
   "id": "c9412f90-e471-4704-baee-59897571bcc6",
   "metadata": {},
   "outputs": [],
   "source": [
    "ab['Sale Price'].fillna(ave,inplace= True)\n",
    "ab"
   ]
  },
  {
   "cell_type": "code",
   "execution_count": null,
   "id": "38248437-c4e7-4820-ba51-e2670650566b",
   "metadata": {},
   "outputs": [],
   "source": [
    "Summary_Numerical_columns=ab.describe()\n",
    "Summary_Numerical_columns"
   ]
  },
  {
   "cell_type": "code",
   "execution_count": null,
   "id": "e0ba7364-78e7-414e-a959-cb74a456b320",
   "metadata": {},
   "outputs": [],
   "source": [
    "Duplicates = ab[ab['Sale Price'].duplicated()== True]\n",
    "Duplicates"
   ]
  },
  {
   "cell_type": "code",
   "execution_count": null,
   "id": "3b875813-ab5c-4770-8735-940ae0d7ee92",
   "metadata": {},
   "outputs": [],
   "source": [
    "sample25=ab.sample(frac=0.25)\n",
    "sample25"
   ]
  },
  {
   "cell_type": "code",
   "execution_count": null,
   "id": "a0b1dc2d-4cda-49c6-beeb-432f3f71cc6f",
   "metadata": {},
   "outputs": [],
   "source": [
    "randomrows=ab.sample(n=10)\n",
    "randomrows"
   ]
  },
  {
   "cell_type": "code",
   "execution_count": null,
   "id": "d0ad96e7-cd69-40c0-9d8c-31c35e4cfa58",
   "metadata": {},
   "outputs": [],
   "source": [
    "firstrows=ab.head(25)\n",
    "firstrows\n"
   ]
  },
  {
   "cell_type": "code",
   "execution_count": null,
   "id": "0e210160-4425-47bf-ab15-bb088b5931a1",
   "metadata": {},
   "outputs": [],
   "source": [
    "firstrows=ab[:25]\n",
    "firstrows"
   ]
  },
  {
   "cell_type": "code",
   "execution_count": null,
   "id": "5a811097-2cc8-483b-8807-e8fccbb5655a",
   "metadata": {},
   "outputs": [],
   "source": [
    "lastrows=ab.tail(15)\n",
    "lastrows"
   ]
  },
  {
   "cell_type": "code",
   "execution_count": null,
   "id": "ade68b86-6d0f-4c05-bb6f-86eff7e8ca5d",
   "metadata": {},
   "outputs": [],
   "source": [
    "last15=ab[len(ab)-15:]\n",
    "last15"
   ]
  },
  {
   "cell_type": "code",
   "execution_count": null,
   "id": "cc441b68-fccb-4d04-8d07-5f9efe5daed7",
   "metadata": {},
   "outputs": [],
   "source": [
    "unique_products= ab['Product'].unique()\n",
    "unique_country=ab['Country'].unique()\n",
    "unique_discountband=ab['Discount Band'].unique()\n",
    "unique_segment=ab['Segment'].unique()\n",
    "print(unique_products,unique_country,unique_discountband,unique_segment, end=\"\")"
   ]
  },
  {
   "cell_type": "code",
   "execution_count": null,
   "id": "fa75518e-bdde-4311-bd6c-7f275d109751",
   "metadata": {},
   "outputs": [],
   "source": [
    "num_unique_values= ab.apply(lambda row:row.nunique(),axis=1)\n",
    "num_unique_values"
   ]
  },
  {
   "cell_type": "code",
   "execution_count": null,
   "id": "3e5b48b0-e514-4fa3-82f7-955ee65e00ef",
   "metadata": {},
   "outputs": [],
   "source": [
    "num_unique_values= ab.nunique(axis=1)\n",
    "num_unique_values"
   ]
  },
  {
   "cell_type": "code",
   "execution_count": null,
   "id": "59140edf-77d5-4e11-a141-242dfcb33c99",
   "metadata": {},
   "outputs": [],
   "source": [
    "unique_values= ab.nunique().sum()\n",
    "unique_values"
   ]
  },
  {
   "cell_type": "code",
   "execution_count": null,
   "id": "c0d8585a-2929-4798-a80b-6a2b2eeb0fa2",
   "metadata": {},
   "outputs": [],
   "source": [
    "unique_valuespercolumn= ab.nunique()\n",
    "unique_valuespercolumn"
   ]
  },
  {
   "cell_type": "code",
   "execution_count": null,
   "id": "1a44d552-09b0-4136-bda3-b16780899867",
   "metadata": {},
   "outputs": [],
   "source": [
    "columns=ab.columns.tolist()\n",
    "columns"
   ]
  },
  {
   "cell_type": "code",
   "execution_count": null,
   "id": "24a37e80-2411-4b35-ae7e-833cfac9c5dd",
   "metadata": {},
   "outputs": [],
   "source": [
    "columns= ab.columns\n",
    "columns"
   ]
  },
  {
   "cell_type": "code",
   "execution_count": null,
   "id": "9d848d65-cfd3-4b87-a723-7b11f4cd971a",
   "metadata": {},
   "outputs": [],
   "source": [
    "sortedbycountry=ab.sort_values(by='Country')\n",
    "sortedbycountry"
   ]
  },
  {
   "cell_type": "code",
   "execution_count": null,
   "id": "51a88a3d-6f1f-46e5-a16c-9a10d1cf6b65",
   "metadata": {},
   "outputs": [],
   "source": [
    "sortedbycountry=ab.sort_values(by='Country',axis=0, ascending=True)\n",
    "sortedbycountry"
   ]
  },
  {
   "cell_type": "markdown",
   "id": "dabd78a1-9b58-479a-b3b1-f3f9576168ea",
   "metadata": {},
   "source": [
    "### Visualisation graphs\n",
    "##### Plotting in line graph"
   ]
  },
  {
   "cell_type": "code",
   "execution_count": null,
   "id": "95d17ad4-d7f9-480c-b8fa-817d16219fe9",
   "metadata": {},
   "outputs": [],
   "source": [
    "import matplotlib.pyplot as ios\n",
    "#generating a and b data for the graph\n",
    "a= [2,4,7,9]\n",
    "b= [4,8,9,10]\n",
    "#ploting the graph\n",
    "ios.plot(a,b)\n",
    "#diplaying the graph\n",
    "ios.show()"
   ]
  },
  {
   "cell_type": "markdown",
   "id": "6e10c00c-7581-43bc-9070-2ce6c94d4581",
   "metadata": {},
   "source": [
    "##### adding label"
   ]
  },
  {
   "cell_type": "code",
   "execution_count": null,
   "id": "4d5ff463-e76f-461c-a8c3-2e36b2a63651",
   "metadata": {},
   "outputs": [],
   "source": [
    "from matplotlib import pyplot as ios\n",
    "#importing styling library\n",
    "from matplotlib import style\n",
    "style.use('ggplot')\n",
    "#generating a and b data for the graph\n",
    "a= [2,4,7,9]\n",
    "b= [4,8,9,10]\n",
    "#ploting the graph\n",
    "ios.plot(a,b, label = 'Line',linewidth=1)\n",
    "#adding labels, legends and grid to the chart\n",
    "ios.title('My line chart')\n",
    "ios.xlabel('a axis')\n",
    "ios.ylabel('b axis')\n",
    "#diplaying the graph\n",
    "ios.show()"
   ]
  },
  {
   "cell_type": "code",
   "execution_count": null,
   "id": "05ffb788-6b87-47ba-ae5c-c173b3ad1275",
   "metadata": {},
   "outputs": [],
   "source": [
    "from matplotlib import pyplot as ios\n",
    "#importing styling library\n",
    "from matplotlib import style\n",
    "style.use('ggplot')\n",
    "#generating a and b data for the graph\n",
    "a= [2,4,7,9]\n",
    "b= [4,8,9,10]\n",
    "c= [5,7, 10,11]\n",
    "d= [6,9,10,12]\n",
    "#ploting the graph\n",
    "ios.plot(a,b, label = 'Line',linewidth=1)\n",
    "ios.plot(c,d, label = 'Line 1', linewidth=1)\n",
    "#adding labels, legends and grid to the chart\n",
    "ios.title('My line chart')\n",
    "ios.xlabel('a axis')\n",
    "ios.ylabel('b axis')\n",
    "ios.legend(loc = 'upper right')\n",
    "ios.grid(True, color = 'brown')\n",
    "#diplaying the graph\n",
    "ios.show()"
   ]
  },
  {
   "cell_type": "markdown",
   "id": "1773f120-8c4a-41c7-ae39-602a7c509a3a",
   "metadata": {},
   "source": [
    "##### Plotting a Bar graph"
   ]
  },
  {
   "cell_type": "code",
   "execution_count": null,
   "id": "8a10aeba-9c07-4edd-a38d-641b45309a05",
   "metadata": {},
   "outputs": [],
   "source": [
    "import matplotlib.pyplot as ios\n",
    "a= [2,4,7,9]\n",
    "b= [4,8,9,10]\n",
    "#ploting the graph\n",
    "ios.bar(a,b, label = 'Bar',width=1, color= 'pink')\n",
    "ios.show()"
   ]
  },
  {
   "cell_type": "code",
   "execution_count": null,
   "id": "723dd277-7e98-4291-9d33-a5335253d069",
   "metadata": {},
   "outputs": [],
   "source": [
    "import matplotlib.pyplot as ios\n",
    "a= [2,4,7,9]\n",
    "b= [4,8,9,10]\n",
    "#ploting the graph\n",
    "ios.bar(a,b, label = 'Bar',width=1, color= 'pink')\n",
    "ios.xticks([0,2,4,6,8,10])\n",
    "ios.yticks([0,2,6,10,14,18])            \n",
    "ios.show()"
   ]
  },
  {
   "cell_type": "code",
   "execution_count": null,
   "id": "0ebf8713-c54a-4545-9e2c-8af0b651f768",
   "metadata": {},
   "outputs": [],
   "source": [
    "import matplotlib.pyplot as ios\n",
    "a= [2,4,7,9]\n",
    "b= [4,8,9,10]\n",
    "#ploting the graph\n",
    "ios.bar(a,b, label = 'Bar',width=1, color= 'pink')\n",
    "ios.xticks([0,2,4,6,8,10])\n",
    "ios.yticks([0,2,6,10,14,18])  \n",
    "ios.title('Bar Chart')\n",
    "ios.xlabel('Days')\n",
    "ios.ylabel('Sale units')\n",
    "ios.legend(loc= 'upper right')\n",
    "ios.show()"
   ]
  },
  {
   "cell_type": "markdown",
   "id": "7ebcf319-dcd6-45af-8e47-ec704da915f3",
   "metadata": {},
   "source": [
    "## Creating my own graph"
   ]
  },
  {
   "cell_type": "code",
   "execution_count": null,
   "id": "1a96ae45-84b9-4c17-8b45-b2cbaf31e11d",
   "metadata": {},
   "outputs": [],
   "source": [
    "from matplotlib import pyplot as ios\n",
    "#importing styling library\n",
    "from matplotlib import style\n",
    "style.use('ggplot')\n",
    "#generating a and b data for the graph\n",
    "a= ['Yandisa','Indiplile','Oyama','Lisa']\n",
    "b= [4,8,9,10]\n",
    "c= [5,7, 10,11]\n",
    "\n",
    "#ploting the graph\n",
    "ios.plot(a,b, label = 'Line',linewidth=1)\n",
    "ios.plot(a,c, label = 'Line 1', linewidth=1)\n",
    "#adding labels, legends and grid to the chart\n",
    "ios.title('MyGraph')\n",
    "ios.xlabel('Name')\n",
    "ios.ylabel('Numbers')\n",
    "ios.legend(loc = 'upper right')\n",
    "ios.grid(True, color = 'brown')\n",
    "#color of the bacground\n",
    "ios.gca().set_facecolor('Pink')\n",
    "#save before showing\n",
    "ios.savefig('MyGraph.png')\n",
    "#diplaying the graph\n",
    "ios.show()"
   ]
  },
  {
   "cell_type": "code",
   "execution_count": null,
   "id": "352a24d9-d98b-45d6-b8e4-bf82f8f2603c",
   "metadata": {},
   "outputs": [],
   "source": [
    "ios.gca().set_facecolor('Pink')"
   ]
  },
  {
   "cell_type": "markdown",
   "id": "07ff495c-a697-4aed-98ee-72b7173f6511",
   "metadata": {},
   "source": [
    "##### Plotting Histogram graph"
   ]
  },
  {
   "cell_type": "code",
   "execution_count": null,
   "id": "c63bc949-b307-4705-a487-e33968227304",
   "metadata": {},
   "outputs": [],
   "source": [
    "from matplotlib import pyplot as ios\n",
    "height= [70,120,150,165, 200,210]\n",
    "bins= [0,50,100,150,200,250]\n",
    "#ploting the graph\n",
    "ios.hist(height, bins, histtype= 'bar', rwidth= 9, color= 'm')\n",
    "#adding labels, legends and grid to the chart\n",
    "ios.title('MyHistogram')\n",
    "ios.xlabel('Name')\n",
    "ios.ylabel('Numbers')\n",
    "#diplaying the graph\n",
    "ios.show()"
   ]
  },
  {
   "cell_type": "markdown",
   "id": "c3179de0-3138-4bc9-9895-eb2566e05d93",
   "metadata": {},
   "source": [
    "##### Plotting Scatter graph"
   ]
  },
  {
   "cell_type": "code",
   "execution_count": null,
   "id": "df2851c4-fd7d-4eec-833e-6262b777875f",
   "metadata": {},
   "outputs": [],
   "source": [
    "from matplotlib import pyplot as ios\n",
    "a= [2,4,7,9]\n",
    "b= [4,8,9,10]\n",
    "c= [5,7, 10,11]\n",
    "d= [8,9,11,12]\n",
    "\n",
    "#ploting the graph\n",
    "ios.scatter(a,b, label = 'Line',linewidth=1)\n",
    "ios.scatter(c,d, label = 'Line 1', linewidth=1)\n",
    "#adding labels, legends and grid to the chart\n",
    "ios.title('My Scatter')\n",
    "ios.xlabel('Name')\n",
    "ios.ylabel('Numbers')\n",
    "ios.legend(loc = 'upper right')\n",
    "\n",
    "#color of the bacground\n",
    "ios.gca().set_facecolor('Pink')\n",
    "#save before showing\n",
    "ios.savefig('MyGraph.png')\n",
    "#diplaying the graph\n",
    "ios.show()"
   ]
  },
  {
   "cell_type": "code",
   "execution_count": null,
   "id": "cf38c05f-1a63-4805-8bb9-b2bab8aa972a",
   "metadata": {},
   "outputs": [],
   "source": [
    "import matplotlib.pyplot as ios\n",
    "names= ['Andile','Busi','Mark','Penyo','Percy','Peter']\n",
    "marks= [55,65,67,65,67,78]\n",
    "ios.bar(names,marks, label = 'Bar',width=.3, color= 'blue')\n",
    "ios.yticks([0,20,40,60,80,100])  \n",
    "ios.title('Student & Marks')\n",
    "ios.xlabel('Names')\n",
    "ios.ylabel('Marks')\n",
    "ios.legend(loc= 'upper right')\n",
    "ios.savefig('Student.png')\n",
    "ios.show()"
   ]
  },
  {
   "cell_type": "code",
   "execution_count": null,
   "id": "bc914d27-c143-4212-920a-7232400ab2eb",
   "metadata": {},
   "outputs": [],
   "source": [
    "import matplotlib.pyplot as ios\n",
    "import pandas as pt\n",
    "ap=pt.read_excel('salesperson.xlsx')\n",
    "l=ap['Salesperson'].tolist()\n",
    "s=ap['Sales'].tolist()\n",
    "ios.bar(l,s, label = 'Bar',width=.3, color= 'blue')\n",
    "ios.title('Student & Marks')\n",
    "ios.xlabel('Salesperson')\n",
    "ios.ylabel('Sales')\n",
    "ios.legend(loc= 'upper right')\n",
    "ios.show()"
   ]
  },
  {
   "cell_type": "markdown",
   "id": "31311ad2-4184-4405-98b4-dceb20e5f755",
   "metadata": {},
   "source": [
    "##### Plotting Pie Chart"
   ]
  },
  {
   "cell_type": "code",
   "execution_count": null,
   "id": "258181db-3c40-4924-a14a-f8964788051a",
   "metadata": {},
   "outputs": [],
   "source": [
    "import matplotlib.pyplot as ios\n",
    "import pandas as pt\n",
    "ap=pt.read_excel('salesperson.xlsx')\n",
    "fig = ios.figure()\n",
    "sizes =fig.add_axes([0,0,1,1])\n",
    "datalabels = ap['Salesperson'].tolist()\n",
    "data=ap['Sales'].tolist()\n",
    "sizes.pie(data, labels= datalabels, autopct = '%.2f%%')\n",
    "ios.show()"
   ]
  },
  {
   "cell_type": "code",
   "execution_count": null,
   "id": "55aba4e3-65df-41dc-ad0c-a62373bc0d3f",
   "metadata": {},
   "outputs": [],
   "source": [
    "import matplotlib.pyplot as ios\n",
    "import pandas as pt\n",
    "ap=pt.read_csv('Company Sales.csv')\n",
    "a= ap['month_number'].tolist()\n",
    "b= ap['total_profit'].tolist()\n",
    "ios.plot(a,b, label = 'Line',linewidth=1)\n",
    "ios.title('Company Profit')\n",
    "ios.xlabel('Month Number')\n",
    "ios.ylabel('Total Profit')\n",
    "ios.show()"
   ]
  },
  {
   "cell_type": "code",
   "execution_count": null,
   "id": "3315c208-c9fb-4859-9b88-6faa98876db8",
   "metadata": {},
   "outputs": [],
   "source": [
    "import matplotlib.pyplot as ios\n",
    "import pandas as pt\n",
    "ap=pt.read_csv('Company Sales.csv')\n",
    "a= ap['month_number'].tolist()\n",
    "b= ap['total_units'].tolist()\n",
    "ios.plot(a,b, label = 'Profit/Month',linewidth=3, marker= 'o', color='red',linestyle=':')\n",
    "ios.title('Sold Units')\n",
    "ios.xlabel('Month Number')\n",
    "ios.ylabel('Total Profit')\n",
    "ios.legend(loc= 'lower right')\n",
    "ios.show()"
   ]
  },
  {
   "cell_type": "code",
   "execution_count": null,
   "id": "2ebf0ff5-b16c-4ef1-a2da-f0f55ce5800a",
   "metadata": {},
   "outputs": [],
   "source": [
    "import matplotlib.pyplot as ios\n",
    "import pandas as pt\n",
    "ap=pt.read_csv('Company Sales.csv')\n",
    "a= ap['month_number'].tolist()\n",
    "p1= ap['facecream'].tolist()\n",
    "p2=  ap['facewash'].tolist()\n",
    "p3= ap['toothpaste'].tolist()\n",
    "p4= ap['bathingsoap'].tolist()\n",
    "p5=  ap['shampoo'].tolist()\n",
    "p6=  ap['moisturizer'].tolist()\n",
    "ios.plot(a,p1 ,label = 'Facecream',linewidth=1, color='red')\n",
    "ios.plot(a,p2 ,label = 'Facewash',linewidth=1, color='blue')\n",
    "ios.plot(a,p3 ,label = 'Toothpaste',linewidth=1, color='orange')\n",
    "ios.plot(a,p4, label = 'Bathingsoap',linewidth=1, color='green')\n",
    "ios.plot(a,p5,label = 'Shampoo',linewidth=1, color='m')\n",
    "ios.plot(a,p6, label = 'Moisturizer',linewidth=1, color='purple')\n",
    "ios.title('Sold Units per month for each product')\n",
    "ios.xlabel('Month Number')\n",
    "ios.ylabel('Total Units')\n",
    "ios.legend(loc= 'upper left')\n",
    "ios.grid(True, color = 'brown')\n",
    "ios.gca().set_facecolor('pink')\n",
    "ios.show()"
   ]
  },
  {
   "cell_type": "code",
   "execution_count": null,
   "id": "1236182f-6805-45ee-8fbe-6e31bb66281a",
   "metadata": {},
   "outputs": [],
   "source": [
    "from matplotlib import pyplot as ios\n",
    "import pandas as pt\n",
    "ap=pt.read_csv('Company Sales.csv')\n",
    "m= ap['month_number'].tolist()\n",
    "tp= ap['toothpaste'].tolist()\n",
    "ios.scatter(m,tp, label = 'Toothpaste',linewidth=1)\n",
    "ios.title('Toothpaste/Month')\n",
    "ios.xlabel('Month Number')\n",
    "ios.ylabel('Toothpaste Sales')\n",
    "ios.legend(loc = 'upper right')\n",
    "ios.grid(True, color = 'brown',linestyle= \"--\")\n",
    "ios.gca().set_facecolor('grey')\n",
    "ios.show()"
   ]
  },
  {
   "cell_type": "code",
   "execution_count": null,
   "id": "d50bb221-a770-460a-bb5c-73948128e5a0",
   "metadata": {},
   "outputs": [],
   "source": [
    "import matplotlib.pyplot as ios\n",
    "m= ap['month_number'].tolist()\n",
    "fc= ap['facecream'].tolist()\n",
    "fw=  ap['facewash'].tolist()\n",
    "ios.bar([x-0.25 for x in m], fc, label = 'Facecream', width= 0.25,color= 'k', align = 'edge')\n",
    "ios.bar([x +0.25 for x in m], fw, label = 'Facewash', width=-0.25, color= 'orange', align = 'edge')\n",
    "ios.title('Units sold per month for each product')\n",
    "ios.xlabel('Per Month')\n",
    "ios.ylabel('Product')\n",
    "ios.legend(loc= 'upper right')\n",
    "ios.show()"
   ]
  },
  {
   "cell_type": "code",
   "execution_count": null,
   "id": "7108a662-2d3d-41ec-b1c4-47a854cde0ac",
   "metadata": {},
   "outputs": [],
   "source": [
    "\n",
    "import matplotlib.pyplot as ios\n",
    "\n",
    "List =['facecream','facewash','toothpaste','bathingsoap','shampoo','moisturizer']\n",
    "Totalsales=ap[['facecream','facewash','toothpaste','bathingsoap','shampoo','moisturizer']].sum()\n",
    "fig = ios.figure()\n",
    "sizes =fig.add_axes([0,0,1,1])\n",
    "ios.pie(Totalsales, labels= List, autopct = '%.2f%%')\n",
    "ios.legend\n",
    "ios.show()"
   ]
  },
  {
   "cell_type": "code",
   "execution_count": null,
   "id": "24249c01-b0fc-4a20-8608-0081d3124c4c",
   "metadata": {},
   "outputs": [],
   "source": [
    "from matplotlib import pyplot as ios\n",
    "import pandas as pt\n",
    "ap=pt.read_csv('Company Sales.csv')\n",
    "m= ap['total_profit'].tolist()\n",
    "bins=[100000,150000,200000,300000,400000,450000]\n",
    "ios.hist(m,bins, histtype= 'bar', color= 'm')\n",
    "ios.title('Total Profit for each month')\n",
    "ios.xlabel('frequency')\n",
    "ios.ylabel('Total profit')\n",
    "ios.show()"
   ]
  },
  {
   "cell_type": "markdown",
   "id": "51f431be-0458-42bb-8c57-261785e34963",
   "metadata": {},
   "source": [
    "### Activity 20/11/24"
   ]
  },
  {
   "cell_type": "code",
   "execution_count": null,
   "id": "45d83667-54f6-486c-b0c1-ec612937fd0d",
   "metadata": {},
   "outputs": [],
   "source": [
    "import pandas as ya\n",
    "io=ya.read_excel('Dataset1.xlsx')\n",
    "io"
   ]
  },
  {
   "cell_type": "code",
   "execution_count": null,
   "id": "8b02ab73-cd2f-43c4-bdbc-81cfdb9e1950",
   "metadata": {},
   "outputs": [],
   "source": [
    "import matplotlib.pyplot as yan\n",
    "reg= io.groupby('Region')['Sales'].sum()\n",
    "s= reg.index.tolist()\n",
    "r= reg.values.tolist()\n",
    "yan.bar(s,r, label = 'Highest Sales', width=.3, color= 'green')\n",
    "yan.title('Total Sales/Region')\n",
    "yan.xlabel('Region')\n",
    "yan.ylabel('Total Sales')\n",
    "yan.yticks(r)\n",
    "yan.show()"
   ]
  },
  {
   "cell_type": "code",
   "execution_count": null,
   "id": "58695acf-577c-4341-9c2c-038658db071f",
   "metadata": {},
   "outputs": [],
   "source": [
    "import matplotlib.pyplot as yan\n",
    "reg= io.groupby('Region').sum().reset_index()\n",
    "s= io['Region'].tolist()\n",
    "r= io['Sales'].tolist()\n",
    "yan.bar(s,r, label = 'Highest Sales', width=.3, color= 'green')\n",
    "yan.title('Total Sales/Region')\n",
    "yan.xlabel('Region')\n",
    "yan.ylabel('Total Sales')\n",
    "for i in range (len(x)):\n",
    "    yan.text(i,r[i], r[i], ha = 'center')\n",
    "yan.show()"
   ]
  },
  {
   "cell_type": "code",
   "execution_count": null,
   "id": "b2a2949c-eb0f-4968-8767-84abdd9c5495",
   "metadata": {},
   "outputs": [],
   "source": [
    "salesperson = io.groupby('Last Name').sum().reset_index()\n",
    "mylabels= salesperson['Last Name'].tolist()\n",
    "myvalues= salesperson['Sales'].tolist()\n",
    "yan.figure(figsize=(10,6))\n",
    "yan.pie(myvalues, labels=mylabels, autopct = '%.2f%%', explode =exp_value)\n",
    "yan.title('Salespersons Contribution')\n",
    "y= max(myvalues)\n",
    "max_index= myvalues.index(y)\n",
    "exp_value= ([0 if i != max_index else 0.2 for i in range(len(myvalues))])\n",
    "yan.legend\n",
    "yan.show()"
   ]
  },
  {
   "cell_type": "code",
   "execution_count": null,
   "id": "d80c4e96-b206-4903-843c-30f1768860cf",
   "metadata": {},
   "outputs": [],
   "source": [
    "import pandas as ya\n",
    "io=ya.read_csv('Diabetes.csv')\n",
    "io.head()"
   ]
  },
  {
   "cell_type": "code",
   "execution_count": null,
   "id": "00590e1a-ed1d-423f-a57e-caff10dbb13f",
   "metadata": {},
   "outputs": [],
   "source": [
    "Num_patients=io['patient_nbr'].nunique()\n",
    "Num_patients"
   ]
  },
  {
   "cell_type": "code",
   "execution_count": null,
   "id": "08d8c7bd-0e2b-413e-aede-2a2d18065d84",
   "metadata": {},
   "outputs": [],
   "source": [
    "yan.figure(figsize=(12,6))\n",
    "age= io['age'].tolist()\n",
    "bins=40\n",
    "yan.hist(age,bins, histtype= 'bar', color= 'm')\n",
    "yan.title('Patients Ages')\n",
    "yan.xlabel('Age')\n",
    "yan.ylabel('Age frequency')\n",
    "yan.show()"
   ]
  },
  {
   "cell_type": "code",
   "execution_count": null,
   "id": "7a14e699-f379-497a-9e0c-fb545c941597",
   "metadata": {},
   "outputs": [],
   "source": [
    "print('The average time spent in hospital', io['time_in_hospital'].mean())"
   ]
  },
  {
   "cell_type": "code",
   "execution_count": null,
   "id": "01546c1b-b55a-4d0f-a8b3-f9ef146b96c4",
   "metadata": {},
   "outputs": [],
   "source": [
    "discharge_disp= io[io['readmitted']== '<30']['discharge_disposition_id'].value_counts()\n",
    "discharge_disp"
   ]
  },
  {
   "cell_type": "code",
   "execution_count": null,
   "id": "9e3c2178-bf38-41f9-b583-47577d6ea8fd",
   "metadata": {},
   "outputs": [],
   "source": [
    "import seaborn as xy\n",
    "import matplotlib.pyplot as yan\n",
    "x = [2, 4,5,6,6,7]\n",
    "xy.distplot(x, hist=False)\n",
    "yan.show()"
   ]
  },
  {
   "cell_type": "code",
   "execution_count": null,
   "id": "ddded125-99ca-462b-aff0-fdc3fc9983c7",
   "metadata": {},
   "outputs": [],
   "source": [
    "import pandas as ya\n",
    "ab=ya.read_csv('Diabetes.csv')\n",
    "xy.countplot(x= 'race', data = ab)"
   ]
  },
  {
   "cell_type": "code",
   "execution_count": null,
   "id": "e1af7653-3b96-467e-8bfa-0ac1dce6f426",
   "metadata": {},
   "outputs": [],
   "source": [
    "xy.countplot(x='age', data = ab)"
   ]
  },
  {
   "cell_type": "code",
   "execution_count": null,
   "id": "7bf26670-5614-4c77-8aa8-7b9d6400303a",
   "metadata": {},
   "outputs": [],
   "source": [
    "xy.countplot(x='readmitted', data= ab)"
   ]
  },
  {
   "cell_type": "code",
   "execution_count": null,
   "id": "36e6ef9b-4d08-4a4c-81c5-62dfcec37f67",
   "metadata": {},
   "outputs": [],
   "source": [
    "ab.head(6)"
   ]
  },
  {
   "cell_type": "code",
   "execution_count": null,
   "id": "a2aba52b-4732-49d2-8411-f90f86c4d528",
   "metadata": {},
   "outputs": [],
   "source": [
    "xy.countplot(x='readmitted', hue = 'gender', data=ab)"
   ]
  },
  {
   "cell_type": "markdown",
   "id": "f0c597cc-aa83-45e7-8fa7-3fadcff355ea",
   "metadata": {},
   "source": [
    "### Simple Linear Regression "
   ]
  },
  {
   "cell_type": "code",
   "execution_count": null,
   "id": "cef3ad34-89ce-4bf9-9bac-ff2d8d9877eb",
   "metadata": {},
   "outputs": [],
   "source": [
    "ab = ya.read_csv('Tips.csv')\n",
    "xy.regplot(x = 'total_bill',y='tip', data = ab)\n",
    "\n",
    "###y=mx + c\n",
    "yan.show()"
   ]
  },
  {
   "cell_type": "markdown",
   "id": "04e3ab66-0fc8-4f5c-8ce8-1bae29c2e3cf",
   "metadata": {},
   "source": [
    "### Linear Regression & Machine Learning: 27/11/2024"
   ]
  },
  {
   "cell_type": "markdown",
   "id": "eedc5775-6f83-4310-8576-82592263856f",
   "metadata": {},
   "source": [
    "##### Simple Linear Regression"
   ]
  },
  {
   "cell_type": "code",
   "execution_count": 58,
   "id": "5f1dc1d6-aab3-4027-8676-bf2033d151a8",
   "metadata": {},
   "outputs": [
    {
     "data": {
      "text/html": [
       "<div>\n",
       "<style scoped>\n",
       "    .dataframe tbody tr th:only-of-type {\n",
       "        vertical-align: middle;\n",
       "    }\n",
       "\n",
       "    .dataframe tbody tr th {\n",
       "        vertical-align: top;\n",
       "    }\n",
       "\n",
       "    .dataframe thead th {\n",
       "        text-align: right;\n",
       "    }\n",
       "</style>\n",
       "<table border=\"1\" class=\"dataframe\">\n",
       "  <thead>\n",
       "    <tr style=\"text-align: right;\">\n",
       "      <th></th>\n",
       "      <th>total_bill</th>\n",
       "      <th>tip</th>\n",
       "      <th>sex</th>\n",
       "      <th>smoker</th>\n",
       "      <th>day</th>\n",
       "      <th>time</th>\n",
       "      <th>size</th>\n",
       "    </tr>\n",
       "  </thead>\n",
       "  <tbody>\n",
       "    <tr>\n",
       "      <th>0</th>\n",
       "      <td>16.99</td>\n",
       "      <td>1.01</td>\n",
       "      <td>Female</td>\n",
       "      <td>No</td>\n",
       "      <td>Sun</td>\n",
       "      <td>Dinner</td>\n",
       "      <td>2</td>\n",
       "    </tr>\n",
       "    <tr>\n",
       "      <th>1</th>\n",
       "      <td>10.34</td>\n",
       "      <td>1.66</td>\n",
       "      <td>Male</td>\n",
       "      <td>No</td>\n",
       "      <td>Sun</td>\n",
       "      <td>Dinner</td>\n",
       "      <td>3</td>\n",
       "    </tr>\n",
       "    <tr>\n",
       "      <th>2</th>\n",
       "      <td>21.01</td>\n",
       "      <td>3.50</td>\n",
       "      <td>Male</td>\n",
       "      <td>No</td>\n",
       "      <td>Sun</td>\n",
       "      <td>Dinner</td>\n",
       "      <td>3</td>\n",
       "    </tr>\n",
       "    <tr>\n",
       "      <th>3</th>\n",
       "      <td>23.68</td>\n",
       "      <td>3.31</td>\n",
       "      <td>Male</td>\n",
       "      <td>No</td>\n",
       "      <td>Sun</td>\n",
       "      <td>Dinner</td>\n",
       "      <td>2</td>\n",
       "    </tr>\n",
       "    <tr>\n",
       "      <th>4</th>\n",
       "      <td>24.59</td>\n",
       "      <td>3.61</td>\n",
       "      <td>Female</td>\n",
       "      <td>No</td>\n",
       "      <td>Sun</td>\n",
       "      <td>Dinner</td>\n",
       "      <td>4</td>\n",
       "    </tr>\n",
       "  </tbody>\n",
       "</table>\n",
       "</div>"
      ],
      "text/plain": [
       "   total_bill   tip     sex smoker  day    time  size\n",
       "0       16.99  1.01  Female     No  Sun  Dinner     2\n",
       "1       10.34  1.66    Male     No  Sun  Dinner     3\n",
       "2       21.01  3.50    Male     No  Sun  Dinner     3\n",
       "3       23.68  3.31    Male     No  Sun  Dinner     2\n",
       "4       24.59  3.61  Female     No  Sun  Dinner     4"
      ]
     },
     "execution_count": 58,
     "metadata": {},
     "output_type": "execute_result"
    }
   ],
   "source": [
    "import seaborn as xy\n",
    "import matplotlib.pyplot as yan\n",
    "import pandas as ya\n",
    "ab = ya.read_csv('Tips.csv')\n",
    "ab.head()\n"
   ]
  },
  {
   "cell_type": "code",
   "execution_count": 2,
   "id": "0011da85-3454-46a5-953e-b3711c7bd740",
   "metadata": {},
   "outputs": [
    {
     "data": {
      "text/plain": [
       "(244, 7)"
      ]
     },
     "execution_count": 2,
     "metadata": {},
     "output_type": "execute_result"
    }
   ],
   "source": [
    "ab.shape"
   ]
  },
  {
   "cell_type": "code",
   "execution_count": 3,
   "id": "f52cf42d-8ae4-4abe-ab1e-445beb6b208a",
   "metadata": {},
   "outputs": [
    {
     "data": {
      "text/html": [
       "<style>#sk-container-id-1 {color: black;background-color: white;}#sk-container-id-1 pre{padding: 0;}#sk-container-id-1 div.sk-toggleable {background-color: white;}#sk-container-id-1 label.sk-toggleable__label {cursor: pointer;display: block;width: 100%;margin-bottom: 0;padding: 0.3em;box-sizing: border-box;text-align: center;}#sk-container-id-1 label.sk-toggleable__label-arrow:before {content: \"▸\";float: left;margin-right: 0.25em;color: #696969;}#sk-container-id-1 label.sk-toggleable__label-arrow:hover:before {color: black;}#sk-container-id-1 div.sk-estimator:hover label.sk-toggleable__label-arrow:before {color: black;}#sk-container-id-1 div.sk-toggleable__content {max-height: 0;max-width: 0;overflow: hidden;text-align: left;background-color: #f0f8ff;}#sk-container-id-1 div.sk-toggleable__content pre {margin: 0.2em;color: black;border-radius: 0.25em;background-color: #f0f8ff;}#sk-container-id-1 input.sk-toggleable__control:checked~div.sk-toggleable__content {max-height: 200px;max-width: 100%;overflow: auto;}#sk-container-id-1 input.sk-toggleable__control:checked~label.sk-toggleable__label-arrow:before {content: \"▾\";}#sk-container-id-1 div.sk-estimator input.sk-toggleable__control:checked~label.sk-toggleable__label {background-color: #d4ebff;}#sk-container-id-1 div.sk-label input.sk-toggleable__control:checked~label.sk-toggleable__label {background-color: #d4ebff;}#sk-container-id-1 input.sk-hidden--visually {border: 0;clip: rect(1px 1px 1px 1px);clip: rect(1px, 1px, 1px, 1px);height: 1px;margin: -1px;overflow: hidden;padding: 0;position: absolute;width: 1px;}#sk-container-id-1 div.sk-estimator {font-family: monospace;background-color: #f0f8ff;border: 1px dotted black;border-radius: 0.25em;box-sizing: border-box;margin-bottom: 0.5em;}#sk-container-id-1 div.sk-estimator:hover {background-color: #d4ebff;}#sk-container-id-1 div.sk-parallel-item::after {content: \"\";width: 100%;border-bottom: 1px solid gray;flex-grow: 1;}#sk-container-id-1 div.sk-label:hover label.sk-toggleable__label {background-color: #d4ebff;}#sk-container-id-1 div.sk-serial::before {content: \"\";position: absolute;border-left: 1px solid gray;box-sizing: border-box;top: 0;bottom: 0;left: 50%;z-index: 0;}#sk-container-id-1 div.sk-serial {display: flex;flex-direction: column;align-items: center;background-color: white;padding-right: 0.2em;padding-left: 0.2em;position: relative;}#sk-container-id-1 div.sk-item {position: relative;z-index: 1;}#sk-container-id-1 div.sk-parallel {display: flex;align-items: stretch;justify-content: center;background-color: white;position: relative;}#sk-container-id-1 div.sk-item::before, #sk-container-id-1 div.sk-parallel-item::before {content: \"\";position: absolute;border-left: 1px solid gray;box-sizing: border-box;top: 0;bottom: 0;left: 50%;z-index: -1;}#sk-container-id-1 div.sk-parallel-item {display: flex;flex-direction: column;z-index: 1;position: relative;background-color: white;}#sk-container-id-1 div.sk-parallel-item:first-child::after {align-self: flex-end;width: 50%;}#sk-container-id-1 div.sk-parallel-item:last-child::after {align-self: flex-start;width: 50%;}#sk-container-id-1 div.sk-parallel-item:only-child::after {width: 0;}#sk-container-id-1 div.sk-dashed-wrapped {border: 1px dashed gray;margin: 0 0.4em 0.5em 0.4em;box-sizing: border-box;padding-bottom: 0.4em;background-color: white;}#sk-container-id-1 div.sk-label label {font-family: monospace;font-weight: bold;display: inline-block;line-height: 1.2em;}#sk-container-id-1 div.sk-label-container {text-align: center;}#sk-container-id-1 div.sk-container {/* jupyter's `normalize.less` sets `[hidden] { display: none; }` but bootstrap.min.css set `[hidden] { display: none !important; }` so we also need the `!important` here to be able to override the default hidden behavior on the sphinx rendered scikit-learn.org. See: https://github.com/scikit-learn/scikit-learn/issues/21755 */display: inline-block !important;position: relative;}#sk-container-id-1 div.sk-text-repr-fallback {display: none;}</style><div id=\"sk-container-id-1\" class=\"sk-top-container\"><div class=\"sk-text-repr-fallback\"><pre>LinearRegression()</pre><b>In a Jupyter environment, please rerun this cell to show the HTML representation or trust the notebook. <br />On GitHub, the HTML representation is unable to render, please try loading this page with nbviewer.org.</b></div><div class=\"sk-container\" hidden><div class=\"sk-item\"><div class=\"sk-estimator sk-toggleable\"><input class=\"sk-toggleable__control sk-hidden--visually\" id=\"sk-estimator-id-1\" type=\"checkbox\" checked><label for=\"sk-estimator-id-1\" class=\"sk-toggleable__label sk-toggleable__label-arrow\">LinearRegression</label><div class=\"sk-toggleable__content\"><pre>LinearRegression()</pre></div></div></div></div></div>"
      ],
      "text/plain": [
       "LinearRegression()"
      ]
     },
     "execution_count": 3,
     "metadata": {},
     "output_type": "execute_result"
    }
   ],
   "source": [
    "# importing the regression library\n",
    "from sklearn.linear_model import LinearRegression\n",
    "\n",
    "# create a linear regression object/model using the existing data\n",
    "lmodel = LinearRegression()\n",
    "lmodel"
   ]
  },
  {
   "cell_type": "code",
   "execution_count": 4,
   "id": "ae2b343d-e027-4db8-8b54-a7bc38fa58b4",
   "metadata": {},
   "outputs": [
    {
     "data": {
      "text/html": [
       "<style>#sk-container-id-2 {color: black;background-color: white;}#sk-container-id-2 pre{padding: 0;}#sk-container-id-2 div.sk-toggleable {background-color: white;}#sk-container-id-2 label.sk-toggleable__label {cursor: pointer;display: block;width: 100%;margin-bottom: 0;padding: 0.3em;box-sizing: border-box;text-align: center;}#sk-container-id-2 label.sk-toggleable__label-arrow:before {content: \"▸\";float: left;margin-right: 0.25em;color: #696969;}#sk-container-id-2 label.sk-toggleable__label-arrow:hover:before {color: black;}#sk-container-id-2 div.sk-estimator:hover label.sk-toggleable__label-arrow:before {color: black;}#sk-container-id-2 div.sk-toggleable__content {max-height: 0;max-width: 0;overflow: hidden;text-align: left;background-color: #f0f8ff;}#sk-container-id-2 div.sk-toggleable__content pre {margin: 0.2em;color: black;border-radius: 0.25em;background-color: #f0f8ff;}#sk-container-id-2 input.sk-toggleable__control:checked~div.sk-toggleable__content {max-height: 200px;max-width: 100%;overflow: auto;}#sk-container-id-2 input.sk-toggleable__control:checked~label.sk-toggleable__label-arrow:before {content: \"▾\";}#sk-container-id-2 div.sk-estimator input.sk-toggleable__control:checked~label.sk-toggleable__label {background-color: #d4ebff;}#sk-container-id-2 div.sk-label input.sk-toggleable__control:checked~label.sk-toggleable__label {background-color: #d4ebff;}#sk-container-id-2 input.sk-hidden--visually {border: 0;clip: rect(1px 1px 1px 1px);clip: rect(1px, 1px, 1px, 1px);height: 1px;margin: -1px;overflow: hidden;padding: 0;position: absolute;width: 1px;}#sk-container-id-2 div.sk-estimator {font-family: monospace;background-color: #f0f8ff;border: 1px dotted black;border-radius: 0.25em;box-sizing: border-box;margin-bottom: 0.5em;}#sk-container-id-2 div.sk-estimator:hover {background-color: #d4ebff;}#sk-container-id-2 div.sk-parallel-item::after {content: \"\";width: 100%;border-bottom: 1px solid gray;flex-grow: 1;}#sk-container-id-2 div.sk-label:hover label.sk-toggleable__label {background-color: #d4ebff;}#sk-container-id-2 div.sk-serial::before {content: \"\";position: absolute;border-left: 1px solid gray;box-sizing: border-box;top: 0;bottom: 0;left: 50%;z-index: 0;}#sk-container-id-2 div.sk-serial {display: flex;flex-direction: column;align-items: center;background-color: white;padding-right: 0.2em;padding-left: 0.2em;position: relative;}#sk-container-id-2 div.sk-item {position: relative;z-index: 1;}#sk-container-id-2 div.sk-parallel {display: flex;align-items: stretch;justify-content: center;background-color: white;position: relative;}#sk-container-id-2 div.sk-item::before, #sk-container-id-2 div.sk-parallel-item::before {content: \"\";position: absolute;border-left: 1px solid gray;box-sizing: border-box;top: 0;bottom: 0;left: 50%;z-index: -1;}#sk-container-id-2 div.sk-parallel-item {display: flex;flex-direction: column;z-index: 1;position: relative;background-color: white;}#sk-container-id-2 div.sk-parallel-item:first-child::after {align-self: flex-end;width: 50%;}#sk-container-id-2 div.sk-parallel-item:last-child::after {align-self: flex-start;width: 50%;}#sk-container-id-2 div.sk-parallel-item:only-child::after {width: 0;}#sk-container-id-2 div.sk-dashed-wrapped {border: 1px dashed gray;margin: 0 0.4em 0.5em 0.4em;box-sizing: border-box;padding-bottom: 0.4em;background-color: white;}#sk-container-id-2 div.sk-label label {font-family: monospace;font-weight: bold;display: inline-block;line-height: 1.2em;}#sk-container-id-2 div.sk-label-container {text-align: center;}#sk-container-id-2 div.sk-container {/* jupyter's `normalize.less` sets `[hidden] { display: none; }` but bootstrap.min.css set `[hidden] { display: none !important; }` so we also need the `!important` here to be able to override the default hidden behavior on the sphinx rendered scikit-learn.org. See: https://github.com/scikit-learn/scikit-learn/issues/21755 */display: inline-block !important;position: relative;}#sk-container-id-2 div.sk-text-repr-fallback {display: none;}</style><div id=\"sk-container-id-2\" class=\"sk-top-container\"><div class=\"sk-text-repr-fallback\"><pre>LinearRegression()</pre><b>In a Jupyter environment, please rerun this cell to show the HTML representation or trust the notebook. <br />On GitHub, the HTML representation is unable to render, please try loading this page with nbviewer.org.</b></div><div class=\"sk-container\" hidden><div class=\"sk-item\"><div class=\"sk-estimator sk-toggleable\"><input class=\"sk-toggleable__control sk-hidden--visually\" id=\"sk-estimator-id-2\" type=\"checkbox\" checked><label for=\"sk-estimator-id-2\" class=\"sk-toggleable__label sk-toggleable__label-arrow\">LinearRegression</label><div class=\"sk-toggleable__content\"><pre>LinearRegression()</pre></div></div></div></div></div>"
      ],
      "text/plain": [
       "LinearRegression()"
      ]
     },
     "execution_count": 4,
     "metadata": {},
     "output_type": "execute_result"
    }
   ],
   "source": [
    "# extracting the feactures to be used in the prediction\n",
    "x=ab[['total_bill']]\n",
    "y=ab[['tip']]\n",
    "\n",
    "#fit the existing data into the regression object/model\n",
    "lmodel.fit(x,y)"
   ]
  },
  {
   "cell_type": "code",
   "execution_count": 5,
   "id": "78023267-cb22-4138-b711-98208dcf1e0e",
   "metadata": {},
   "outputs": [
    {
     "data": {
      "text/plain": [
       "array([[2.70463616],\n",
       "       [2.00622312],\n",
       "       [3.12683472],\n",
       "       [3.40725019],\n",
       "       [3.5028225 ],\n",
       "       [3.57633966],\n",
       "       [1.84133463],\n",
       "       [3.74332864],\n",
       "       [2.49983836],\n",
       "       [2.47253198]])"
      ]
     },
     "execution_count": 5,
     "metadata": {},
     "output_type": "execute_result"
    }
   ],
   "source": [
    "# predict values (tips) using the model \n",
    "Y= lmodel.predict(x)\n",
    "Y[0:10]"
   ]
  },
  {
   "cell_type": "code",
   "execution_count": 6,
   "id": "1ca180f5-4218-493a-a2d4-a1bf5e0dbb34",
   "metadata": {},
   "outputs": [
    {
     "data": {
      "text/plain": [
       "array([0.92026961])"
      ]
     },
     "execution_count": 6,
     "metadata": {},
     "output_type": "execute_result"
    }
   ],
   "source": [
    "# To know the value of the intercept\n",
    "lmodel.intercept_"
   ]
  },
  {
   "cell_type": "code",
   "execution_count": 25,
   "id": "45e5c50e-3c6c-4942-adb2-25d943cec35e",
   "metadata": {},
   "outputs": [
    {
     "data": {
      "text/plain": [
       "array([[0.10502452]])"
      ]
     },
     "execution_count": 25,
     "metadata": {},
     "output_type": "execute_result"
    }
   ],
   "source": [
    "# To know the value of the cofficient\n",
    "lmodel.coef_\n"
   ]
  },
  {
   "cell_type": "code",
   "execution_count": 8,
   "id": "6fb86285-8054-4148-a2fe-f59fabbb863f",
   "metadata": {},
   "outputs": [
    {
     "data": {
      "text/plain": [
       "3.54588261"
      ]
     },
     "execution_count": 8,
     "metadata": {},
     "output_type": "execute_result"
    }
   ],
   "source": [
    "# To estimate tips using the linear equation y=mx+c\n",
    "y= 0.10502452 * 25 + 0.92026961\n",
    "y"
   ]
  },
  {
   "cell_type": "code",
   "execution_count": 35,
   "id": "851c99e3-a28a-4a5f-bdc0-c70da9869267",
   "metadata": {},
   "outputs": [
    {
     "data": {
      "text/html": [
       "<style>#sk-container-id-9 {color: black;background-color: white;}#sk-container-id-9 pre{padding: 0;}#sk-container-id-9 div.sk-toggleable {background-color: white;}#sk-container-id-9 label.sk-toggleable__label {cursor: pointer;display: block;width: 100%;margin-bottom: 0;padding: 0.3em;box-sizing: border-box;text-align: center;}#sk-container-id-9 label.sk-toggleable__label-arrow:before {content: \"▸\";float: left;margin-right: 0.25em;color: #696969;}#sk-container-id-9 label.sk-toggleable__label-arrow:hover:before {color: black;}#sk-container-id-9 div.sk-estimator:hover label.sk-toggleable__label-arrow:before {color: black;}#sk-container-id-9 div.sk-toggleable__content {max-height: 0;max-width: 0;overflow: hidden;text-align: left;background-color: #f0f8ff;}#sk-container-id-9 div.sk-toggleable__content pre {margin: 0.2em;color: black;border-radius: 0.25em;background-color: #f0f8ff;}#sk-container-id-9 input.sk-toggleable__control:checked~div.sk-toggleable__content {max-height: 200px;max-width: 100%;overflow: auto;}#sk-container-id-9 input.sk-toggleable__control:checked~label.sk-toggleable__label-arrow:before {content: \"▾\";}#sk-container-id-9 div.sk-estimator input.sk-toggleable__control:checked~label.sk-toggleable__label {background-color: #d4ebff;}#sk-container-id-9 div.sk-label input.sk-toggleable__control:checked~label.sk-toggleable__label {background-color: #d4ebff;}#sk-container-id-9 input.sk-hidden--visually {border: 0;clip: rect(1px 1px 1px 1px);clip: rect(1px, 1px, 1px, 1px);height: 1px;margin: -1px;overflow: hidden;padding: 0;position: absolute;width: 1px;}#sk-container-id-9 div.sk-estimator {font-family: monospace;background-color: #f0f8ff;border: 1px dotted black;border-radius: 0.25em;box-sizing: border-box;margin-bottom: 0.5em;}#sk-container-id-9 div.sk-estimator:hover {background-color: #d4ebff;}#sk-container-id-9 div.sk-parallel-item::after {content: \"\";width: 100%;border-bottom: 1px solid gray;flex-grow: 1;}#sk-container-id-9 div.sk-label:hover label.sk-toggleable__label {background-color: #d4ebff;}#sk-container-id-9 div.sk-serial::before {content: \"\";position: absolute;border-left: 1px solid gray;box-sizing: border-box;top: 0;bottom: 0;left: 50%;z-index: 0;}#sk-container-id-9 div.sk-serial {display: flex;flex-direction: column;align-items: center;background-color: white;padding-right: 0.2em;padding-left: 0.2em;position: relative;}#sk-container-id-9 div.sk-item {position: relative;z-index: 1;}#sk-container-id-9 div.sk-parallel {display: flex;align-items: stretch;justify-content: center;background-color: white;position: relative;}#sk-container-id-9 div.sk-item::before, #sk-container-id-9 div.sk-parallel-item::before {content: \"\";position: absolute;border-left: 1px solid gray;box-sizing: border-box;top: 0;bottom: 0;left: 50%;z-index: -1;}#sk-container-id-9 div.sk-parallel-item {display: flex;flex-direction: column;z-index: 1;position: relative;background-color: white;}#sk-container-id-9 div.sk-parallel-item:first-child::after {align-self: flex-end;width: 50%;}#sk-container-id-9 div.sk-parallel-item:last-child::after {align-self: flex-start;width: 50%;}#sk-container-id-9 div.sk-parallel-item:only-child::after {width: 0;}#sk-container-id-9 div.sk-dashed-wrapped {border: 1px dashed gray;margin: 0 0.4em 0.5em 0.4em;box-sizing: border-box;padding-bottom: 0.4em;background-color: white;}#sk-container-id-9 div.sk-label label {font-family: monospace;font-weight: bold;display: inline-block;line-height: 1.2em;}#sk-container-id-9 div.sk-label-container {text-align: center;}#sk-container-id-9 div.sk-container {/* jupyter's `normalize.less` sets `[hidden] { display: none; }` but bootstrap.min.css set `[hidden] { display: none !important; }` so we also need the `!important` here to be able to override the default hidden behavior on the sphinx rendered scikit-learn.org. See: https://github.com/scikit-learn/scikit-learn/issues/21755 */display: inline-block !important;position: relative;}#sk-container-id-9 div.sk-text-repr-fallback {display: none;}</style><div id=\"sk-container-id-9\" class=\"sk-top-container\"><div class=\"sk-text-repr-fallback\"><pre>LinearRegression()</pre><b>In a Jupyter environment, please rerun this cell to show the HTML representation or trust the notebook. <br />On GitHub, the HTML representation is unable to render, please try loading this page with nbviewer.org.</b></div><div class=\"sk-container\" hidden><div class=\"sk-item\"><div class=\"sk-estimator sk-toggleable\"><input class=\"sk-toggleable__control sk-hidden--visually\" id=\"sk-estimator-id-9\" type=\"checkbox\" checked><label for=\"sk-estimator-id-9\" class=\"sk-toggleable__label sk-toggleable__label-arrow\">LinearRegression</label><div class=\"sk-toggleable__content\"><pre>LinearRegression()</pre></div></div></div></div></div>"
      ],
      "text/plain": [
       "LinearRegression()"
      ]
     },
     "execution_count": 35,
     "metadata": {},
     "output_type": "execute_result"
    }
   ],
   "source": [
    "from sklearn.linear_model import LinearRegression\n",
    "lm = LinearRegression()\n",
    "lm"
   ]
  },
  {
   "cell_type": "code",
   "execution_count": 59,
   "id": "1bb781b0-c779-4b8b-b9ec-283c19523111",
   "metadata": {},
   "outputs": [
    {
     "data": {
      "text/html": [
       "<div>\n",
       "<style scoped>\n",
       "    .dataframe tbody tr th:only-of-type {\n",
       "        vertical-align: middle;\n",
       "    }\n",
       "\n",
       "    .dataframe tbody tr th {\n",
       "        vertical-align: top;\n",
       "    }\n",
       "\n",
       "    .dataframe thead th {\n",
       "        text-align: right;\n",
       "    }\n",
       "</style>\n",
       "<table border=\"1\" class=\"dataframe\">\n",
       "  <thead>\n",
       "    <tr style=\"text-align: right;\">\n",
       "      <th></th>\n",
       "      <th>car_ID</th>\n",
       "      <th>symboling</th>\n",
       "      <th>CarName</th>\n",
       "      <th>fueltype</th>\n",
       "      <th>aspiration</th>\n",
       "      <th>doornumber</th>\n",
       "      <th>carbody</th>\n",
       "      <th>drivewheel</th>\n",
       "      <th>enginelocation</th>\n",
       "      <th>wheelbase</th>\n",
       "      <th>...</th>\n",
       "      <th>enginesize</th>\n",
       "      <th>fuelsystem</th>\n",
       "      <th>boreratio</th>\n",
       "      <th>stroke</th>\n",
       "      <th>compressionratio</th>\n",
       "      <th>horsepower</th>\n",
       "      <th>peakrpm</th>\n",
       "      <th>citympg</th>\n",
       "      <th>highwaympg</th>\n",
       "      <th>price</th>\n",
       "    </tr>\n",
       "  </thead>\n",
       "  <tbody>\n",
       "    <tr>\n",
       "      <th>0</th>\n",
       "      <td>1</td>\n",
       "      <td>3</td>\n",
       "      <td>alfa-romero giulia</td>\n",
       "      <td>gas</td>\n",
       "      <td>std</td>\n",
       "      <td>two</td>\n",
       "      <td>convertible</td>\n",
       "      <td>rwd</td>\n",
       "      <td>front</td>\n",
       "      <td>88.6</td>\n",
       "      <td>...</td>\n",
       "      <td>130</td>\n",
       "      <td>mpfi</td>\n",
       "      <td>3.47</td>\n",
       "      <td>2.68</td>\n",
       "      <td>9.0</td>\n",
       "      <td>111</td>\n",
       "      <td>5000</td>\n",
       "      <td>21</td>\n",
       "      <td>27</td>\n",
       "      <td>13495.0</td>\n",
       "    </tr>\n",
       "    <tr>\n",
       "      <th>1</th>\n",
       "      <td>2</td>\n",
       "      <td>3</td>\n",
       "      <td>alfa-romero stelvio</td>\n",
       "      <td>gas</td>\n",
       "      <td>std</td>\n",
       "      <td>two</td>\n",
       "      <td>convertible</td>\n",
       "      <td>rwd</td>\n",
       "      <td>front</td>\n",
       "      <td>88.6</td>\n",
       "      <td>...</td>\n",
       "      <td>130</td>\n",
       "      <td>mpfi</td>\n",
       "      <td>3.47</td>\n",
       "      <td>2.68</td>\n",
       "      <td>9.0</td>\n",
       "      <td>111</td>\n",
       "      <td>5000</td>\n",
       "      <td>21</td>\n",
       "      <td>27</td>\n",
       "      <td>16500.0</td>\n",
       "    </tr>\n",
       "    <tr>\n",
       "      <th>2</th>\n",
       "      <td>3</td>\n",
       "      <td>1</td>\n",
       "      <td>alfa-romero Quadrifoglio</td>\n",
       "      <td>gas</td>\n",
       "      <td>std</td>\n",
       "      <td>two</td>\n",
       "      <td>hatchback</td>\n",
       "      <td>rwd</td>\n",
       "      <td>front</td>\n",
       "      <td>94.5</td>\n",
       "      <td>...</td>\n",
       "      <td>152</td>\n",
       "      <td>mpfi</td>\n",
       "      <td>2.68</td>\n",
       "      <td>3.47</td>\n",
       "      <td>9.0</td>\n",
       "      <td>154</td>\n",
       "      <td>5000</td>\n",
       "      <td>19</td>\n",
       "      <td>26</td>\n",
       "      <td>16500.0</td>\n",
       "    </tr>\n",
       "    <tr>\n",
       "      <th>3</th>\n",
       "      <td>4</td>\n",
       "      <td>2</td>\n",
       "      <td>audi 100 ls</td>\n",
       "      <td>gas</td>\n",
       "      <td>std</td>\n",
       "      <td>four</td>\n",
       "      <td>sedan</td>\n",
       "      <td>fwd</td>\n",
       "      <td>front</td>\n",
       "      <td>99.8</td>\n",
       "      <td>...</td>\n",
       "      <td>109</td>\n",
       "      <td>mpfi</td>\n",
       "      <td>3.19</td>\n",
       "      <td>3.40</td>\n",
       "      <td>10.0</td>\n",
       "      <td>102</td>\n",
       "      <td>5500</td>\n",
       "      <td>24</td>\n",
       "      <td>30</td>\n",
       "      <td>13950.0</td>\n",
       "    </tr>\n",
       "    <tr>\n",
       "      <th>4</th>\n",
       "      <td>5</td>\n",
       "      <td>2</td>\n",
       "      <td>audi 100ls</td>\n",
       "      <td>gas</td>\n",
       "      <td>std</td>\n",
       "      <td>four</td>\n",
       "      <td>sedan</td>\n",
       "      <td>4wd</td>\n",
       "      <td>front</td>\n",
       "      <td>99.4</td>\n",
       "      <td>...</td>\n",
       "      <td>136</td>\n",
       "      <td>mpfi</td>\n",
       "      <td>3.19</td>\n",
       "      <td>3.40</td>\n",
       "      <td>8.0</td>\n",
       "      <td>115</td>\n",
       "      <td>5500</td>\n",
       "      <td>18</td>\n",
       "      <td>22</td>\n",
       "      <td>17450.0</td>\n",
       "    </tr>\n",
       "    <tr>\n",
       "      <th>...</th>\n",
       "      <td>...</td>\n",
       "      <td>...</td>\n",
       "      <td>...</td>\n",
       "      <td>...</td>\n",
       "      <td>...</td>\n",
       "      <td>...</td>\n",
       "      <td>...</td>\n",
       "      <td>...</td>\n",
       "      <td>...</td>\n",
       "      <td>...</td>\n",
       "      <td>...</td>\n",
       "      <td>...</td>\n",
       "      <td>...</td>\n",
       "      <td>...</td>\n",
       "      <td>...</td>\n",
       "      <td>...</td>\n",
       "      <td>...</td>\n",
       "      <td>...</td>\n",
       "      <td>...</td>\n",
       "      <td>...</td>\n",
       "      <td>...</td>\n",
       "    </tr>\n",
       "    <tr>\n",
       "      <th>200</th>\n",
       "      <td>201</td>\n",
       "      <td>-1</td>\n",
       "      <td>volvo 145e (sw)</td>\n",
       "      <td>gas</td>\n",
       "      <td>std</td>\n",
       "      <td>four</td>\n",
       "      <td>sedan</td>\n",
       "      <td>rwd</td>\n",
       "      <td>front</td>\n",
       "      <td>109.1</td>\n",
       "      <td>...</td>\n",
       "      <td>141</td>\n",
       "      <td>mpfi</td>\n",
       "      <td>3.78</td>\n",
       "      <td>3.15</td>\n",
       "      <td>9.5</td>\n",
       "      <td>114</td>\n",
       "      <td>5400</td>\n",
       "      <td>23</td>\n",
       "      <td>28</td>\n",
       "      <td>16845.0</td>\n",
       "    </tr>\n",
       "    <tr>\n",
       "      <th>201</th>\n",
       "      <td>202</td>\n",
       "      <td>-1</td>\n",
       "      <td>volvo 144ea</td>\n",
       "      <td>gas</td>\n",
       "      <td>turbo</td>\n",
       "      <td>four</td>\n",
       "      <td>sedan</td>\n",
       "      <td>rwd</td>\n",
       "      <td>front</td>\n",
       "      <td>109.1</td>\n",
       "      <td>...</td>\n",
       "      <td>141</td>\n",
       "      <td>mpfi</td>\n",
       "      <td>3.78</td>\n",
       "      <td>3.15</td>\n",
       "      <td>8.7</td>\n",
       "      <td>160</td>\n",
       "      <td>5300</td>\n",
       "      <td>19</td>\n",
       "      <td>25</td>\n",
       "      <td>19045.0</td>\n",
       "    </tr>\n",
       "    <tr>\n",
       "      <th>202</th>\n",
       "      <td>203</td>\n",
       "      <td>-1</td>\n",
       "      <td>volvo 244dl</td>\n",
       "      <td>gas</td>\n",
       "      <td>std</td>\n",
       "      <td>four</td>\n",
       "      <td>sedan</td>\n",
       "      <td>rwd</td>\n",
       "      <td>front</td>\n",
       "      <td>109.1</td>\n",
       "      <td>...</td>\n",
       "      <td>173</td>\n",
       "      <td>mpfi</td>\n",
       "      <td>3.58</td>\n",
       "      <td>2.87</td>\n",
       "      <td>8.8</td>\n",
       "      <td>134</td>\n",
       "      <td>5500</td>\n",
       "      <td>18</td>\n",
       "      <td>23</td>\n",
       "      <td>21485.0</td>\n",
       "    </tr>\n",
       "    <tr>\n",
       "      <th>203</th>\n",
       "      <td>204</td>\n",
       "      <td>-1</td>\n",
       "      <td>volvo 246</td>\n",
       "      <td>diesel</td>\n",
       "      <td>turbo</td>\n",
       "      <td>four</td>\n",
       "      <td>sedan</td>\n",
       "      <td>rwd</td>\n",
       "      <td>front</td>\n",
       "      <td>109.1</td>\n",
       "      <td>...</td>\n",
       "      <td>145</td>\n",
       "      <td>idi</td>\n",
       "      <td>3.01</td>\n",
       "      <td>3.40</td>\n",
       "      <td>23.0</td>\n",
       "      <td>106</td>\n",
       "      <td>4800</td>\n",
       "      <td>26</td>\n",
       "      <td>27</td>\n",
       "      <td>22470.0</td>\n",
       "    </tr>\n",
       "    <tr>\n",
       "      <th>204</th>\n",
       "      <td>205</td>\n",
       "      <td>-1</td>\n",
       "      <td>volvo 264gl</td>\n",
       "      <td>gas</td>\n",
       "      <td>turbo</td>\n",
       "      <td>four</td>\n",
       "      <td>sedan</td>\n",
       "      <td>rwd</td>\n",
       "      <td>front</td>\n",
       "      <td>109.1</td>\n",
       "      <td>...</td>\n",
       "      <td>141</td>\n",
       "      <td>mpfi</td>\n",
       "      <td>3.78</td>\n",
       "      <td>3.15</td>\n",
       "      <td>9.5</td>\n",
       "      <td>114</td>\n",
       "      <td>5400</td>\n",
       "      <td>19</td>\n",
       "      <td>25</td>\n",
       "      <td>22625.0</td>\n",
       "    </tr>\n",
       "  </tbody>\n",
       "</table>\n",
       "<p>205 rows × 26 columns</p>\n",
       "</div>"
      ],
      "text/plain": [
       "     car_ID  symboling                   CarName fueltype aspiration  \\\n",
       "0         1          3        alfa-romero giulia      gas        std   \n",
       "1         2          3       alfa-romero stelvio      gas        std   \n",
       "2         3          1  alfa-romero Quadrifoglio      gas        std   \n",
       "3         4          2               audi 100 ls      gas        std   \n",
       "4         5          2                audi 100ls      gas        std   \n",
       "..      ...        ...                       ...      ...        ...   \n",
       "200     201         -1           volvo 145e (sw)      gas        std   \n",
       "201     202         -1               volvo 144ea      gas      turbo   \n",
       "202     203         -1               volvo 244dl      gas        std   \n",
       "203     204         -1                 volvo 246   diesel      turbo   \n",
       "204     205         -1               volvo 264gl      gas      turbo   \n",
       "\n",
       "    doornumber      carbody drivewheel enginelocation  wheelbase  ...  \\\n",
       "0          two  convertible        rwd          front       88.6  ...   \n",
       "1          two  convertible        rwd          front       88.6  ...   \n",
       "2          two    hatchback        rwd          front       94.5  ...   \n",
       "3         four        sedan        fwd          front       99.8  ...   \n",
       "4         four        sedan        4wd          front       99.4  ...   \n",
       "..         ...          ...        ...            ...        ...  ...   \n",
       "200       four        sedan        rwd          front      109.1  ...   \n",
       "201       four        sedan        rwd          front      109.1  ...   \n",
       "202       four        sedan        rwd          front      109.1  ...   \n",
       "203       four        sedan        rwd          front      109.1  ...   \n",
       "204       four        sedan        rwd          front      109.1  ...   \n",
       "\n",
       "     enginesize  fuelsystem  boreratio  stroke compressionratio horsepower  \\\n",
       "0           130        mpfi       3.47    2.68              9.0        111   \n",
       "1           130        mpfi       3.47    2.68              9.0        111   \n",
       "2           152        mpfi       2.68    3.47              9.0        154   \n",
       "3           109        mpfi       3.19    3.40             10.0        102   \n",
       "4           136        mpfi       3.19    3.40              8.0        115   \n",
       "..          ...         ...        ...     ...              ...        ...   \n",
       "200         141        mpfi       3.78    3.15              9.5        114   \n",
       "201         141        mpfi       3.78    3.15              8.7        160   \n",
       "202         173        mpfi       3.58    2.87              8.8        134   \n",
       "203         145         idi       3.01    3.40             23.0        106   \n",
       "204         141        mpfi       3.78    3.15              9.5        114   \n",
       "\n",
       "     peakrpm citympg  highwaympg    price  \n",
       "0       5000      21          27  13495.0  \n",
       "1       5000      21          27  16500.0  \n",
       "2       5000      19          26  16500.0  \n",
       "3       5500      24          30  13950.0  \n",
       "4       5500      18          22  17450.0  \n",
       "..       ...     ...         ...      ...  \n",
       "200     5400      23          28  16845.0  \n",
       "201     5300      19          25  19045.0  \n",
       "202     5500      18          23  21485.0  \n",
       "203     4800      26          27  22470.0  \n",
       "204     5400      19          25  22625.0  \n",
       "\n",
       "[205 rows x 26 columns]"
      ]
     },
     "execution_count": 59,
     "metadata": {},
     "output_type": "execute_result"
    }
   ],
   "source": [
    "ab= ya.read_csv('CarPrice.csv')\n",
    "ab"
   ]
  },
  {
   "cell_type": "code",
   "execution_count": 60,
   "id": "164b51f4-d511-4185-a6d6-d21e22210048",
   "metadata": {},
   "outputs": [
    {
     "data": {
      "text/html": [
       "<style>#sk-container-id-13 {color: black;background-color: white;}#sk-container-id-13 pre{padding: 0;}#sk-container-id-13 div.sk-toggleable {background-color: white;}#sk-container-id-13 label.sk-toggleable__label {cursor: pointer;display: block;width: 100%;margin-bottom: 0;padding: 0.3em;box-sizing: border-box;text-align: center;}#sk-container-id-13 label.sk-toggleable__label-arrow:before {content: \"▸\";float: left;margin-right: 0.25em;color: #696969;}#sk-container-id-13 label.sk-toggleable__label-arrow:hover:before {color: black;}#sk-container-id-13 div.sk-estimator:hover label.sk-toggleable__label-arrow:before {color: black;}#sk-container-id-13 div.sk-toggleable__content {max-height: 0;max-width: 0;overflow: hidden;text-align: left;background-color: #f0f8ff;}#sk-container-id-13 div.sk-toggleable__content pre {margin: 0.2em;color: black;border-radius: 0.25em;background-color: #f0f8ff;}#sk-container-id-13 input.sk-toggleable__control:checked~div.sk-toggleable__content {max-height: 200px;max-width: 100%;overflow: auto;}#sk-container-id-13 input.sk-toggleable__control:checked~label.sk-toggleable__label-arrow:before {content: \"▾\";}#sk-container-id-13 div.sk-estimator input.sk-toggleable__control:checked~label.sk-toggleable__label {background-color: #d4ebff;}#sk-container-id-13 div.sk-label input.sk-toggleable__control:checked~label.sk-toggleable__label {background-color: #d4ebff;}#sk-container-id-13 input.sk-hidden--visually {border: 0;clip: rect(1px 1px 1px 1px);clip: rect(1px, 1px, 1px, 1px);height: 1px;margin: -1px;overflow: hidden;padding: 0;position: absolute;width: 1px;}#sk-container-id-13 div.sk-estimator {font-family: monospace;background-color: #f0f8ff;border: 1px dotted black;border-radius: 0.25em;box-sizing: border-box;margin-bottom: 0.5em;}#sk-container-id-13 div.sk-estimator:hover {background-color: #d4ebff;}#sk-container-id-13 div.sk-parallel-item::after {content: \"\";width: 100%;border-bottom: 1px solid gray;flex-grow: 1;}#sk-container-id-13 div.sk-label:hover label.sk-toggleable__label {background-color: #d4ebff;}#sk-container-id-13 div.sk-serial::before {content: \"\";position: absolute;border-left: 1px solid gray;box-sizing: border-box;top: 0;bottom: 0;left: 50%;z-index: 0;}#sk-container-id-13 div.sk-serial {display: flex;flex-direction: column;align-items: center;background-color: white;padding-right: 0.2em;padding-left: 0.2em;position: relative;}#sk-container-id-13 div.sk-item {position: relative;z-index: 1;}#sk-container-id-13 div.sk-parallel {display: flex;align-items: stretch;justify-content: center;background-color: white;position: relative;}#sk-container-id-13 div.sk-item::before, #sk-container-id-13 div.sk-parallel-item::before {content: \"\";position: absolute;border-left: 1px solid gray;box-sizing: border-box;top: 0;bottom: 0;left: 50%;z-index: -1;}#sk-container-id-13 div.sk-parallel-item {display: flex;flex-direction: column;z-index: 1;position: relative;background-color: white;}#sk-container-id-13 div.sk-parallel-item:first-child::after {align-self: flex-end;width: 50%;}#sk-container-id-13 div.sk-parallel-item:last-child::after {align-self: flex-start;width: 50%;}#sk-container-id-13 div.sk-parallel-item:only-child::after {width: 0;}#sk-container-id-13 div.sk-dashed-wrapped {border: 1px dashed gray;margin: 0 0.4em 0.5em 0.4em;box-sizing: border-box;padding-bottom: 0.4em;background-color: white;}#sk-container-id-13 div.sk-label label {font-family: monospace;font-weight: bold;display: inline-block;line-height: 1.2em;}#sk-container-id-13 div.sk-label-container {text-align: center;}#sk-container-id-13 div.sk-container {/* jupyter's `normalize.less` sets `[hidden] { display: none; }` but bootstrap.min.css set `[hidden] { display: none !important; }` so we also need the `!important` here to be able to override the default hidden behavior on the sphinx rendered scikit-learn.org. See: https://github.com/scikit-learn/scikit-learn/issues/21755 */display: inline-block !important;position: relative;}#sk-container-id-13 div.sk-text-repr-fallback {display: none;}</style><div id=\"sk-container-id-13\" class=\"sk-top-container\"><div class=\"sk-text-repr-fallback\"><pre>LinearRegression()</pre><b>In a Jupyter environment, please rerun this cell to show the HTML representation or trust the notebook. <br />On GitHub, the HTML representation is unable to render, please try loading this page with nbviewer.org.</b></div><div class=\"sk-container\" hidden><div class=\"sk-item\"><div class=\"sk-estimator sk-toggleable\"><input class=\"sk-toggleable__control sk-hidden--visually\" id=\"sk-estimator-id-13\" type=\"checkbox\" checked><label for=\"sk-estimator-id-13\" class=\"sk-toggleable__label sk-toggleable__label-arrow\">LinearRegression</label><div class=\"sk-toggleable__content\"><pre>LinearRegression()</pre></div></div></div></div></div>"
      ],
      "text/plain": [
       "LinearRegression()"
      ]
     },
     "execution_count": 60,
     "metadata": {},
     "output_type": "execute_result"
    }
   ],
   "source": [
    "b=ab[['price']]\n",
    "a= ab[['highwaympg']]\n",
    "lm.fit(a,b)"
   ]
  },
  {
   "cell_type": "code",
   "execution_count": 30,
   "id": "1a4d5655-c49e-4ca9-8fc6-bc10d4251549",
   "metadata": {},
   "outputs": [
    {
     "data": {
      "text/plain": [
       "array([[16312.47322074],\n",
       "       [16312.47322074],\n",
       "       [17121.74674903],\n",
       "       [13884.65263588],\n",
       "       [20358.84086218]])"
      ]
     },
     "execution_count": 30,
     "metadata": {},
     "output_type": "execute_result"
    }
   ],
   "source": [
    "y=lm.predict(a)\n",
    "y[0:5]"
   ]
  },
  {
   "cell_type": "code",
   "execution_count": 22,
   "id": "9c622ce6-40ed-416c-a2e3-c6fb28787b6e",
   "metadata": {},
   "outputs": [
    {
     "name": "stdout",
     "output_type": "stream",
     "text": [
      "[38162.85848448]\n",
      "[[-809.27352829]]\n"
     ]
    }
   ],
   "source": [
    "print(lm.intercept_)\n",
    "print(lm.coef_)"
   ]
  },
  {
   "cell_type": "code",
   "execution_count": 14,
   "id": "75d1aacc-7016-416b-97dd-d259af98e77b",
   "metadata": {},
   "outputs": [
    {
     "data": {
      "text/plain": [
       "<Axes: xlabel='highwaympg', ylabel='price'>"
      ]
     },
     "execution_count": 14,
     "metadata": {},
     "output_type": "execute_result"
    },
    {
     "data": {
      "image/png": "[encoded data removed]",
      "text/plain": [
       "<Figure size 640x480 with 1 Axes>"
      ]
     },
     "metadata": {},
     "output_type": "display_data"
    }
   ],
   "source": [
    "xy.regplot(x = 'highwaympg',y='price', data = ab)\n"
   ]
  },
  {
   "cell_type": "code",
   "execution_count": 32,
   "id": "2c217cea-e68c-4e74-8d02-5e406f942091",
   "metadata": {},
   "outputs": [
    {
     "data": {
      "text/plain": [
       "13884.65263578"
      ]
     },
     "execution_count": 32,
     "metadata": {},
     "output_type": "execute_result"
    }
   ],
   "source": [
    "y=-809.27352829*30+38162.85848448\n",
    "y"
   ]
  },
  {
   "cell_type": "code",
   "execution_count": 31,
   "id": "3fefd745-582a-4b56-9881-e1fb07fce4b5",
   "metadata": {},
   "outputs": [
    {
     "data": {
      "text/html": [
       "<div>\n",
       "<style scoped>\n",
       "    .dataframe tbody tr th:only-of-type {\n",
       "        vertical-align: middle;\n",
       "    }\n",
       "\n",
       "    .dataframe tbody tr th {\n",
       "        vertical-align: top;\n",
       "    }\n",
       "\n",
       "    .dataframe thead th {\n",
       "        text-align: right;\n",
       "    }\n",
       "</style>\n",
       "<table border=\"1\" class=\"dataframe\">\n",
       "  <thead>\n",
       "    <tr style=\"text-align: right;\">\n",
       "      <th></th>\n",
       "      <th>YearsExperience</th>\n",
       "      <th>Salary</th>\n",
       "    </tr>\n",
       "  </thead>\n",
       "  <tbody>\n",
       "    <tr>\n",
       "      <th>0</th>\n",
       "      <td>1.1</td>\n",
       "      <td>39343.0</td>\n",
       "    </tr>\n",
       "    <tr>\n",
       "      <th>1</th>\n",
       "      <td>1.3</td>\n",
       "      <td>46205.0</td>\n",
       "    </tr>\n",
       "    <tr>\n",
       "      <th>2</th>\n",
       "      <td>1.5</td>\n",
       "      <td>37731.0</td>\n",
       "    </tr>\n",
       "    <tr>\n",
       "      <th>3</th>\n",
       "      <td>2.0</td>\n",
       "      <td>43525.0</td>\n",
       "    </tr>\n",
       "    <tr>\n",
       "      <th>4</th>\n",
       "      <td>2.2</td>\n",
       "      <td>39891.0</td>\n",
       "    </tr>\n",
       "  </tbody>\n",
       "</table>\n",
       "</div>"
      ],
      "text/plain": [
       "   YearsExperience   Salary\n",
       "0              1.1  39343.0\n",
       "1              1.3  46205.0\n",
       "2              1.5  37731.0\n",
       "3              2.0  43525.0\n",
       "4              2.2  39891.0"
      ]
     },
     "execution_count": 31,
     "metadata": {},
     "output_type": "execute_result"
    }
   ],
   "source": [
    "ab= ya.read_csv('Salary.csv')\n",
    "ab.head()"
   ]
  },
  {
   "cell_type": "code",
   "execution_count": 48,
   "id": "7b63e597-9022-43d9-ae29-cb6856115932",
   "metadata": {},
   "outputs": [
    {
     "data": {
      "text/plain": [
       "<Axes: xlabel='YearsExperience', ylabel='Salary'>"
      ]
     },
     "execution_count": 48,
     "metadata": {},
     "output_type": "execute_result"
    },
    {
     "data": {
      "image/png": "[encoded data removed]",
      "text/plain": [
       "<Figure size 640x480 with 1 Axes>"
      ]
     },
     "metadata": {},
     "output_type": "display_data"
    }
   ],
   "source": [
    "x=[['YearsExperience']]\n",
    "y=[['Salary']]\n",
    "xy.regplot(x='YearsExperience',y='Salary',data=ab)"
   ]
  },
  {
   "cell_type": "code",
   "execution_count": null,
   "id": "1c6ee4b8-e743-44e0-bc2f-61e5496ec884",
   "metadata": {},
   "outputs": [],
   "source": []
  },
  {
   "cell_type": "code",
   "execution_count": 49,
   "id": "e05cf6b9-1366-4d60-a5e7-16a60511d0fd",
   "metadata": {},
   "outputs": [
    {
     "ename": "ValueError",
     "evalue": "With n_samples=1, test_size=0.2 and train_size=None, the resulting train set will be empty. Adjust any of the aforementioned parameters.",
     "output_type": "error",
     "traceback": [
      "\u001b[1;31m---------------------------------------------------------------------------\u001b[0m",
      "\u001b[1;31mValueError\u001b[0m                                Traceback (most recent call last)",
      "Cell \u001b[1;32mIn[49], line 3\u001b[0m\n\u001b[0;32m      1\u001b[0m \u001b[38;5;66;03m# Spitting the model\u001b[39;00m\n\u001b[0;32m      2\u001b[0m \u001b[38;5;28;01mfrom\u001b[39;00m \u001b[38;5;21;01msklearn\u001b[39;00m\u001b[38;5;21;01m.\u001b[39;00m\u001b[38;5;21;01mmodel_selection\u001b[39;00m \u001b[38;5;28;01mimport\u001b[39;00m train_test_split\n\u001b[1;32m----> 3\u001b[0m x_train,x_test,y_train,y_test\u001b[38;5;241m=\u001b[39m train_test_split(x,y, test_size\u001b[38;5;241m=\u001b[39m\u001b[38;5;241m0.2\u001b[39m)\n\u001b[0;32m      4\u001b[0m \u001b[38;5;66;03m#creating the model\u001b[39;00m\n\u001b[0;32m      5\u001b[0m \u001b[38;5;28;01mfrom\u001b[39;00m \u001b[38;5;21;01msklearn\u001b[39;00m\u001b[38;5;21;01m.\u001b[39;00m\u001b[38;5;21;01mlinear_model\u001b[39;00m \u001b[38;5;28;01mimport\u001b[39;00m LinearRegression\n",
      "File \u001b[1;32m~\\anaconda3\\Lib\\site-packages\\sklearn\\model_selection\\_split.py:2562\u001b[0m, in \u001b[0;36mtrain_test_split\u001b[1;34m(test_size, train_size, random_state, shuffle, stratify, *arrays)\u001b[0m\n\u001b[0;32m   2559\u001b[0m arrays \u001b[38;5;241m=\u001b[39m indexable(\u001b[38;5;241m*\u001b[39marrays)\n\u001b[0;32m   2561\u001b[0m n_samples \u001b[38;5;241m=\u001b[39m _num_samples(arrays[\u001b[38;5;241m0\u001b[39m])\n\u001b[1;32m-> 2562\u001b[0m n_train, n_test \u001b[38;5;241m=\u001b[39m _validate_shuffle_split(\n\u001b[0;32m   2563\u001b[0m     n_samples, test_size, train_size, default_test_size\u001b[38;5;241m=\u001b[39m\u001b[38;5;241m0.25\u001b[39m\n\u001b[0;32m   2564\u001b[0m )\n\u001b[0;32m   2566\u001b[0m \u001b[38;5;28;01mif\u001b[39;00m shuffle \u001b[38;5;129;01mis\u001b[39;00m \u001b[38;5;28;01mFalse\u001b[39;00m:\n\u001b[0;32m   2567\u001b[0m     \u001b[38;5;28;01mif\u001b[39;00m stratify \u001b[38;5;129;01mis\u001b[39;00m \u001b[38;5;129;01mnot\u001b[39;00m \u001b[38;5;28;01mNone\u001b[39;00m:\n",
      "File \u001b[1;32m~\\anaconda3\\Lib\\site-packages\\sklearn\\model_selection\\_split.py:2236\u001b[0m, in \u001b[0;36m_validate_shuffle_split\u001b[1;34m(n_samples, test_size, train_size, default_test_size)\u001b[0m\n\u001b[0;32m   2233\u001b[0m n_train, n_test \u001b[38;5;241m=\u001b[39m \u001b[38;5;28mint\u001b[39m(n_train), \u001b[38;5;28mint\u001b[39m(n_test)\n\u001b[0;32m   2235\u001b[0m \u001b[38;5;28;01mif\u001b[39;00m n_train \u001b[38;5;241m==\u001b[39m \u001b[38;5;241m0\u001b[39m:\n\u001b[1;32m-> 2236\u001b[0m     \u001b[38;5;28;01mraise\u001b[39;00m \u001b[38;5;167;01mValueError\u001b[39;00m(\n\u001b[0;32m   2237\u001b[0m         \u001b[38;5;124m\"\u001b[39m\u001b[38;5;124mWith n_samples=\u001b[39m\u001b[38;5;132;01m{}\u001b[39;00m\u001b[38;5;124m, test_size=\u001b[39m\u001b[38;5;132;01m{}\u001b[39;00m\u001b[38;5;124m and train_size=\u001b[39m\u001b[38;5;132;01m{}\u001b[39;00m\u001b[38;5;124m, the \u001b[39m\u001b[38;5;124m\"\u001b[39m\n\u001b[0;32m   2238\u001b[0m         \u001b[38;5;124m\"\u001b[39m\u001b[38;5;124mresulting train set will be empty. Adjust any of the \u001b[39m\u001b[38;5;124m\"\u001b[39m\n\u001b[0;32m   2239\u001b[0m         \u001b[38;5;124m\"\u001b[39m\u001b[38;5;124maforementioned parameters.\u001b[39m\u001b[38;5;124m\"\u001b[39m\u001b[38;5;241m.\u001b[39mformat(n_samples, test_size, train_size)\n\u001b[0;32m   2240\u001b[0m     )\n\u001b[0;32m   2242\u001b[0m \u001b[38;5;28;01mreturn\u001b[39;00m n_train, n_test\n",
      "\u001b[1;31mValueError\u001b[0m: With n_samples=1, test_size=0.2 and train_size=None, the resulting train set will be empty. Adjust any of the aforementioned parameters."
     ]
    }
   ],
   "source": [
    "# Spitting the model\n",
    "from sklearn.model_selection import train_test_split\n",
    "x_train,x_test,y_train,y_test= train_test_split(x,y, test_size=0.2)\n",
    "#creating the model\n",
    "from sklearn.linear_model import LinearRegression\n",
    "lm=LinearRegression()\n",
    "#training the model\n",
    "lm.fit(x_train,y_train)\n",
    "#using the model to predict values(Salary)\n",
    "predict_y_test = lm.predict(x_test)\n",
    "predict_y_train = lm.predict(x_train)\n",
    "predict_y_test"
   ]
  },
  {
   "cell_type": "markdown",
   "id": "4dfb7e64-93cf-4b9d-b3c9-9bdc97bde751",
   "metadata": {},
   "source": [
    "### Practice 28/11/2024"
   ]
  },
  {
   "cell_type": "markdown",
   "id": "e7de03f7-2cb6-4596-9429-c5f1dae4e345",
   "metadata": {},
   "source": [
    "#### Develop a multiple linear model using the following variables as predictors of price \n",
    " ###### Equation  y = c+b1*x1 + b2*x2 +b3*x3 +b4*x4 +...+bn*xn\n",
    " ###### where c=intercept(value of y when x=0 ), b = coefficient(slope/gradient) and x= predictor variable"
   ]
  },
  {
   "cell_type": "code",
   "execution_count": 61,
   "id": "725a9c75-1123-49ec-a418-b6aee748b517",
   "metadata": {},
   "outputs": [
    {
     "data": {
      "text/html": [
       "<div>\n",
       "<style scoped>\n",
       "    .dataframe tbody tr th:only-of-type {\n",
       "        vertical-align: middle;\n",
       "    }\n",
       "\n",
       "    .dataframe tbody tr th {\n",
       "        vertical-align: top;\n",
       "    }\n",
       "\n",
       "    .dataframe thead th {\n",
       "        text-align: right;\n",
       "    }\n",
       "</style>\n",
       "<table border=\"1\" class=\"dataframe\">\n",
       "  <thead>\n",
       "    <tr style=\"text-align: right;\">\n",
       "      <th></th>\n",
       "      <th>horsepower</th>\n",
       "      <th>enginesize</th>\n",
       "      <th>curbweight</th>\n",
       "      <th>highwaympg</th>\n",
       "    </tr>\n",
       "  </thead>\n",
       "  <tbody>\n",
       "    <tr>\n",
       "      <th>0</th>\n",
       "      <td>111</td>\n",
       "      <td>130</td>\n",
       "      <td>2548</td>\n",
       "      <td>27</td>\n",
       "    </tr>\n",
       "    <tr>\n",
       "      <th>1</th>\n",
       "      <td>111</td>\n",
       "      <td>130</td>\n",
       "      <td>2548</td>\n",
       "      <td>27</td>\n",
       "    </tr>\n",
       "    <tr>\n",
       "      <th>2</th>\n",
       "      <td>154</td>\n",
       "      <td>152</td>\n",
       "      <td>2823</td>\n",
       "      <td>26</td>\n",
       "    </tr>\n",
       "    <tr>\n",
       "      <th>3</th>\n",
       "      <td>102</td>\n",
       "      <td>109</td>\n",
       "      <td>2337</td>\n",
       "      <td>30</td>\n",
       "    </tr>\n",
       "    <tr>\n",
       "      <th>4</th>\n",
       "      <td>115</td>\n",
       "      <td>136</td>\n",
       "      <td>2824</td>\n",
       "      <td>22</td>\n",
       "    </tr>\n",
       "    <tr>\n",
       "      <th>...</th>\n",
       "      <td>...</td>\n",
       "      <td>...</td>\n",
       "      <td>...</td>\n",
       "      <td>...</td>\n",
       "    </tr>\n",
       "    <tr>\n",
       "      <th>200</th>\n",
       "      <td>114</td>\n",
       "      <td>141</td>\n",
       "      <td>2952</td>\n",
       "      <td>28</td>\n",
       "    </tr>\n",
       "    <tr>\n",
       "      <th>201</th>\n",
       "      <td>160</td>\n",
       "      <td>141</td>\n",
       "      <td>3049</td>\n",
       "      <td>25</td>\n",
       "    </tr>\n",
       "    <tr>\n",
       "      <th>202</th>\n",
       "      <td>134</td>\n",
       "      <td>173</td>\n",
       "      <td>3012</td>\n",
       "      <td>23</td>\n",
       "    </tr>\n",
       "    <tr>\n",
       "      <th>203</th>\n",
       "      <td>106</td>\n",
       "      <td>145</td>\n",
       "      <td>3217</td>\n",
       "      <td>27</td>\n",
       "    </tr>\n",
       "    <tr>\n",
       "      <th>204</th>\n",
       "      <td>114</td>\n",
       "      <td>141</td>\n",
       "      <td>3062</td>\n",
       "      <td>25</td>\n",
       "    </tr>\n",
       "  </tbody>\n",
       "</table>\n",
       "<p>205 rows × 4 columns</p>\n",
       "</div>"
      ],
      "text/plain": [
       "     horsepower  enginesize  curbweight  highwaympg\n",
       "0           111         130        2548          27\n",
       "1           111         130        2548          27\n",
       "2           154         152        2823          26\n",
       "3           102         109        2337          30\n",
       "4           115         136        2824          22\n",
       "..          ...         ...         ...         ...\n",
       "200         114         141        2952          28\n",
       "201         160         141        3049          25\n",
       "202         134         173        3012          23\n",
       "203         106         145        3217          27\n",
       "204         114         141        3062          25\n",
       "\n",
       "[205 rows x 4 columns]"
      ]
     },
     "execution_count": 61,
     "metadata": {},
     "output_type": "execute_result"
    }
   ],
   "source": [
    "# Select the feactures to use from the dataset\n",
    "features = ab[['horsepower', 'enginesize','curbweight', 'highwaympg']]\n",
    "y = ab[['price']]\n",
    "features"
   ]
  },
  {
   "cell_type": "code",
   "execution_count": 62,
   "id": "421fe77f-b0c7-4e6e-8af3-aca379198359",
   "metadata": {},
   "outputs": [
    {
     "data": {
      "text/html": [
       "<style>#sk-container-id-14 {color: black;background-color: white;}#sk-container-id-14 pre{padding: 0;}#sk-container-id-14 div.sk-toggleable {background-color: white;}#sk-container-id-14 label.sk-toggleable__label {cursor: pointer;display: block;width: 100%;margin-bottom: 0;padding: 0.3em;box-sizing: border-box;text-align: center;}#sk-container-id-14 label.sk-toggleable__label-arrow:before {content: \"▸\";float: left;margin-right: 0.25em;color: #696969;}#sk-container-id-14 label.sk-toggleable__label-arrow:hover:before {color: black;}#sk-container-id-14 div.sk-estimator:hover label.sk-toggleable__label-arrow:before {color: black;}#sk-container-id-14 div.sk-toggleable__content {max-height: 0;max-width: 0;overflow: hidden;text-align: left;background-color: #f0f8ff;}#sk-container-id-14 div.sk-toggleable__content pre {margin: 0.2em;color: black;border-radius: 0.25em;background-color: #f0f8ff;}#sk-container-id-14 input.sk-toggleable__control:checked~div.sk-toggleable__content {max-height: 200px;max-width: 100%;overflow: auto;}#sk-container-id-14 input.sk-toggleable__control:checked~label.sk-toggleable__label-arrow:before {content: \"▾\";}#sk-container-id-14 div.sk-estimator input.sk-toggleable__control:checked~label.sk-toggleable__label {background-color: #d4ebff;}#sk-container-id-14 div.sk-label input.sk-toggleable__control:checked~label.sk-toggleable__label {background-color: #d4ebff;}#sk-container-id-14 input.sk-hidden--visually {border: 0;clip: rect(1px 1px 1px 1px);clip: rect(1px, 1px, 1px, 1px);height: 1px;margin: -1px;overflow: hidden;padding: 0;position: absolute;width: 1px;}#sk-container-id-14 div.sk-estimator {font-family: monospace;background-color: #f0f8ff;border: 1px dotted black;border-radius: 0.25em;box-sizing: border-box;margin-bottom: 0.5em;}#sk-container-id-14 div.sk-estimator:hover {background-color: #d4ebff;}#sk-container-id-14 div.sk-parallel-item::after {content: \"\";width: 100%;border-bottom: 1px solid gray;flex-grow: 1;}#sk-container-id-14 div.sk-label:hover label.sk-toggleable__label {background-color: #d4ebff;}#sk-container-id-14 div.sk-serial::before {content: \"\";position: absolute;border-left: 1px solid gray;box-sizing: border-box;top: 0;bottom: 0;left: 50%;z-index: 0;}#sk-container-id-14 div.sk-serial {display: flex;flex-direction: column;align-items: center;background-color: white;padding-right: 0.2em;padding-left: 0.2em;position: relative;}#sk-container-id-14 div.sk-item {position: relative;z-index: 1;}#sk-container-id-14 div.sk-parallel {display: flex;align-items: stretch;justify-content: center;background-color: white;position: relative;}#sk-container-id-14 div.sk-item::before, #sk-container-id-14 div.sk-parallel-item::before {content: \"\";position: absolute;border-left: 1px solid gray;box-sizing: border-box;top: 0;bottom: 0;left: 50%;z-index: -1;}#sk-container-id-14 div.sk-parallel-item {display: flex;flex-direction: column;z-index: 1;position: relative;background-color: white;}#sk-container-id-14 div.sk-parallel-item:first-child::after {align-self: flex-end;width: 50%;}#sk-container-id-14 div.sk-parallel-item:last-child::after {align-self: flex-start;width: 50%;}#sk-container-id-14 div.sk-parallel-item:only-child::after {width: 0;}#sk-container-id-14 div.sk-dashed-wrapped {border: 1px dashed gray;margin: 0 0.4em 0.5em 0.4em;box-sizing: border-box;padding-bottom: 0.4em;background-color: white;}#sk-container-id-14 div.sk-label label {font-family: monospace;font-weight: bold;display: inline-block;line-height: 1.2em;}#sk-container-id-14 div.sk-label-container {text-align: center;}#sk-container-id-14 div.sk-container {/* jupyter's `normalize.less` sets `[hidden] { display: none; }` but bootstrap.min.css set `[hidden] { display: none !important; }` so we also need the `!important` here to be able to override the default hidden behavior on the sphinx rendered scikit-learn.org. See: https://github.com/scikit-learn/scikit-learn/issues/21755 */display: inline-block !important;position: relative;}#sk-container-id-14 div.sk-text-repr-fallback {display: none;}</style><div id=\"sk-container-id-14\" class=\"sk-top-container\"><div class=\"sk-text-repr-fallback\"><pre>LinearRegression()</pre><b>In a Jupyter environment, please rerun this cell to show the HTML representation or trust the notebook. <br />On GitHub, the HTML representation is unable to render, please try loading this page with nbviewer.org.</b></div><div class=\"sk-container\" hidden><div class=\"sk-item\"><div class=\"sk-estimator sk-toggleable\"><input class=\"sk-toggleable__control sk-hidden--visually\" id=\"sk-estimator-id-14\" type=\"checkbox\" checked><label for=\"sk-estimator-id-14\" class=\"sk-toggleable__label sk-toggleable__label-arrow\">LinearRegression</label><div class=\"sk-toggleable__content\"><pre>LinearRegression()</pre></div></div></div></div></div>"
      ],
      "text/plain": [
       "LinearRegression()"
      ]
     },
     "execution_count": 62,
     "metadata": {},
     "output_type": "execute_result"
    }
   ],
   "source": [
    "from sklearn.linear_model import LinearRegression\n",
    "mlm = LinearRegression()\n",
    "mlm.fit(features,y)"
   ]
  },
  {
   "cell_type": "code",
   "execution_count": 69,
   "id": "a4fb6146-4b42-4025-81d7-730def8aa3f3",
   "metadata": {},
   "outputs": [
    {
     "data": {
      "text/plain": [
       "array([[13705.65874827],\n",
       "       [13705.65874827],\n",
       "       [19012.54779171],\n",
       "       [10642.39806986],\n",
       "       [15485.97998725]])"
      ]
     },
     "execution_count": 69,
     "metadata": {},
     "output_type": "execute_result"
    }
   ],
   "source": [
    "Price = mlm.predict(features)\n",
    "Price[:5]"
   ]
  },
  {
   "cell_type": "code",
   "execution_count": 64,
   "id": "3453782a-6d8d-4e9b-bf10-e9b6a1ce0779",
   "metadata": {},
   "outputs": [
    {
     "data": {
      "text/html": [
       "<div>\n",
       "<style scoped>\n",
       "    .dataframe tbody tr th:only-of-type {\n",
       "        vertical-align: middle;\n",
       "    }\n",
       "\n",
       "    .dataframe tbody tr th {\n",
       "        vertical-align: top;\n",
       "    }\n",
       "\n",
       "    .dataframe thead th {\n",
       "        text-align: right;\n",
       "    }\n",
       "</style>\n",
       "<table border=\"1\" class=\"dataframe\">\n",
       "  <thead>\n",
       "    <tr style=\"text-align: right;\">\n",
       "      <th></th>\n",
       "      <th>car_ID</th>\n",
       "      <th>symboling</th>\n",
       "      <th>CarName</th>\n",
       "      <th>fueltype</th>\n",
       "      <th>aspiration</th>\n",
       "      <th>doornumber</th>\n",
       "      <th>carbody</th>\n",
       "      <th>drivewheel</th>\n",
       "      <th>enginelocation</th>\n",
       "      <th>wheelbase</th>\n",
       "      <th>...</th>\n",
       "      <th>fuelsystem</th>\n",
       "      <th>boreratio</th>\n",
       "      <th>stroke</th>\n",
       "      <th>compressionratio</th>\n",
       "      <th>horsepower</th>\n",
       "      <th>peakrpm</th>\n",
       "      <th>citympg</th>\n",
       "      <th>highwaympg</th>\n",
       "      <th>price</th>\n",
       "      <th>Price</th>\n",
       "    </tr>\n",
       "  </thead>\n",
       "  <tbody>\n",
       "    <tr>\n",
       "      <th>0</th>\n",
       "      <td>1</td>\n",
       "      <td>3</td>\n",
       "      <td>alfa-romero giulia</td>\n",
       "      <td>gas</td>\n",
       "      <td>std</td>\n",
       "      <td>two</td>\n",
       "      <td>convertible</td>\n",
       "      <td>rwd</td>\n",
       "      <td>front</td>\n",
       "      <td>88.6</td>\n",
       "      <td>...</td>\n",
       "      <td>mpfi</td>\n",
       "      <td>3.47</td>\n",
       "      <td>2.68</td>\n",
       "      <td>9.0</td>\n",
       "      <td>111</td>\n",
       "      <td>5000</td>\n",
       "      <td>21</td>\n",
       "      <td>27</td>\n",
       "      <td>13495.0</td>\n",
       "      <td>13705.658748</td>\n",
       "    </tr>\n",
       "    <tr>\n",
       "      <th>1</th>\n",
       "      <td>2</td>\n",
       "      <td>3</td>\n",
       "      <td>alfa-romero stelvio</td>\n",
       "      <td>gas</td>\n",
       "      <td>std</td>\n",
       "      <td>two</td>\n",
       "      <td>convertible</td>\n",
       "      <td>rwd</td>\n",
       "      <td>front</td>\n",
       "      <td>88.6</td>\n",
       "      <td>...</td>\n",
       "      <td>mpfi</td>\n",
       "      <td>3.47</td>\n",
       "      <td>2.68</td>\n",
       "      <td>9.0</td>\n",
       "      <td>111</td>\n",
       "      <td>5000</td>\n",
       "      <td>21</td>\n",
       "      <td>27</td>\n",
       "      <td>16500.0</td>\n",
       "      <td>13705.658748</td>\n",
       "    </tr>\n",
       "    <tr>\n",
       "      <th>2</th>\n",
       "      <td>3</td>\n",
       "      <td>1</td>\n",
       "      <td>alfa-romero Quadrifoglio</td>\n",
       "      <td>gas</td>\n",
       "      <td>std</td>\n",
       "      <td>two</td>\n",
       "      <td>hatchback</td>\n",
       "      <td>rwd</td>\n",
       "      <td>front</td>\n",
       "      <td>94.5</td>\n",
       "      <td>...</td>\n",
       "      <td>mpfi</td>\n",
       "      <td>2.68</td>\n",
       "      <td>3.47</td>\n",
       "      <td>9.0</td>\n",
       "      <td>154</td>\n",
       "      <td>5000</td>\n",
       "      <td>19</td>\n",
       "      <td>26</td>\n",
       "      <td>16500.0</td>\n",
       "      <td>19012.547792</td>\n",
       "    </tr>\n",
       "    <tr>\n",
       "      <th>3</th>\n",
       "      <td>4</td>\n",
       "      <td>2</td>\n",
       "      <td>audi 100 ls</td>\n",
       "      <td>gas</td>\n",
       "      <td>std</td>\n",
       "      <td>four</td>\n",
       "      <td>sedan</td>\n",
       "      <td>fwd</td>\n",
       "      <td>front</td>\n",
       "      <td>99.8</td>\n",
       "      <td>...</td>\n",
       "      <td>mpfi</td>\n",
       "      <td>3.19</td>\n",
       "      <td>3.40</td>\n",
       "      <td>10.0</td>\n",
       "      <td>102</td>\n",
       "      <td>5500</td>\n",
       "      <td>24</td>\n",
       "      <td>30</td>\n",
       "      <td>13950.0</td>\n",
       "      <td>10642.398070</td>\n",
       "    </tr>\n",
       "    <tr>\n",
       "      <th>4</th>\n",
       "      <td>5</td>\n",
       "      <td>2</td>\n",
       "      <td>audi 100ls</td>\n",
       "      <td>gas</td>\n",
       "      <td>std</td>\n",
       "      <td>four</td>\n",
       "      <td>sedan</td>\n",
       "      <td>4wd</td>\n",
       "      <td>front</td>\n",
       "      <td>99.4</td>\n",
       "      <td>...</td>\n",
       "      <td>mpfi</td>\n",
       "      <td>3.19</td>\n",
       "      <td>3.40</td>\n",
       "      <td>8.0</td>\n",
       "      <td>115</td>\n",
       "      <td>5500</td>\n",
       "      <td>18</td>\n",
       "      <td>22</td>\n",
       "      <td>17450.0</td>\n",
       "      <td>15485.979987</td>\n",
       "    </tr>\n",
       "  </tbody>\n",
       "</table>\n",
       "<p>5 rows × 27 columns</p>\n",
       "</div>"
      ],
      "text/plain": [
       "   car_ID  symboling                   CarName fueltype aspiration doornumber  \\\n",
       "0       1          3        alfa-romero giulia      gas        std        two   \n",
       "1       2          3       alfa-romero stelvio      gas        std        two   \n",
       "2       3          1  alfa-romero Quadrifoglio      gas        std        two   \n",
       "3       4          2               audi 100 ls      gas        std       four   \n",
       "4       5          2                audi 100ls      gas        std       four   \n",
       "\n",
       "       carbody drivewheel enginelocation  wheelbase  ...  fuelsystem  \\\n",
       "0  convertible        rwd          front       88.6  ...        mpfi   \n",
       "1  convertible        rwd          front       88.6  ...        mpfi   \n",
       "2    hatchback        rwd          front       94.5  ...        mpfi   \n",
       "3        sedan        fwd          front       99.8  ...        mpfi   \n",
       "4        sedan        4wd          front       99.4  ...        mpfi   \n",
       "\n",
       "   boreratio  stroke  compressionratio horsepower peakrpm  citympg highwaympg  \\\n",
       "0       3.47    2.68               9.0        111    5000       21         27   \n",
       "1       3.47    2.68               9.0        111    5000       21         27   \n",
       "2       2.68    3.47               9.0        154    5000       19         26   \n",
       "3       3.19    3.40              10.0        102    5500       24         30   \n",
       "4       3.19    3.40               8.0        115    5500       18         22   \n",
       "\n",
       "     price         Price  \n",
       "0  13495.0  13705.658748  \n",
       "1  16500.0  13705.658748  \n",
       "2  16500.0  19012.547792  \n",
       "3  13950.0  10642.398070  \n",
       "4  17450.0  15485.979987  \n",
       "\n",
       "[5 rows x 27 columns]"
      ]
     },
     "execution_count": 64,
     "metadata": {},
     "output_type": "execute_result"
    }
   ],
   "source": [
    "#convecting the predicted prices array in to dataframe\n",
    "combine = yaDataFrame(Price, columns= ['Price'])\n",
    "#appending predicted price into the main dataframe\n",
    "NewTable=ya.concat([ab.reset_index(drop=True), combine.reset_index(drop=True)], axis=1)\n",
    "NewTable.head()"
   ]
  },
  {
   "cell_type": "code",
   "execution_count": 66,
   "id": "2737153d-d9e9-478d-8855-e871faa60aa6",
   "metadata": {},
   "outputs": [
    {
     "name": "stdout",
     "output_type": "stream",
     "text": [
      "[-15762.28286675]\n",
      "[[52.446332   82.68402196  4.63040004 40.71172629]]\n"
     ]
    }
   ],
   "source": [
    "print(mlm.intercept_)\n",
    "print(mlm.coef_)"
   ]
  },
  {
   "cell_type": "code",
   "execution_count": 65,
   "id": "7254c761-ff84-4f80-ad92-44545cbdc42e",
   "metadata": {},
   "outputs": [
    {
     "ename": "NameError",
     "evalue": "name 'horsepower' is not defined",
     "output_type": "error",
     "traceback": [
      "\u001b[1;31m---------------------------------------------------------------------------\u001b[0m",
      "\u001b[1;31mNameError\u001b[0m                                 Traceback (most recent call last)",
      "Cell \u001b[1;32mIn[65], line 2\u001b[0m\n\u001b[0;32m      1\u001b[0m \u001b[38;5;66;03m# Multiple Linear Regression Equation\u001b[39;00m\n\u001b[1;32m----> 2\u001b[0m Pridected_Price\u001b[38;5;241m=\u001b[39m \u001b[38;5;241m-\u001b[39m\u001b[38;5;241m15762.28286675\u001b[39m \u001b[38;5;241m+\u001b[39m\u001b[38;5;241m52.446332\u001b[39m\u001b[38;5;241m*\u001b[39mhorsepower\u001b[38;5;241m+\u001b[39m \u001b[38;5;241m82.68402196\u001b[39m \u001b[38;5;241m*\u001b[39menginesize \u001b[38;5;241m+\u001b[39m\u001b[38;5;241m4.63040004\u001b[39m\u001b[38;5;241m*\u001b[39mcurbweight \u001b[38;5;241m+\u001b[39m\u001b[38;5;241m40.71172629\u001b[39m\u001b[38;5;241m*\u001b[39mhighwaympg\n\u001b[0;32m      3\u001b[0m Pridected_Price\n",
      "\u001b[1;31mNameError\u001b[0m: name 'horsepower' is not defined"
     ]
    }
   ],
   "source": [
    "# Multiple Linear Regression Equation\n",
    "Pridected_Price= -15762.28286675 +52.446332*horsepower+ 82.68402196 *enginesize +4.63040004*curbweight +40.71172629*highwaympg\n",
    "Pridected_Price"
   ]
  },
  {
   "cell_type": "code",
   "execution_count": 72,
   "id": "80769750-0598-4567-aaed-270f6caf96b6",
   "metadata": {},
   "outputs": [
    {
     "data": {
      "text/plain": [
       "<Axes: xlabel='price'>"
      ]
     },
     "execution_count": 72,
     "metadata": {},
     "output_type": "execute_result"
    },
    {
     "data": {
      "image/png": "[encoded data removed]",
      "text/plain": [
       "<Figure size 640x480 with 1 Axes>"
      ]
     },
     "metadata": {},
     "output_type": "display_data"
    }
   ],
   "source": [
    "xy.regplot(x='price',y=Price,data=NewTable)"
   ]
  },
  {
   "cell_type": "code",
   "execution_count": 73,
   "id": "8e547528-1c81-416f-b4ba-7a8433321d34",
   "metadata": {},
   "outputs": [
    {
     "data": {
      "text/html": [
       "<div>\n",
       "<style scoped>\n",
       "    .dataframe tbody tr th:only-of-type {\n",
       "        vertical-align: middle;\n",
       "    }\n",
       "\n",
       "    .dataframe tbody tr th {\n",
       "        vertical-align: top;\n",
       "    }\n",
       "\n",
       "    .dataframe thead th {\n",
       "        text-align: right;\n",
       "    }\n",
       "</style>\n",
       "<table border=\"1\" class=\"dataframe\">\n",
       "  <thead>\n",
       "    <tr style=\"text-align: right;\">\n",
       "      <th></th>\n",
       "      <th>MODELYEAR</th>\n",
       "      <th>MAKE</th>\n",
       "      <th>MODEL</th>\n",
       "      <th>VEHICLECLASS</th>\n",
       "      <th>ENGINESIZE</th>\n",
       "      <th>CYLINDERS</th>\n",
       "      <th>TRANSMISSION</th>\n",
       "      <th>FUELTYPE</th>\n",
       "      <th>FUELCONSUMPTION_CITY</th>\n",
       "      <th>FUELCONSUMPTION_HWY</th>\n",
       "      <th>FUELCONSUMPTION_COMB</th>\n",
       "      <th>FUELCONSUMPTION_COMB_MPG</th>\n",
       "      <th>CO2EMISSIONS</th>\n",
       "    </tr>\n",
       "  </thead>\n",
       "  <tbody>\n",
       "    <tr>\n",
       "      <th>0</th>\n",
       "      <td>2014</td>\n",
       "      <td>ACURA</td>\n",
       "      <td>ILX</td>\n",
       "      <td>COMPACT</td>\n",
       "      <td>2.0</td>\n",
       "      <td>4</td>\n",
       "      <td>AS5</td>\n",
       "      <td>Z</td>\n",
       "      <td>9.9</td>\n",
       "      <td>6.7</td>\n",
       "      <td>8.5</td>\n",
       "      <td>33</td>\n",
       "      <td>196</td>\n",
       "    </tr>\n",
       "    <tr>\n",
       "      <th>1</th>\n",
       "      <td>2014</td>\n",
       "      <td>ACURA</td>\n",
       "      <td>ILX</td>\n",
       "      <td>COMPACT</td>\n",
       "      <td>2.4</td>\n",
       "      <td>4</td>\n",
       "      <td>M6</td>\n",
       "      <td>Z</td>\n",
       "      <td>11.2</td>\n",
       "      <td>7.7</td>\n",
       "      <td>9.6</td>\n",
       "      <td>29</td>\n",
       "      <td>221</td>\n",
       "    </tr>\n",
       "    <tr>\n",
       "      <th>2</th>\n",
       "      <td>2014</td>\n",
       "      <td>ACURA</td>\n",
       "      <td>ILX HYBRID</td>\n",
       "      <td>COMPACT</td>\n",
       "      <td>1.5</td>\n",
       "      <td>4</td>\n",
       "      <td>AV7</td>\n",
       "      <td>Z</td>\n",
       "      <td>6.0</td>\n",
       "      <td>5.8</td>\n",
       "      <td>5.9</td>\n",
       "      <td>48</td>\n",
       "      <td>136</td>\n",
       "    </tr>\n",
       "    <tr>\n",
       "      <th>3</th>\n",
       "      <td>2014</td>\n",
       "      <td>ACURA</td>\n",
       "      <td>MDX 4WD</td>\n",
       "      <td>SUV - SMALL</td>\n",
       "      <td>3.5</td>\n",
       "      <td>6</td>\n",
       "      <td>AS6</td>\n",
       "      <td>Z</td>\n",
       "      <td>12.7</td>\n",
       "      <td>9.1</td>\n",
       "      <td>11.1</td>\n",
       "      <td>25</td>\n",
       "      <td>255</td>\n",
       "    </tr>\n",
       "    <tr>\n",
       "      <th>4</th>\n",
       "      <td>2014</td>\n",
       "      <td>ACURA</td>\n",
       "      <td>RDX AWD</td>\n",
       "      <td>SUV - SMALL</td>\n",
       "      <td>3.5</td>\n",
       "      <td>6</td>\n",
       "      <td>AS6</td>\n",
       "      <td>Z</td>\n",
       "      <td>12.1</td>\n",
       "      <td>8.7</td>\n",
       "      <td>10.6</td>\n",
       "      <td>27</td>\n",
       "      <td>244</td>\n",
       "    </tr>\n",
       "  </tbody>\n",
       "</table>\n",
       "</div>"
      ],
      "text/plain": [
       "   MODELYEAR   MAKE       MODEL VEHICLECLASS  ENGINESIZE  CYLINDERS  \\\n",
       "0       2014  ACURA         ILX      COMPACT         2.0          4   \n",
       "1       2014  ACURA         ILX      COMPACT         2.4          4   \n",
       "2       2014  ACURA  ILX HYBRID      COMPACT         1.5          4   \n",
       "3       2014  ACURA     MDX 4WD  SUV - SMALL         3.5          6   \n",
       "4       2014  ACURA     RDX AWD  SUV - SMALL         3.5          6   \n",
       "\n",
       "  TRANSMISSION FUELTYPE  FUELCONSUMPTION_CITY  FUELCONSUMPTION_HWY  \\\n",
       "0          AS5        Z                   9.9                  6.7   \n",
       "1           M6        Z                  11.2                  7.7   \n",
       "2          AV7        Z                   6.0                  5.8   \n",
       "3          AS6        Z                  12.7                  9.1   \n",
       "4          AS6        Z                  12.1                  8.7   \n",
       "\n",
       "   FUELCONSUMPTION_COMB  FUELCONSUMPTION_COMB_MPG  CO2EMISSIONS  \n",
       "0                   8.5                        33           196  \n",
       "1                   9.6                        29           221  \n",
       "2                   5.9                        48           136  \n",
       "3                  11.1                        25           255  \n",
       "4                  10.6                        27           244  "
      ]
     },
     "execution_count": 73,
     "metadata": {},
     "output_type": "execute_result"
    }
   ],
   "source": [
    "ab= ya.read_csv('FuelConsumption.csv')\n",
    "ab.head()"
   ]
  },
  {
   "cell_type": "code",
   "execution_count": 75,
   "id": "40dafe70-955d-4847-a65f-a81b080874a4",
   "metadata": {},
   "outputs": [
    {
     "data": {
      "text/html": [
       "<div>\n",
       "<style scoped>\n",
       "    .dataframe tbody tr th:only-of-type {\n",
       "        vertical-align: middle;\n",
       "    }\n",
       "\n",
       "    .dataframe tbody tr th {\n",
       "        vertical-align: top;\n",
       "    }\n",
       "\n",
       "    .dataframe thead th {\n",
       "        text-align: right;\n",
       "    }\n",
       "</style>\n",
       "<table border=\"1\" class=\"dataframe\">\n",
       "  <thead>\n",
       "    <tr style=\"text-align: right;\">\n",
       "      <th></th>\n",
       "      <th>ENGINESIZE</th>\n",
       "      <th>CYLINDERS</th>\n",
       "      <th>FUELCONSUMPTION_COMB</th>\n",
       "      <th>CO2EMISSIONS</th>\n",
       "    </tr>\n",
       "  </thead>\n",
       "  <tbody>\n",
       "    <tr>\n",
       "      <th>0</th>\n",
       "      <td>2.0</td>\n",
       "      <td>4</td>\n",
       "      <td>8.5</td>\n",
       "      <td>196</td>\n",
       "    </tr>\n",
       "    <tr>\n",
       "      <th>1</th>\n",
       "      <td>2.4</td>\n",
       "      <td>4</td>\n",
       "      <td>9.6</td>\n",
       "      <td>221</td>\n",
       "    </tr>\n",
       "    <tr>\n",
       "      <th>2</th>\n",
       "      <td>1.5</td>\n",
       "      <td>4</td>\n",
       "      <td>5.9</td>\n",
       "      <td>136</td>\n",
       "    </tr>\n",
       "    <tr>\n",
       "      <th>3</th>\n",
       "      <td>3.5</td>\n",
       "      <td>6</td>\n",
       "      <td>11.1</td>\n",
       "      <td>255</td>\n",
       "    </tr>\n",
       "    <tr>\n",
       "      <th>4</th>\n",
       "      <td>3.5</td>\n",
       "      <td>6</td>\n",
       "      <td>10.6</td>\n",
       "      <td>244</td>\n",
       "    </tr>\n",
       "    <tr>\n",
       "      <th>...</th>\n",
       "      <td>...</td>\n",
       "      <td>...</td>\n",
       "      <td>...</td>\n",
       "      <td>...</td>\n",
       "    </tr>\n",
       "    <tr>\n",
       "      <th>1062</th>\n",
       "      <td>3.0</td>\n",
       "      <td>6</td>\n",
       "      <td>11.8</td>\n",
       "      <td>271</td>\n",
       "    </tr>\n",
       "    <tr>\n",
       "      <th>1063</th>\n",
       "      <td>3.2</td>\n",
       "      <td>6</td>\n",
       "      <td>11.5</td>\n",
       "      <td>264</td>\n",
       "    </tr>\n",
       "    <tr>\n",
       "      <th>1064</th>\n",
       "      <td>3.0</td>\n",
       "      <td>6</td>\n",
       "      <td>11.8</td>\n",
       "      <td>271</td>\n",
       "    </tr>\n",
       "    <tr>\n",
       "      <th>1065</th>\n",
       "      <td>3.2</td>\n",
       "      <td>6</td>\n",
       "      <td>11.3</td>\n",
       "      <td>260</td>\n",
       "    </tr>\n",
       "    <tr>\n",
       "      <th>1066</th>\n",
       "      <td>3.2</td>\n",
       "      <td>6</td>\n",
       "      <td>12.8</td>\n",
       "      <td>294</td>\n",
       "    </tr>\n",
       "  </tbody>\n",
       "</table>\n",
       "<p>1067 rows × 4 columns</p>\n",
       "</div>"
      ],
      "text/plain": [
       "      ENGINESIZE  CYLINDERS  FUELCONSUMPTION_COMB  CO2EMISSIONS\n",
       "0            2.0          4                   8.5           196\n",
       "1            2.4          4                   9.6           221\n",
       "2            1.5          4                   5.9           136\n",
       "3            3.5          6                  11.1           255\n",
       "4            3.5          6                  10.6           244\n",
       "...          ...        ...                   ...           ...\n",
       "1062         3.0          6                  11.8           271\n",
       "1063         3.2          6                  11.5           264\n",
       "1064         3.0          6                  11.8           271\n",
       "1065         3.2          6                  11.3           260\n",
       "1066         3.2          6                  12.8           294\n",
       "\n",
       "[1067 rows x 4 columns]"
      ]
     },
     "execution_count": 75,
     "metadata": {},
     "output_type": "execute_result"
    }
   ],
   "source": [
    "features = ab[['ENGINESIZE', 'CYLINDERS','FUELCONSUMPTION_COMB', 'CO2EMISSIONS']]\n",
    "features"
   ]
  },
  {
   "cell_type": "code",
   "execution_count": 99,
   "id": "12a5c94e-6859-45eb-9cad-673153ce877f",
   "metadata": {},
   "outputs": [
    {
     "name": "stderr",
     "output_type": "stream",
     "text": [
      "No artists with labels found to put in legend.  Note that artists whose label start with an underscore are ignored when legend() is called with no argument.\n"
     ]
    },
    {
     "data": {
      "image/png": "[encoded data removed]",
      "text/plain": [
       "<Figure size 640x480 with 1 Axes>"
      ]
     },
     "metadata": {},
     "output_type": "display_data"
    }
   ],
   "source": [
    "import matplotlib.pyplot as yan\n",
    "bins=10\n",
    "yan.hist(features,bins, histtype= 'bar')\n",
    "yan.title('Feature of FuelConsumption')\n",
    "yan.xlabel('Features')\n",
    "yan.ylabel('Features frequency')\n",
    "yan.legend()\n",
    "yan.show()"
   ]
  },
  {
   "cell_type": "code",
   "execution_count": 103,
   "id": "a0ff168b-fd51-4050-a918-3fc73767de66",
   "metadata": {},
   "outputs": [
    {
     "data": {
      "text/plain": [
       "array([[198.56153371],\n",
       "       [213.45882465],\n",
       "       [168.18527132],\n",
       "       ...,\n",
       "       [256.11480845],\n",
       "       [253.48804073],\n",
       "       [267.88148814]])"
      ]
     },
     "execution_count": 103,
     "metadata": {},
     "output_type": "execute_result"
    }
   ],
   "source": [
    "x=ab[['ENGINESIZE', 'CYLINDERS','FUELCONSUMPTION_COMB']]\n",
    "y= ab[['CO2EMISSIONS']]\n",
    "mylm.fit(x,y)\n",
    "Predicted_Emission = mylm.predict(x)\n",
    "Predicted_Emission"
   ]
  },
  {
   "cell_type": "code",
   "execution_count": 95,
   "id": "b5ccd15f-8064-4726-8c25-01952e862d5e",
   "metadata": {},
   "outputs": [
    {
     "data": {
      "text/html": [
       "<style>#sk-container-id-17 {color: black;background-color: white;}#sk-container-id-17 pre{padding: 0;}#sk-container-id-17 div.sk-toggleable {background-color: white;}#sk-container-id-17 label.sk-toggleable__label {cursor: pointer;display: block;width: 100%;margin-bottom: 0;padding: 0.3em;box-sizing: border-box;text-align: center;}#sk-container-id-17 label.sk-toggleable__label-arrow:before {content: \"▸\";float: left;margin-right: 0.25em;color: #696969;}#sk-container-id-17 label.sk-toggleable__label-arrow:hover:before {color: black;}#sk-container-id-17 div.sk-estimator:hover label.sk-toggleable__label-arrow:before {color: black;}#sk-container-id-17 div.sk-toggleable__content {max-height: 0;max-width: 0;overflow: hidden;text-align: left;background-color: #f0f8ff;}#sk-container-id-17 div.sk-toggleable__content pre {margin: 0.2em;color: black;border-radius: 0.25em;background-color: #f0f8ff;}#sk-container-id-17 input.sk-toggleable__control:checked~div.sk-toggleable__content {max-height: 200px;max-width: 100%;overflow: auto;}#sk-container-id-17 input.sk-toggleable__control:checked~label.sk-toggleable__label-arrow:before {content: \"▾\";}#sk-container-id-17 div.sk-estimator input.sk-toggleable__control:checked~label.sk-toggleable__label {background-color: #d4ebff;}#sk-container-id-17 div.sk-label input.sk-toggleable__control:checked~label.sk-toggleable__label {background-color: #d4ebff;}#sk-container-id-17 input.sk-hidden--visually {border: 0;clip: rect(1px 1px 1px 1px);clip: rect(1px, 1px, 1px, 1px);height: 1px;margin: -1px;overflow: hidden;padding: 0;position: absolute;width: 1px;}#sk-container-id-17 div.sk-estimator {font-family: monospace;background-color: #f0f8ff;border: 1px dotted black;border-radius: 0.25em;box-sizing: border-box;margin-bottom: 0.5em;}#sk-container-id-17 div.sk-estimator:hover {background-color: #d4ebff;}#sk-container-id-17 div.sk-parallel-item::after {content: \"\";width: 100%;border-bottom: 1px solid gray;flex-grow: 1;}#sk-container-id-17 div.sk-label:hover label.sk-toggleable__label {background-color: #d4ebff;}#sk-container-id-17 div.sk-serial::before {content: \"\";position: absolute;border-left: 1px solid gray;box-sizing: border-box;top: 0;bottom: 0;left: 50%;z-index: 0;}#sk-container-id-17 div.sk-serial {display: flex;flex-direction: column;align-items: center;background-color: white;padding-right: 0.2em;padding-left: 0.2em;position: relative;}#sk-container-id-17 div.sk-item {position: relative;z-index: 1;}#sk-container-id-17 div.sk-parallel {display: flex;align-items: stretch;justify-content: center;background-color: white;position: relative;}#sk-container-id-17 div.sk-item::before, #sk-container-id-17 div.sk-parallel-item::before {content: \"\";position: absolute;border-left: 1px solid gray;box-sizing: border-box;top: 0;bottom: 0;left: 50%;z-index: -1;}#sk-container-id-17 div.sk-parallel-item {display: flex;flex-direction: column;z-index: 1;position: relative;background-color: white;}#sk-container-id-17 div.sk-parallel-item:first-child::after {align-self: flex-end;width: 50%;}#sk-container-id-17 div.sk-parallel-item:last-child::after {align-self: flex-start;width: 50%;}#sk-container-id-17 div.sk-parallel-item:only-child::after {width: 0;}#sk-container-id-17 div.sk-dashed-wrapped {border: 1px dashed gray;margin: 0 0.4em 0.5em 0.4em;box-sizing: border-box;padding-bottom: 0.4em;background-color: white;}#sk-container-id-17 div.sk-label label {font-family: monospace;font-weight: bold;display: inline-block;line-height: 1.2em;}#sk-container-id-17 div.sk-label-container {text-align: center;}#sk-container-id-17 div.sk-container {/* jupyter's `normalize.less` sets `[hidden] { display: none; }` but bootstrap.min.css set `[hidden] { display: none !important; }` so we also need the `!important` here to be able to override the default hidden behavior on the sphinx rendered scikit-learn.org. See: https://github.com/scikit-learn/scikit-learn/issues/21755 */display: inline-block !important;position: relative;}#sk-container-id-17 div.sk-text-repr-fallback {display: none;}</style><div id=\"sk-container-id-17\" class=\"sk-top-container\"><div class=\"sk-text-repr-fallback\"><pre>LinearRegression()</pre><b>In a Jupyter environment, please rerun this cell to show the HTML representation or trust the notebook. <br />On GitHub, the HTML representation is unable to render, please try loading this page with nbviewer.org.</b></div><div class=\"sk-container\" hidden><div class=\"sk-item\"><div class=\"sk-estimator sk-toggleable\"><input class=\"sk-toggleable__control sk-hidden--visually\" id=\"sk-estimator-id-17\" type=\"checkbox\" checked><label for=\"sk-estimator-id-17\" class=\"sk-toggleable__label sk-toggleable__label-arrow\">LinearRegression</label><div class=\"sk-toggleable__content\"><pre>LinearRegression()</pre></div></div></div></div></div>"
      ],
      "text/plain": [
       "LinearRegression()"
      ]
     },
     "execution_count": 95,
     "metadata": {},
     "output_type": "execute_result"
    }
   ],
   "source": [
    "from sklearn.linear_model import LinearRegression\n",
    "mylm = LinearRegression()\n",
    "mylm.fit(x,y)"
   ]
  },
  {
   "cell_type": "code",
   "execution_count": 86,
   "id": "0967d530-e9ec-4f07-a92c-af7e3da8444c",
   "metadata": {},
   "outputs": [
    {
     "data": {
      "text/plain": [
       "<Axes: xlabel='CO2EMISSIONS', ylabel='ENGINESIZE'>"
      ]
     },
     "execution_count": 86,
     "metadata": {},
     "output_type": "execute_result"
    },
    {
     "data": {
      "image/png": "[encoded data removed]",
      "text/plain": [
       "<Figure size 640x480 with 1 Axes>"
      ]
     },
     "metadata": {},
     "output_type": "display_data"
    }
   ],
   "source": [
    "xy.regplot(x='CO2EMISSIONS',y='ENGINESIZE',data=ab)"
   ]
  },
  {
   "cell_type": "code",
   "execution_count": 92,
   "id": "4c14db21-fca5-44ca-b598-07cf8a357c85",
   "metadata": {},
   "outputs": [
    {
     "name": "stderr",
     "output_type": "stream",
     "text": [
      "C:\\Users\\ort_d\\anaconda3\\Lib\\site-packages\\seaborn\\_oldcore.py:1119: FutureWarning: use_inf_as_na option is deprecated and will be removed in a future version. Convert inf values to NaN before operating instead.\n",
      "  with pd.option_context('mode.use_inf_as_na', True):\n",
      "C:\\Users\\ort_d\\anaconda3\\Lib\\site-packages\\seaborn\\_oldcore.py:1119: FutureWarning: use_inf_as_na option is deprecated and will be removed in a future version. Convert inf values to NaN before operating instead.\n",
      "  with pd.option_context('mode.use_inf_as_na', True):\n",
      "C:\\Users\\ort_d\\anaconda3\\Lib\\site-packages\\seaborn\\_oldcore.py:1119: FutureWarning: use_inf_as_na option is deprecated and will be removed in a future version. Convert inf values to NaN before operating instead.\n",
      "  with pd.option_context('mode.use_inf_as_na', True):\n",
      "C:\\Users\\ort_d\\anaconda3\\Lib\\site-packages\\seaborn\\_oldcore.py:1119: FutureWarning: use_inf_as_na option is deprecated and will be removed in a future version. Convert inf values to NaN before operating instead.\n",
      "  with pd.option_context('mode.use_inf_as_na', True):\n"
     ]
    },
    {
     "data": {
      "image/png": "[encoded data removed]",
      "text/plain": [
       "<Figure size 1000x1000 with 20 Axes>"
      ]
     },
     "metadata": {},
     "output_type": "display_data"
    }
   ],
   "source": [
    "xy.pairplot(features, kind = 'reg')\n",
    "yan.show()"
   ]
  },
  {
   "cell_type": "code",
   "execution_count": 93,
   "id": "99b70da1-0889-4ae7-83c4-4b82e4184404",
   "metadata": {},
   "outputs": [
    {
     "data": {
      "text/plain": [
       "<Axes: xlabel='CO2EMISSIONS', ylabel='ENGINESIZE'>"
      ]
     },
     "execution_count": 93,
     "metadata": {},
     "output_type": "execute_result"
    },
    {
     "data": {
      "image/png": "[encoded data removed]",
      "text/plain": [
       "<Figure size 640x480 with 1 Axes>"
      ]
     },
     "metadata": {},
     "output_type": "display_data"
    }
   ],
   "source": [
    "xy.regplot(x='CO2EMISSIONS',y='ENGINESIZE',data=ab)"
   ]
  },
  {
   "cell_type": "code",
   "execution_count": 88,
   "id": "08728fa0-fdb8-4164-8eaf-673389ba162c",
   "metadata": {},
   "outputs": [
    {
     "data": {
      "text/plain": [
       "<Axes: xlabel='CO2EMISSIONS', ylabel='FUELCONSUMPTION_COMB'>"
      ]
     },
     "execution_count": 88,
     "metadata": {},
     "output_type": "execute_result"
    },
    {
     "data": {
      "image/png": "[encoded data removed]",
      "text/plain": [
       "<Figure size 640x480 with 1 Axes>"
      ]
     },
     "metadata": {},
     "output_type": "display_data"
    }
   ],
   "source": [
    "xy.regplot(x='CO2EMISSIONS',y='FUELCONSUMPTION_COMB',data=ab)"
   ]
  },
  {
   "cell_type": "code",
   "execution_count": 104,
   "id": "bbc49fa7-19a1-4f6b-a987-5e8fdbb99913",
   "metadata": {},
   "outputs": [
    {
     "name": "stdout",
     "output_type": "stream",
     "text": [
      "[65.22328417]\n",
      "[[10.85524041  7.51622501  9.59563161]]\n"
     ]
    }
   ],
   "source": [
    "print(mylm.intercept_)\n",
    "print(mylm.coef_)"
   ]
  },
  {
   "cell_type": "markdown",
   "id": "ada99962-9ec8-48a3-a7eb-c1bae11817cd",
   "metadata": {},
   "source": [
    "#### 04 December 2024"
   ]
  },
  {
   "cell_type": "code",
   "execution_count": 16,
   "id": "5999b54f-30c2-4138-a848-d279cbf79926",
   "metadata": {},
   "outputs": [
    {
     "data": {
      "text/html": [
       "<div>\n",
       "<style scoped>\n",
       "    .dataframe tbody tr th:only-of-type {\n",
       "        vertical-align: middle;\n",
       "    }\n",
       "\n",
       "    .dataframe tbody tr th {\n",
       "        vertical-align: top;\n",
       "    }\n",
       "\n",
       "    .dataframe thead th {\n",
       "        text-align: right;\n",
       "    }\n",
       "</style>\n",
       "<table border=\"1\" class=\"dataframe\">\n",
       "  <thead>\n",
       "    <tr style=\"text-align: right;\">\n",
       "      <th></th>\n",
       "      <th>MODELYEAR</th>\n",
       "      <th>MAKE</th>\n",
       "      <th>MODEL</th>\n",
       "      <th>VEHICLECLASS</th>\n",
       "      <th>ENGINESIZE</th>\n",
       "      <th>CYLINDERS</th>\n",
       "      <th>TRANSMISSION</th>\n",
       "      <th>FUELTYPE</th>\n",
       "      <th>FUELCONSUMPTION_CITY</th>\n",
       "      <th>FUELCONSUMPTION_HWY</th>\n",
       "      <th>FUELCONSUMPTION_COMB</th>\n",
       "      <th>FUELCONSUMPTION_COMB_MPG</th>\n",
       "      <th>CO2EMISSIONS</th>\n",
       "    </tr>\n",
       "  </thead>\n",
       "  <tbody>\n",
       "    <tr>\n",
       "      <th>0</th>\n",
       "      <td>2014</td>\n",
       "      <td>ACURA</td>\n",
       "      <td>ILX</td>\n",
       "      <td>COMPACT</td>\n",
       "      <td>2.0</td>\n",
       "      <td>4</td>\n",
       "      <td>AS5</td>\n",
       "      <td>Z</td>\n",
       "      <td>9.9</td>\n",
       "      <td>6.7</td>\n",
       "      <td>8.5</td>\n",
       "      <td>33</td>\n",
       "      <td>196</td>\n",
       "    </tr>\n",
       "    <tr>\n",
       "      <th>1</th>\n",
       "      <td>2014</td>\n",
       "      <td>ACURA</td>\n",
       "      <td>ILX</td>\n",
       "      <td>COMPACT</td>\n",
       "      <td>2.4</td>\n",
       "      <td>4</td>\n",
       "      <td>M6</td>\n",
       "      <td>Z</td>\n",
       "      <td>11.2</td>\n",
       "      <td>7.7</td>\n",
       "      <td>9.6</td>\n",
       "      <td>29</td>\n",
       "      <td>221</td>\n",
       "    </tr>\n",
       "    <tr>\n",
       "      <th>2</th>\n",
       "      <td>2014</td>\n",
       "      <td>ACURA</td>\n",
       "      <td>ILX HYBRID</td>\n",
       "      <td>COMPACT</td>\n",
       "      <td>1.5</td>\n",
       "      <td>4</td>\n",
       "      <td>AV7</td>\n",
       "      <td>Z</td>\n",
       "      <td>6.0</td>\n",
       "      <td>5.8</td>\n",
       "      <td>5.9</td>\n",
       "      <td>48</td>\n",
       "      <td>136</td>\n",
       "    </tr>\n",
       "    <tr>\n",
       "      <th>3</th>\n",
       "      <td>2014</td>\n",
       "      <td>ACURA</td>\n",
       "      <td>MDX 4WD</td>\n",
       "      <td>SUV - SMALL</td>\n",
       "      <td>3.5</td>\n",
       "      <td>6</td>\n",
       "      <td>AS6</td>\n",
       "      <td>Z</td>\n",
       "      <td>12.7</td>\n",
       "      <td>9.1</td>\n",
       "      <td>11.1</td>\n",
       "      <td>25</td>\n",
       "      <td>255</td>\n",
       "    </tr>\n",
       "    <tr>\n",
       "      <th>4</th>\n",
       "      <td>2014</td>\n",
       "      <td>ACURA</td>\n",
       "      <td>RDX AWD</td>\n",
       "      <td>SUV - SMALL</td>\n",
       "      <td>3.5</td>\n",
       "      <td>6</td>\n",
       "      <td>AS6</td>\n",
       "      <td>Z</td>\n",
       "      <td>12.1</td>\n",
       "      <td>8.7</td>\n",
       "      <td>10.6</td>\n",
       "      <td>27</td>\n",
       "      <td>244</td>\n",
       "    </tr>\n",
       "  </tbody>\n",
       "</table>\n",
       "</div>"
      ],
      "text/plain": [
       "   MODELYEAR   MAKE       MODEL VEHICLECLASS  ENGINESIZE  CYLINDERS  \\\n",
       "0       2014  ACURA         ILX      COMPACT         2.0          4   \n",
       "1       2014  ACURA         ILX      COMPACT         2.4          4   \n",
       "2       2014  ACURA  ILX HYBRID      COMPACT         1.5          4   \n",
       "3       2014  ACURA     MDX 4WD  SUV - SMALL         3.5          6   \n",
       "4       2014  ACURA     RDX AWD  SUV - SMALL         3.5          6   \n",
       "\n",
       "  TRANSMISSION FUELTYPE  FUELCONSUMPTION_CITY  FUELCONSUMPTION_HWY  \\\n",
       "0          AS5        Z                   9.9                  6.7   \n",
       "1           M6        Z                  11.2                  7.7   \n",
       "2          AV7        Z                   6.0                  5.8   \n",
       "3          AS6        Z                  12.7                  9.1   \n",
       "4          AS6        Z                  12.1                  8.7   \n",
       "\n",
       "   FUELCONSUMPTION_COMB  FUELCONSUMPTION_COMB_MPG  CO2EMISSIONS  \n",
       "0                   8.5                        33           196  \n",
       "1                   9.6                        29           221  \n",
       "2                   5.9                        48           136  \n",
       "3                  11.1                        25           255  \n",
       "4                  10.6                        27           244  "
      ]
     },
     "execution_count": 16,
     "metadata": {},
     "output_type": "execute_result"
    }
   ],
   "source": [
    "import pandas as ss\n",
    "cd= ss.read_csv('FuelConsumption.csv')\n",
    "cd.head()"
   ]
  },
  {
   "cell_type": "code",
   "execution_count": 17,
   "id": "e39d30b2-9a0d-4364-b34d-322cac901c30",
   "metadata": {},
   "outputs": [
    {
     "data": {
      "text/plain": [
       "array([[196.15094247],\n",
       "       [217.83097138],\n",
       "       [132.56014273],\n",
       "       ...,\n",
       "       [265.84125614],\n",
       "       [261.84422539],\n",
       "       [275.77357096]])"
      ]
     },
     "execution_count": 17,
     "metadata": {},
     "output_type": "execute_result"
    }
   ],
   "source": [
    "from sklearn.linear_model import LinearRegression\n",
    "mymodel = LinearRegression()\n",
    "x=cd[['ENGINESIZE', 'CYLINDERS','FUELCONSUMPTION_COMB','FUELCONSUMPTION_CITY','FUELCONSUMPTION_COMB_MPG']]\n",
    "y= cd[['CO2EMISSIONS']]\n",
    "mymodel.fit(x,y)\n",
    "Predicted_Emission = mymodel.predict(x)\n",
    "Predicted_Emission"
   ]
  },
  {
   "cell_type": "code",
   "execution_count": 8,
   "id": "27c58dc0-221b-4c04-a459-9cc3908e3b66",
   "metadata": {},
   "outputs": [],
   "source": [
    "from sklearn.model_selection import train_test_split\n",
    "x_train,x_test,y_train,y_test= train_test_split(x,y, test_size=0.25)"
   ]
  },
  {
   "cell_type": "code",
   "execution_count": 33,
   "id": "9a74493c-6939-4e64-bc2e-1976d50929d0",
   "metadata": {},
   "outputs": [
    {
     "data": {
      "text/plain": [
       "array([[197.46083948],\n",
       "       [191.95653402],\n",
       "       [249.8536576 ],\n",
       "       [388.80014973],\n",
       "       [318.71462176],\n",
       "       [211.10757771],\n",
       "       [239.90339832],\n",
       "       [324.38513939],\n",
       "       [239.30534745],\n",
       "       [199.4341181 ],\n",
       "       [253.85561892],\n",
       "       [162.88369312],\n",
       "       [208.25846788],\n",
       "       [201.40739673],\n",
       "       [201.40739673],\n",
       "       [312.35079337],\n",
       "       [307.29048041],\n",
       "       [278.81569038],\n",
       "       [204.42271874],\n",
       "       [276.84241175],\n",
       "       [223.00341359],\n",
       "       [388.80014973],\n",
       "       [191.76261982],\n",
       "       [352.22202272],\n",
       "       [232.73129659],\n",
       "       [203.43607942],\n",
       "       [175.29447378],\n",
       "       [250.01986977],\n",
       "       [324.46824548],\n",
       "       [199.37871405],\n",
       "       [272.07542735],\n",
       "       [267.28074092],\n",
       "       [262.31984232],\n",
       "       [216.86120143],\n",
       "       [193.73589845],\n",
       "       [199.32330999],\n",
       "       [214.94332686],\n",
       "       [213.87358145],\n",
       "       [207.16102045],\n",
       "       [250.01986977],\n",
       "       [265.41827041],\n",
       "       [417.24723773],\n",
       "       [261.49941518],\n",
       "       [206.20208317],\n",
       "       [248.07429317],\n",
       "       [324.38513939],\n",
       "       [174.55715272],\n",
       "       [214.83251874],\n",
       "       [251.77153217],\n",
       "       [340.85328543],\n",
       "       [304.67929508],\n",
       "       [309.1252489 ],\n",
       "       [219.62720517],\n",
       "       [169.56855209],\n",
       "       [338.22579183],\n",
       "       [314.05844547],\n",
       "       [182.17324695],\n",
       "       [371.4561725 ],\n",
       "       [246.1564186 ],\n",
       "       [223.57376243],\n",
       "       [403.00244863],\n",
       "       [272.07542735],\n",
       "       [328.49790882],\n",
       "       [336.11400305],\n",
       "       [309.06984484],\n",
       "       [250.81259489],\n",
       "       [300.81584391],\n",
       "       [201.40739673],\n",
       "       [300.43940927],\n",
       "       [248.89472031],\n",
       "       [227.40951158],\n",
       "       [234.01126446],\n",
       "       [257.69136806],\n",
       "       [235.46959831],\n",
       "       [203.32527131],\n",
       "       [253.82791689],\n",
       "       [307.29048041],\n",
       "       [435.98199096],\n",
       "       [306.24843704],\n",
       "       [262.31984232],\n",
       "       [210.9967696 ],\n",
       "       [282.59603547],\n",
       "       [207.16102045],\n",
       "       [207.2995306 ],\n",
       "       [194.58402762],\n",
       "       [298.89796934],\n",
       "       [240.40279488],\n",
       "       [278.89879647],\n",
       "       [261.36090503],\n",
       "       [290.73922829],\n",
       "       [206.20208317],\n",
       "       [189.78934119],\n",
       "       [223.23318395],\n",
       "       [327.34505734],\n",
       "       [264.40392906],\n",
       "       [267.30844295],\n",
       "       [256.70472875],\n",
       "       [223.57376243],\n",
       "       [161.07662666],\n",
       "       [209.18970314],\n",
       "       [206.20208317],\n",
       "       [293.67144421],\n",
       "       [310.98771941],\n",
       "       [317.67257839],\n",
       "       [204.39501671],\n",
       "       [176.30881512],\n",
       "       [211.95570688],\n",
       "       [303.2885191 ],\n",
       "       [345.8426461 ],\n",
       "       [254.78685417],\n",
       "       [248.07429317],\n",
       "       [301.77478119],\n",
       "       [259.44303046],\n",
       "       [272.07542735],\n",
       "       [204.28420859],\n",
       "       [385.72942367],\n",
       "       [370.7742555 ],\n",
       "       [262.48605449],\n",
       "       [199.62803231],\n",
       "       [344.68903457],\n",
       "       [359.12849792],\n",
       "       [249.99216774],\n",
       "       [251.91004232],\n",
       "       [189.78934119],\n",
       "       [217.7093306 ],\n",
       "       [194.58402762],\n",
       "       [214.83251874],\n",
       "       [326.71854439],\n",
       "       [198.41977676],\n",
       "       [253.85561892],\n",
       "       [247.08765386],\n",
       "       [223.23318395],\n",
       "       [186.91252933],\n",
       "       [249.99216774],\n",
       "       [199.51722419],\n",
       "       [333.4311054 ],\n",
       "       [381.93353036],\n",
       "       [350.69197655],\n",
       "       [197.57164759],\n",
       "       [190.80368253],\n",
       "       [226.97767288],\n",
       "       [217.7093306 ],\n",
       "       [258.62260332],\n",
       "       [219.73801329],\n",
       "       [333.2371912 ],\n",
       "       [183.07678018],\n",
       "       [299.42506792],\n",
       "       [214.94332686],\n",
       "       [205.35395399],\n",
       "       [200.44845945],\n",
       "       [180.14456427],\n",
       "       [299.31425981],\n",
       "       [186.85712527],\n",
       "       [198.53058488],\n",
       "       [340.85328543],\n",
       "       [326.77394845],\n",
       "       [314.9619787 ],\n",
       "       [248.89472031],\n",
       "       [253.91102297],\n",
       "       [183.02137613],\n",
       "       [276.9809219 ],\n",
       "       [309.3191631 ],\n",
       "       [227.40951158],\n",
       "       [201.35199268],\n",
       "       [187.87146661],\n",
       "       [251.77153217],\n",
       "       [194.58402762],\n",
       "       [311.78044453],\n",
       "       [200.58696959],\n",
       "       [269.3925297 ],\n",
       "       [183.13218424],\n",
       "       [368.57936064],\n",
       "       [378.09778122],\n",
       "       [250.97880706],\n",
       "       [253.85561892],\n",
       "       [194.63943167],\n",
       "       [287.52923205],\n",
       "       [206.34059331],\n",
       "       [238.34641017],\n",
       "       [271.1441921 ],\n",
       "       [323.4262021 ],\n",
       "       [241.33403014],\n",
       "       [208.11995774],\n",
       "       [211.95570688],\n",
       "       [253.88332095],\n",
       "       [197.57164759],\n",
       "       [280.81667104],\n",
       "       [321.59143362],\n",
       "       [185.95359204],\n",
       "       [252.84127757],\n",
       "       [204.39501671],\n",
       "       [241.22322202],\n",
       "       [211.10757771],\n",
       "       [219.16766444],\n",
       "       [186.85712527],\n",
       "       [212.91464417],\n",
       "       [214.83251874],\n",
       "       [249.03323046],\n",
       "       [255.74579146],\n",
       "       [380.8083809 ],\n",
       "       [314.9619787 ],\n",
       "       [393.46847982],\n",
       "       [216.88890346],\n",
       "       [257.69136806],\n",
       "       [271.08878804],\n",
       "       [309.3191631 ],\n",
       "       [309.01444078],\n",
       "       [193.5973883 ],\n",
       "       [204.28420859],\n",
       "       [376.09680056],\n",
       "       [211.95570688],\n",
       "       [162.23763228],\n",
       "       [176.61353744],\n",
       "       [290.73922829],\n",
       "       [311.04312347],\n",
       "       [305.28949975],\n",
       "       [298.92567136],\n",
       "       [301.03746014],\n",
       "       [311.78044453],\n",
       "       [194.69483573],\n",
       "       [262.51375652],\n",
       "       [288.98756589],\n",
       "       [359.32241212],\n",
       "       [194.83334588],\n",
       "       [268.23967821],\n",
       "       [203.32527131],\n",
       "       [256.5662186 ],\n",
       "       [185.95359204],\n",
       "       [390.74572634],\n",
       "       [292.74020895],\n",
       "       [265.36286635],\n",
       "       [228.25764075],\n",
       "       [249.96446571],\n",
       "       [270.15755278],\n",
       "       [244.210842  ],\n",
       "       [229.35508818],\n",
       "       [328.63641897],\n",
       "       [203.32527131],\n",
       "       [320.52168822],\n",
       "       [278.89879647],\n",
       "       [383.04652602],\n",
       "       [250.01986977],\n",
       "       [242.18215931],\n",
       "       [189.78934119],\n",
       "       [295.53391472],\n",
       "       [209.07889502],\n",
       "       [185.89818798],\n",
       "       [249.96446571],\n",
       "       [348.77410198],\n",
       "       [287.20820146],\n",
       "       [314.9619787 ],\n",
       "       [216.88890346],\n",
       "       [187.87146661],\n",
       "       [307.55610694],\n",
       "       [320.02229166],\n",
       "       [250.86799894],\n",
       "       [436.94092824],\n",
       "       [348.52478372],\n",
       "       [295.53391472],\n",
       "       [204.28420859],\n",
       "       [282.6237375 ],\n",
       "       [304.41366855],\n",
       "       [238.34641017],\n",
       "       [249.99216774],\n",
       "       [199.37871405],\n",
       "       [208.11995774],\n",
       "       [303.53783736]])"
      ]
     },
     "execution_count": 33,
     "metadata": {},
     "output_type": "execute_result"
    }
   ],
   "source": [
    "mymodel.fit(x_train,y_train)\n",
    "predict_y_test = mymodel.predict(x_test)\n",
    "predict_y_test"
   ]
  },
  {
   "cell_type": "code",
   "execution_count": 35,
   "id": "98946069-098a-427e-8340-9f946770c607",
   "metadata": {},
   "outputs": [
    {
     "data": {
      "text/plain": [
       "array([[236.88807632],\n",
       "       [314.9619787 ],\n",
       "       [258.65030535],\n",
       "       [329.42914408],\n",
       "       [244.210842  ],\n",
       "       [311.04312347],\n",
       "       [212.066515  ],\n",
       "       [210.9967696 ],\n",
       "       [399.34845988],\n",
       "       [255.6903874 ],\n",
       "       [265.36286635],\n",
       "       [282.73454562],\n",
       "       [187.87146661],\n",
       "       [371.21900804],\n",
       "       [340.85328543],\n",
       "       [278.16223546],\n",
       "       [261.55481923],\n",
       "       [267.28074092],\n",
       "       [403.43352729],\n",
       "       [181.21430967],\n",
       "       [214.83251874],\n",
       "       [199.37871405],\n",
       "       [301.45375061],\n",
       "       [180.19996832],\n",
       "       [312.19597496],\n",
       "       [261.52711721],\n",
       "       [197.57164759],\n",
       "       [246.01790845],\n",
       "       [204.28420859],\n",
       "       [210.9967696 ],\n",
       "       [278.81569038],\n",
       "       [354.33381149],\n",
       "       [186.91252933],\n",
       "       [403.43352729],\n",
       "       [206.09127505],\n",
       "       [204.28420859],\n",
       "       [160.26435365],\n",
       "       [206.20208317],\n",
       "       [256.7601328 ],\n",
       "       [203.21446319],\n",
       "       [265.19665418],\n",
       "       [286.45948664],\n",
       "       [202.36633402],\n",
       "       [368.85714097],\n",
       "       [246.01790845],\n",
       "       [214.97102888],\n",
       "       [247.14305791],\n",
       "       [204.28420859],\n",
       "       [309.1252489 ],\n",
       "       [228.67393122],\n",
       "       [190.74827847],\n",
       "       [250.01986977],\n",
       "       [184.00801544],\n",
       "       [204.28420859],\n",
       "       [204.28420859],\n",
       "       [183.1875883 ],\n",
       "       [208.23076585],\n",
       "       [258.67800738],\n",
       "       [317.339394  ],\n",
       "       [183.1875883 ],\n",
       "       [304.67929508],\n",
       "       [187.81606256],\n",
       "       [185.89818798],\n",
       "       [215.92996617],\n",
       "       [264.40392906],\n",
       "       [284.65242019],\n",
       "       [287.41842393],\n",
       "       [337.04523831],\n",
       "       [205.24314588],\n",
       "       [301.39834655],\n",
       "       [197.57164759],\n",
       "       [186.91252933],\n",
       "       [268.26738024],\n",
       "       [326.30301396],\n",
       "       [253.82791689],\n",
       "       [204.42271874],\n",
       "       [348.77410198],\n",
       "       [185.89818798],\n",
       "       [219.62720517],\n",
       "       [369.81531821],\n",
       "       [181.10350155],\n",
       "       [262.48605449],\n",
       "       [316.99066139],\n",
       "       [299.88460865],\n",
       "       [205.24314588],\n",
       "       [348.52478372],\n",
       "       [262.31984232],\n",
       "       [291.25417308],\n",
       "       [285.47284733],\n",
       "       [380.8083809 ],\n",
       "       [254.86996026],\n",
       "       [288.9044598 ],\n",
       "       [189.78934119],\n",
       "       [187.87146661],\n",
       "       [258.48409317],\n",
       "       [259.44303046],\n",
       "       [196.50190219],\n",
       "       [271.08878804],\n",
       "       [262.51375652],\n",
       "       [192.66615304],\n",
       "       [198.53058488],\n",
       "       [306.08222487],\n",
       "       [214.97102888],\n",
       "       [307.20737433],\n",
       "       [219.82111937],\n",
       "       [252.73046946],\n",
       "       [265.19665418],\n",
       "       [295.53391472],\n",
       "       [261.36090503],\n",
       "       [224.19212124],\n",
       "       [295.53391472],\n",
       "       [200.39305539],\n",
       "       [189.78934119],\n",
       "       [436.94092824],\n",
       "       [255.74579146],\n",
       "       [195.79228316],\n",
       "       [246.12871657],\n",
       "       [248.1019952 ],\n",
       "       [311.18163362],\n",
       "       [193.73589845],\n",
       "       [198.47518082],\n",
       "       [306.38694718],\n",
       "       [181.10350155],\n",
       "       [277.82905107],\n",
       "       [259.60924263],\n",
       "       [231.49533902],\n",
       "       [344.99375689],\n",
       "       [314.25235968],\n",
       "       [312.85018993],\n",
       "       [302.35728384],\n",
       "       [224.19212124],\n",
       "       [250.95110503],\n",
       "       [399.34845988],\n",
       "       [282.45752533],\n",
       "       [343.97941555],\n",
       "       [350.69197655],\n",
       "       [241.22322202],\n",
       "       [359.07309386],\n",
       "       [291.25417308],\n",
       "       [187.87146661],\n",
       "       [371.21900804],\n",
       "       [212.91464417],\n",
       "       [242.32066945],\n",
       "       [273.03436464],\n",
       "       [322.55037091],\n",
       "       [312.87789196],\n",
       "       [256.62162266],\n",
       "       [344.79984269],\n",
       "       [326.92876686],\n",
       "       [168.74812495],\n",
       "       [350.30414815],\n",
       "       [179.4903493 ],\n",
       "       [384.8812945 ],\n",
       "       [253.7448108 ],\n",
       "       [258.7057094 ],\n",
       "       [276.9809219 ],\n",
       "       [269.99134061],\n",
       "       [308.33252379],\n",
       "       [268.21197618],\n",
       "       [227.40951158],\n",
       "       [214.0120916 ],\n",
       "       [254.78685417],\n",
       "       [256.70472875],\n",
       "       [220.35637209],\n",
       "       [261.49941518],\n",
       "       [307.55610694],\n",
       "       [215.90226414],\n",
       "       [210.9967696 ],\n",
       "       [179.18562698],\n",
       "       [183.02137613],\n",
       "       [340.85328543],\n",
       "       [160.26435365],\n",
       "       [365.02139182],\n",
       "       [254.78685417],\n",
       "       [204.28420859],\n",
       "       [304.67929508],\n",
       "       [219.62720517],\n",
       "       [208.23076585],\n",
       "       [270.15755278],\n",
       "       [178.25439172],\n",
       "       [196.50190219],\n",
       "       [191.95653402],\n",
       "       [198.53058488],\n",
       "       [192.66615304],\n",
       "       [286.98658523],\n",
       "       [197.51624353],\n",
       "       [253.85561892],\n",
       "       [251.77153217],\n",
       "       [215.92996617],\n",
       "       [359.07309386],\n",
       "       [172.50076801],\n",
       "       [286.02764795],\n",
       "       [209.92702419],\n",
       "       [265.41827041],\n",
       "       [245.19748131],\n",
       "       [264.40392906],\n",
       "       [309.3191631 ],\n",
       "       [189.78934119],\n",
       "       [201.40739673],\n",
       "       [282.6237375 ],\n",
       "       [208.25846788],\n",
       "       [238.04092781],\n",
       "       [390.74572634],\n",
       "       [212.09421703],\n",
       "       [194.83334588],\n",
       "       [388.80014973],\n",
       "       [170.44438329],\n",
       "       [211.10757771],\n",
       "       [205.18774182],\n",
       "       [214.94332686],\n",
       "       [254.86996026],\n",
       "       [314.05844547],\n",
       "       [248.89472031],\n",
       "       [188.88580796],\n",
       "       [289.94650318],\n",
       "       [242.18215931],\n",
       "       [249.03323046],\n",
       "       [319.67355905],\n",
       "       [335.21046983],\n",
       "       [242.18215931],\n",
       "       [216.86120143],\n",
       "       [256.73243077],\n",
       "       [227.29870346],\n",
       "       [249.99216774],\n",
       "       [257.52515589],\n",
       "       [240.40279488],\n",
       "       [348.71945796],\n",
       "       [240.40279488],\n",
       "       [256.73243077],\n",
       "       [299.42506792],\n",
       "       [384.8812945 ],\n",
       "       [381.93353036],\n",
       "       [190.85908659],\n",
       "       [253.82791689],\n",
       "       [255.82889755],\n",
       "       [207.05021234],\n",
       "       [199.48952216],\n",
       "       [214.94332686],\n",
       "       [197.51624353],\n",
       "       [253.68940674],\n",
       "       [232.59278645],\n",
       "       [185.10546287],\n",
       "       [199.48952216],\n",
       "       [255.80119552],\n",
       "       [213.02545228],\n",
       "       [314.9619787 ],\n",
       "       [216.86120143],\n",
       "       [240.26428474],\n",
       "       [252.8689796 ],\n",
       "       [274.95223921],\n",
       "       [210.03783231],\n",
       "       [317.339394  ],\n",
       "       [299.48047198],\n",
       "       [313.29342239],\n",
       "       [221.31530938],\n",
       "       [257.69136806],\n",
       "       [264.37622704],\n",
       "       [298.9093631 ],\n",
       "       [295.53391472],\n",
       "       [383.04652602],\n",
       "       [185.05005881],\n",
       "       [340.85328543],\n",
       "       [364.11709855],\n",
       "       [180.25537238],\n",
       "       [262.31984232],\n",
       "       [320.63249633],\n",
       "       [187.87146661],\n",
       "       [310.22269633],\n",
       "       [211.95570688],\n",
       "       [228.67393122],\n",
       "       [370.49723521],\n",
       "       [197.57164759],\n",
       "       [223.00341359],\n",
       "       [333.4311054 ],\n",
       "       [303.09460489],\n",
       "       [207.2995306 ],\n",
       "       [248.07429317],\n",
       "       [252.89668163],\n",
       "       [158.40188314],\n",
       "       [235.60810845],\n",
       "       [190.69287441],\n",
       "       [222.69793123],\n",
       "       [273.00666261],\n",
       "       [257.74677212],\n",
       "       [277.06402799],\n",
       "       [258.65030535],\n",
       "       [321.78534782],\n",
       "       [227.0689331 ],\n",
       "       [205.18774182],\n",
       "       [198.53058488],\n",
       "       [216.86120143],\n",
       "       [309.30776934],\n",
       "       [217.7093306 ],\n",
       "       [332.47216811],\n",
       "       [192.61074899],\n",
       "       [324.46824548],\n",
       "       [290.62842018],\n",
       "       [328.13778245],\n",
       "       [225.491637  ],\n",
       "       [231.1344526 ],\n",
       "       [240.40279488],\n",
       "       [204.17340048],\n",
       "       [213.05315431],\n",
       "       [204.28420859],\n",
       "       [341.5075004 ],\n",
       "       [185.10546287],\n",
       "       [237.08199052],\n",
       "       [246.07331251],\n",
       "       [210.9967696 ],\n",
       "       [185.89818798],\n",
       "       [276.9809219 ],\n",
       "       [181.26971373],\n",
       "       [186.85712527],\n",
       "       [250.81259489],\n",
       "       [256.78783483],\n",
       "       [250.89570097],\n",
       "       [308.95903673],\n",
       "       [186.06440016],\n",
       "       [184.14652558],\n",
       "       [359.07309386],\n",
       "       [241.33403014],\n",
       "       [314.9619787 ],\n",
       "       [193.68049439],\n",
       "       [253.82791689],\n",
       "       [368.85714097],\n",
       "       [335.1827678 ],\n",
       "       [209.07889502],\n",
       "       [189.78934119],\n",
       "       [187.87146661],\n",
       "       [249.03323046],\n",
       "       [380.8083809 ],\n",
       "       [185.89818798],\n",
       "       [231.49533902],\n",
       "       [228.45155495],\n",
       "       [199.48952216],\n",
       "       [192.66615304],\n",
       "       [378.1687335 ],\n",
       "       [227.0689331 ],\n",
       "       [350.30414815],\n",
       "       [207.2995306 ],\n",
       "       [252.73046946],\n",
       "       [212.91464417],\n",
       "       [208.25846788],\n",
       "       [197.57164759],\n",
       "       [216.86120143],\n",
       "       [315.07278682],\n",
       "       [196.72351842],\n",
       "       [210.9967696 ],\n",
       "       [205.24314588],\n",
       "       [199.48952216],\n",
       "       [267.30844295],\n",
       "       [193.73589845],\n",
       "       [192.66615304],\n",
       "       [222.61482514],\n",
       "       [190.74827847],\n",
       "       [277.06402799],\n",
       "       [371.19130601],\n",
       "       [314.9619787 ],\n",
       "       [227.93661016],\n",
       "       [189.84474524],\n",
       "       [340.85328543],\n",
       "       [286.57029476],\n",
       "       [268.12887009],\n",
       "       [279.74692564],\n",
       "       [190.69287441],\n",
       "       [323.50930819],\n",
       "       [211.10757771],\n",
       "       [285.55595342],\n",
       "       [181.26971373],\n",
       "       [194.58402762],\n",
       "       [259.63694466],\n",
       "       [268.26738024],\n",
       "       [340.85328543],\n",
       "       [186.91252933],\n",
       "       [204.42271874],\n",
       "       [263.44499178],\n",
       "       [187.92687067],\n",
       "       [350.69197655],\n",
       "       [187.05103947],\n",
       "       [267.28074092],\n",
       "       [396.27773382],\n",
       "       [251.96544637],\n",
       "       [286.79267103],\n",
       "       [241.8212729 ],\n",
       "       [308.30482176],\n",
       "       [212.91464417],\n",
       "       [208.25846788],\n",
       "       [186.06440016],\n",
       "       [203.46378145],\n",
       "       [254.64834403],\n",
       "       [399.34845988],\n",
       "       [326.71854439],\n",
       "       [325.81501117],\n",
       "       [203.32527131],\n",
       "       [199.37871405],\n",
       "       [260.54047789],\n",
       "       [195.5429649 ],\n",
       "       [310.4329188 ],\n",
       "       [238.20790002],\n",
       "       [248.95012437],\n",
       "       [208.23076585],\n",
       "       [197.57164759],\n",
       "       [280.6781609 ],\n",
       "       [271.08878804],\n",
       "       [308.54274625],\n",
       "       [259.60924263],\n",
       "       [388.80014973],\n",
       "       [215.90226414],\n",
       "       [253.85561892],\n",
       "       [435.98199096],\n",
       "       [186.0089961 ],\n",
       "       [332.47216811],\n",
       "       [202.25552591],\n",
       "       [205.35395399],\n",
       "       [379.6263073 ],\n",
       "       [247.08765386],\n",
       "       [340.85328543],\n",
       "       [204.39501671],\n",
       "       [211.10757771],\n",
       "       [265.41827041],\n",
       "       [253.82791689],\n",
       "       [199.37871405],\n",
       "       [341.92303083],\n",
       "       [327.34505734],\n",
       "       [260.56817992],\n",
       "       [295.53391472],\n",
       "       [215.79145603],\n",
       "       [256.7601328 ],\n",
       "       [221.73899394],\n",
       "       [245.05897117],\n",
       "       [238.34641017],\n",
       "       [191.6518117 ],\n",
       "       [195.65377302],\n",
       "       [253.68940674],\n",
       "       [306.08222487],\n",
       "       [183.04907815],\n",
       "       [206.20208317],\n",
       "       [192.66615304],\n",
       "       [221.22404916],\n",
       "       [317.67257839],\n",
       "       [211.95570688],\n",
       "       [310.26670663],\n",
       "       [209.18970314],\n",
       "       [262.31984232],\n",
       "       [213.87358145],\n",
       "       [284.65242019],\n",
       "       [310.22269633],\n",
       "       [258.65030535],\n",
       "       [312.35079337],\n",
       "       [216.86120143],\n",
       "       [412.80128392],\n",
       "       [335.09966171],\n",
       "       [203.43607942],\n",
       "       [307.20737433],\n",
       "       [252.95208569],\n",
       "       [247.11535588],\n",
       "       [198.47518082],\n",
       "       [187.87146661],\n",
       "       [196.6127103 ],\n",
       "       [212.91464417],\n",
       "       [190.80368253],\n",
       "       [333.4311054 ],\n",
       "       [269.3925297 ],\n",
       "       [289.66948289],\n",
       "       [270.15755278],\n",
       "       [219.73801329],\n",
       "       [208.23076585],\n",
       "       [287.94552252],\n",
       "       [248.04659114],\n",
       "       [307.20737433],\n",
       "       [157.15777143],\n",
       "       [277.82905107],\n",
       "       [260.59588195],\n",
       "       [391.79916347],\n",
       "       [310.4329188 ],\n",
       "       [260.40196775],\n",
       "       [184.9392507 ],\n",
       "       [252.89668163],\n",
       "       [273.06206667],\n",
       "       [314.71266044],\n",
       "       [306.08222487],\n",
       "       [187.02333744],\n",
       "       [247.93578303],\n",
       "       [371.19130601],\n",
       "       [359.07309386],\n",
       "       [202.47714214],\n",
       "       [200.33765133],\n",
       "       [306.87494998],\n",
       "       [353.23636406],\n",
       "       [340.85328543],\n",
       "       [261.52711721],\n",
       "       [336.82362208],\n",
       "       [319.67355905],\n",
       "       [268.26738024],\n",
       "       [300.27319709],\n",
       "       [218.779076  ],\n",
       "       [183.1875883 ],\n",
       "       [249.99216774],\n",
       "       [226.45057429],\n",
       "       [359.07309386],\n",
       "       [167.78918766],\n",
       "       [322.92680555],\n",
       "       [207.16102045],\n",
       "       [195.65377302],\n",
       "       [349.73303926],\n",
       "       [215.79145603],\n",
       "       [261.55481923],\n",
       "       [393.46847982],\n",
       "       [262.45835246],\n",
       "       [187.81606256],\n",
       "       [270.12985075],\n",
       "       [369.81531821],\n",
       "       [235.38649222],\n",
       "       [259.52613655],\n",
       "       [342.06154097],\n",
       "       [246.1564186 ],\n",
       "       [205.24314588],\n",
       "       [301.80248322],\n",
       "       [298.92567136],\n",
       "       [209.07889502],\n",
       "       [198.53058488],\n",
       "       [212.09421703],\n",
       "       [328.63641897],\n",
       "       [198.64139299],\n",
       "       [242.18215931],\n",
       "       [186.91252933],\n",
       "       [258.65030535],\n",
       "       [275.00764327],\n",
       "       [248.1019952 ],\n",
       "       [163.04990529],\n",
       "       [247.93578303],\n",
       "       [359.10079589],\n",
       "       [250.81259489],\n",
       "       [321.50832753],\n",
       "       [247.93578303],\n",
       "       [185.10546287],\n",
       "       [220.58614246],\n",
       "       [248.12969723],\n",
       "       [388.80014973],\n",
       "       [248.1019952 ],\n",
       "       [200.44845945],\n",
       "       [341.5075004 ],\n",
       "       [300.49481332],\n",
       "       [388.80014973],\n",
       "       [239.30534745],\n",
       "       [391.79916347],\n",
       "       [264.40392906],\n",
       "       [252.8689796 ],\n",
       "       [265.36286635],\n",
       "       [265.19665418],\n",
       "       [314.71266044],\n",
       "       [200.44845945],\n",
       "       [213.87358145],\n",
       "       [359.07309386],\n",
       "       [267.25303889],\n",
       "       [221.68358989],\n",
       "       [288.9044598 ],\n",
       "       [243.19650065],\n",
       "       [221.22404916],\n",
       "       [222.61482514],\n",
       "       [209.07889502],\n",
       "       [194.63943167],\n",
       "       [204.28420859],\n",
       "       [393.46847982],\n",
       "       [218.779076  ],\n",
       "       [192.9154713 ],\n",
       "       [256.73243077],\n",
       "       [194.58402762],\n",
       "       [255.77349349],\n",
       "       [192.66615304],\n",
       "       [325.81501117],\n",
       "       [264.40392906],\n",
       "       [269.03240332],\n",
       "       [267.30844295],\n",
       "       [222.27424667],\n",
       "       [168.66501886],\n",
       "       [253.68940674],\n",
       "       [204.28420859],\n",
       "       [194.52862356],\n",
       "       [216.75039331],\n",
       "       [322.46726482],\n",
       "       [257.69136806],\n",
       "       [314.71266044],\n",
       "       [251.96544637],\n",
       "       [203.32527131],\n",
       "       [270.15755278],\n",
       "       [371.19130601],\n",
       "       [248.12969723],\n",
       "       [185.95359204],\n",
       "       [325.70420305],\n",
       "       [193.68049439],\n",
       "       [346.71771726],\n",
       "       [189.76163916],\n",
       "       [263.41728975],\n",
       "       [191.6518117 ],\n",
       "       [206.20208317],\n",
       "       [184.09112153],\n",
       "       [307.20737433],\n",
       "       [217.82013871],\n",
       "       [226.97767288],\n",
       "       [185.89818798],\n",
       "       [261.55481923],\n",
       "       [265.41827041],\n",
       "       [204.42271874],\n",
       "       [176.36421918],\n",
       "       [185.92589001],\n",
       "       [191.81802387],\n",
       "       [342.06154097],\n",
       "       [190.85908659],\n",
       "       [347.48274034],\n",
       "       [183.1875883 ],\n",
       "       [256.70472875],\n",
       "       [295.53391472],\n",
       "       [322.92680555],\n",
       "       [335.09966171],\n",
       "       [344.68903457],\n",
       "       [267.28074092],\n",
       "       [193.68049439],\n",
       "       [189.78934119],\n",
       "       [209.07889502],\n",
       "       [184.14652558],\n",
       "       [307.04116215],\n",
       "       [248.07429317],\n",
       "       [244.23854403],\n",
       "       [201.40739673],\n",
       "       [337.04523831],\n",
       "       [350.69197655],\n",
       "       [266.32180364],\n",
       "       [199.48952216],\n",
       "       [229.32738615],\n",
       "       [347.48274034],\n",
       "       [196.50190219],\n",
       "       [249.8536576 ],\n",
       "       [191.81802387],\n",
       "       [256.73243077],\n",
       "       [240.26428474],\n",
       "       [235.46959831],\n",
       "       [186.06440016],\n",
       "       [249.03323046],\n",
       "       [223.00341359],\n",
       "       [237.52598302],\n",
       "       [191.81802387],\n",
       "       [218.66826788],\n",
       "       [308.4873422 ],\n",
       "       [249.96446571],\n",
       "       [331.06999837],\n",
       "       [190.80368253],\n",
       "       [243.1410966 ],\n",
       "       [306.08222487],\n",
       "       [313.09950819],\n",
       "       [177.43396458],\n",
       "       [215.79145603],\n",
       "       [215.79145603],\n",
       "       [314.9619787 ],\n",
       "       [264.37622704],\n",
       "       [198.53058488],\n",
       "       [186.85712527],\n",
       "       [248.07429317],\n",
       "       [186.06440016],\n",
       "       [256.5662186 ],\n",
       "       [302.4126879 ],\n",
       "       [384.25478156],\n",
       "       [249.99216774],\n",
       "       [324.66215968],\n",
       "       [307.20737433],\n",
       "       [230.67491188],\n",
       "       [253.85561892],\n",
       "       [185.92589001],\n",
       "       [308.54274625],\n",
       "       [306.58086139],\n",
       "       [189.78934119],\n",
       "       [359.07309386],\n",
       "       [194.63943167],\n",
       "       [325.81501117],\n",
       "       [210.9967696 ],\n",
       "       [221.73899394],\n",
       "       [213.87358145],\n",
       "       [300.49481332],\n",
       "       [263.41728975],\n",
       "       [197.40543542],\n",
       "       [393.46847982],\n",
       "       [259.63694466],\n",
       "       [287.41842393],\n",
       "       [188.77499984],\n",
       "       [250.81259489],\n",
       "       [334.25153254],\n",
       "       [192.66615304],\n",
       "       [270.15755278],\n",
       "       [359.07309386],\n",
       "       [197.57164759],\n",
       "       [212.066515  ],\n",
       "       [245.05897117],\n",
       "       [199.60033028],\n",
       "       [198.66909502],\n",
       "       [235.38649222],\n",
       "       [201.54590688],\n",
       "       [191.81802387],\n",
       "       [226.97767288],\n",
       "       [340.85328543],\n",
       "       [301.03746014],\n",
       "       [192.66615304],\n",
       "       [351.48470166],\n",
       "       [286.79267103],\n",
       "       [255.80119552],\n",
       "       [230.31402546],\n",
       "       [205.13233776],\n",
       "       [249.99216774],\n",
       "       [185.95359204],\n",
       "       [326.92876686],\n",
       "       [289.44710662],\n",
       "       [258.62260332],\n",
       "       [191.95653402],\n",
       "       [253.77251283],\n",
       "       [293.50523203],\n",
       "       [314.14155156],\n",
       "       [180.42158455],\n",
       "       [304.41366855],\n",
       "       [304.05354218],\n",
       "       [308.30482176],\n",
       "       [307.20737433],\n",
       "       [223.96235087],\n",
       "       [175.29447378],\n",
       "       [189.78934119],\n",
       "       [217.82013871],\n",
       "       [258.62260332],\n",
       "       [182.09014087],\n",
       "       [227.40951158],\n",
       "       [198.53058488],\n",
       "       [257.60826197],\n",
       "       [348.55248575],\n",
       "       [226.33976617],\n",
       "       [244.23854403],\n",
       "       [399.34845988],\n",
       "       [199.60033028],\n",
       "       [209.07889502],\n",
       "       [345.8426461 ],\n",
       "       [384.25478156],\n",
       "       [182.17324695],\n",
       "       [262.31984232],\n",
       "       [216.86120143],\n",
       "       [185.95359204],\n",
       "       [179.4903493 ],\n",
       "       [214.94332686],\n",
       "       [267.28074092],\n",
       "       [263.47269381],\n",
       "       [205.24314588],\n",
       "       [196.55730625],\n",
       "       [343.81320337],\n",
       "       [210.9967696 ],\n",
       "       [243.1410966 ],\n",
       "       [276.84241175],\n",
       "       [336.30791726],\n",
       "       [352.22202272],\n",
       "       [275.06304733],\n",
       "       [180.1722663 ],\n",
       "       [198.53058488],\n",
       "       [315.07278682],\n",
       "       [187.02333744],\n",
       "       [224.92128816],\n",
       "       [169.76246629],\n",
       "       [291.78127166],\n",
       "       [229.35508818],\n",
       "       [268.26738024],\n",
       "       [256.78783483],\n",
       "       [231.63384916],\n",
       "       [200.44845945],\n",
       "       [212.066515  ],\n",
       "       [261.49941518],\n",
       "       [182.22865101],\n",
       "       [181.38052184],\n",
       "       [228.25764075],\n",
       "       [287.41842393],\n",
       "       [368.57936064],\n",
       "       [298.92567136],\n",
       "       [196.55730625],\n",
       "       [399.37616191],\n",
       "       [193.68049439],\n",
       "       [207.16102045],\n",
       "       [214.83251874],\n",
       "       [260.59588195],\n",
       "       [191.76261982],\n",
       "       [240.26428474],\n",
       "       [204.28420859],\n",
       "       [370.7742555 ],\n",
       "       [258.62260332],\n",
       "       [272.07542735],\n",
       "       [241.8212729 ],\n",
       "       [218.779076  ],\n",
       "       [204.28420859],\n",
       "       [234.97020175],\n",
       "       [328.49790882],\n",
       "       [293.50523203],\n",
       "       [200.44845945],\n",
       "       [270.15755278],\n",
       "       [255.66268537],\n",
       "       [256.73243077],\n",
       "       [220.26511187],\n",
       "       [252.78587352],\n",
       "       [333.4311054 ],\n",
       "       [314.71266044]])"
      ]
     },
     "execution_count": 35,
     "metadata": {},
     "output_type": "execute_result"
    }
   ],
   "source": [
    "predict_y_train = mymodel.predict(x_train)\n",
    "predict_y_train "
   ]
  },
  {
   "cell_type": "code",
   "execution_count": 27,
   "id": "23d80181-47ef-4557-bc63-81f2e8136c26",
   "metadata": {},
   "outputs": [
    {
     "data": {
      "text/html": [
       "<style>#sk-container-id-3 {color: black;background-color: white;}#sk-container-id-3 pre{padding: 0;}#sk-container-id-3 div.sk-toggleable {background-color: white;}#sk-container-id-3 label.sk-toggleable__label {cursor: pointer;display: block;width: 100%;margin-bottom: 0;padding: 0.3em;box-sizing: border-box;text-align: center;}#sk-container-id-3 label.sk-toggleable__label-arrow:before {content: \"▸\";float: left;margin-right: 0.25em;color: #696969;}#sk-container-id-3 label.sk-toggleable__label-arrow:hover:before {color: black;}#sk-container-id-3 div.sk-estimator:hover label.sk-toggleable__label-arrow:before {color: black;}#sk-container-id-3 div.sk-toggleable__content {max-height: 0;max-width: 0;overflow: hidden;text-align: left;background-color: #f0f8ff;}#sk-container-id-3 div.sk-toggleable__content pre {margin: 0.2em;color: black;border-radius: 0.25em;background-color: #f0f8ff;}#sk-container-id-3 input.sk-toggleable__control:checked~div.sk-toggleable__content {max-height: 200px;max-width: 100%;overflow: auto;}#sk-container-id-3 input.sk-toggleable__control:checked~label.sk-toggleable__label-arrow:before {content: \"▾\";}#sk-container-id-3 div.sk-estimator input.sk-toggleable__control:checked~label.sk-toggleable__label {background-color: #d4ebff;}#sk-container-id-3 div.sk-label input.sk-toggleable__control:checked~label.sk-toggleable__label {background-color: #d4ebff;}#sk-container-id-3 input.sk-hidden--visually {border: 0;clip: rect(1px 1px 1px 1px);clip: rect(1px, 1px, 1px, 1px);height: 1px;margin: -1px;overflow: hidden;padding: 0;position: absolute;width: 1px;}#sk-container-id-3 div.sk-estimator {font-family: monospace;background-color: #f0f8ff;border: 1px dotted black;border-radius: 0.25em;box-sizing: border-box;margin-bottom: 0.5em;}#sk-container-id-3 div.sk-estimator:hover {background-color: #d4ebff;}#sk-container-id-3 div.sk-parallel-item::after {content: \"\";width: 100%;border-bottom: 1px solid gray;flex-grow: 1;}#sk-container-id-3 div.sk-label:hover label.sk-toggleable__label {background-color: #d4ebff;}#sk-container-id-3 div.sk-serial::before {content: \"\";position: absolute;border-left: 1px solid gray;box-sizing: border-box;top: 0;bottom: 0;left: 50%;z-index: 0;}#sk-container-id-3 div.sk-serial {display: flex;flex-direction: column;align-items: center;background-color: white;padding-right: 0.2em;padding-left: 0.2em;position: relative;}#sk-container-id-3 div.sk-item {position: relative;z-index: 1;}#sk-container-id-3 div.sk-parallel {display: flex;align-items: stretch;justify-content: center;background-color: white;position: relative;}#sk-container-id-3 div.sk-item::before, #sk-container-id-3 div.sk-parallel-item::before {content: \"\";position: absolute;border-left: 1px solid gray;box-sizing: border-box;top: 0;bottom: 0;left: 50%;z-index: -1;}#sk-container-id-3 div.sk-parallel-item {display: flex;flex-direction: column;z-index: 1;position: relative;background-color: white;}#sk-container-id-3 div.sk-parallel-item:first-child::after {align-self: flex-end;width: 50%;}#sk-container-id-3 div.sk-parallel-item:last-child::after {align-self: flex-start;width: 50%;}#sk-container-id-3 div.sk-parallel-item:only-child::after {width: 0;}#sk-container-id-3 div.sk-dashed-wrapped {border: 1px dashed gray;margin: 0 0.4em 0.5em 0.4em;box-sizing: border-box;padding-bottom: 0.4em;background-color: white;}#sk-container-id-3 div.sk-label label {font-family: monospace;font-weight: bold;display: inline-block;line-height: 1.2em;}#sk-container-id-3 div.sk-label-container {text-align: center;}#sk-container-id-3 div.sk-container {/* jupyter's `normalize.less` sets `[hidden] { display: none; }` but bootstrap.min.css set `[hidden] { display: none !important; }` so we also need the `!important` here to be able to override the default hidden behavior on the sphinx rendered scikit-learn.org. See: https://github.com/scikit-learn/scikit-learn/issues/21755 */display: inline-block !important;position: relative;}#sk-container-id-3 div.sk-text-repr-fallback {display: none;}</style><div id=\"sk-container-id-3\" class=\"sk-top-container\"><div class=\"sk-text-repr-fallback\"><pre>LinearRegression()</pre><b>In a Jupyter environment, please rerun this cell to show the HTML representation or trust the notebook. <br />On GitHub, the HTML representation is unable to render, please try loading this page with nbviewer.org.</b></div><div class=\"sk-container\" hidden><div class=\"sk-item\"><div class=\"sk-estimator sk-toggleable\"><input class=\"sk-toggleable__control sk-hidden--visually\" id=\"sk-estimator-id-3\" type=\"checkbox\" checked><label for=\"sk-estimator-id-3\" class=\"sk-toggleable__label sk-toggleable__label-arrow\">LinearRegression</label><div class=\"sk-toggleable__content\"><pre>LinearRegression()</pre></div></div></div></div></div>"
      ],
      "text/plain": [
       "LinearRegression()"
      ]
     },
     "execution_count": 27,
     "metadata": {},
     "output_type": "execute_result"
    }
   ],
   "source": [
    "from sklearn.linear_model import LinearRegression\n",
    "mymodel = LinearRegression()\n",
    "mymodel.fit(x,y)"
   ]
  },
  {
   "cell_type": "code",
   "execution_count": 38,
   "id": "8b34f75f-d87e-4d0d-8de2-adc3b4550dd0",
   "metadata": {},
   "outputs": [
    {
     "data": {
      "text/plain": [
       "0.8601956754213431"
      ]
     },
     "execution_count": 38,
     "metadata": {},
     "output_type": "execute_result"
    }
   ],
   "source": [
    "from sklearn.metrics import r2_score\n",
    "r2_score(y_train,predict_y_train )"
   ]
  },
  {
   "cell_type": "code",
   "execution_count": 39,
   "id": "3e100f85-e691-4617-9e37-03114edae16c",
   "metadata": {},
   "outputs": [
    {
     "data": {
      "text/plain": [
       "0.8746810349143994"
      ]
     },
     "execution_count": 39,
     "metadata": {},
     "output_type": "execute_result"
    }
   ],
   "source": [
    "from sklearn.metrics import r2_score\n",
    "r2_score(y_test,predict_y_test)"
   ]
  },
  {
   "cell_type": "code",
   "execution_count": 45,
   "id": "70a0981f-cc74-4a39-aeca-ef983854bbd0",
   "metadata": {},
   "outputs": [
    {
     "ename": "SyntaxError",
     "evalue": "positional argument follows keyword argument (1191886612.py, line 3)",
     "output_type": "error",
     "traceback": [
      "\u001b[1;36m  Cell \u001b[1;32mIn[45], line 3\u001b[1;36m\u001b[0m\n\u001b[1;33m    myfig,(x1,x2) = yan.subplots(1,2, figsize = 12,6)\u001b[0m\n\u001b[1;37m                                                    ^\u001b[0m\n\u001b[1;31mSyntaxError\u001b[0m\u001b[1;31m:\u001b[0m positional argument follows keyword argument\n"
     ]
    }
   ],
   "source": [
    "import seaborn as pt\n",
    "import matplotlib.pyplot as yad\n",
    "myfig,(x1,x2) = yan.subplots(1,2, figsize = 12,6)\n",
    "pt.distplot(predict_y_train, color='green',label='Predicted Values',ax=x1)\n",
    "pt.dist(y_train,color = 'blue', label='Actual Values',ax=x1)\n",
    "pt.distplot(x=predict_y_test, color = 'green', label='Predicted Values',ax=x2)\n",
    "pt.dist(y_test,color = 'blue', label='Actual Values',ax=x2)\n",
    "yan.legend()\n",
    "yan.show()"
   ]
  },
  {
   "cell_type": "code",
   "execution_count": 44,
   "id": "55aa2277-a090-44c6-831f-1462bd52c362",
   "metadata": {},
   "outputs": [
    {
     "name": "stderr",
     "output_type": "stream",
     "text": [
      "C:\\Users\\ort_d\\AppData\\Local\\Temp\\ipykernel_9564\\33746763.py:1: UserWarning: \n",
      "\n",
      "`distplot` is a deprecated function and will be removed in seaborn v0.14.0.\n",
      "\n",
      "Please adapt your code to use either `displot` (a figure-level function with\n",
      "similar flexibility) or `histplot` (an axes-level function for histograms).\n",
      "\n",
      "For a guide to updating your code to use the new functions, please see\n",
      "https://gist.github.com/mwaskom/de44147ed2974457ad6372750bbe5751\n",
      "\n",
      "  pt.distplot(x=predict_y_test)\n",
      "C:\\Users\\ort_d\\anaconda3\\Lib\\site-packages\\seaborn\\_oldcore.py:1119: FutureWarning: use_inf_as_na option is deprecated and will be removed in a future version. Convert inf values to NaN before operating instead.\n",
      "  with pd.option_context('mode.use_inf_as_na', True):\n"
     ]
    },
    {
     "data": {
      "text/plain": [
       "<Axes: ylabel='Density'>"
      ]
     },
     "execution_count": 44,
     "metadata": {},
     "output_type": "execute_result"
    },
    {
     "data": {
      "image/png": "[encoded data removed]",
      "text/plain": [
       "<Figure size 640x480 with 1 Axes>"
      ]
     },
     "metadata": {},
     "output_type": "display_data"
    }
   ],
   "source": [
    "pt.distplot(x=predict_y_test)"
   ]
  },
  {
   "cell_type": "code",
   "execution_count": null,
   "id": "260bde4b-8638-4659-9c09-2c3ed0aef7eb",
   "metadata": {},
   "outputs": [],
   "source": []
  }
 ],
 "metadata": {
  "kernelspec": {
   "display_name": "Python 3 (ipykernel)",
   "language": "python",
   "name": "python3"
  },
  "language_info": {
   "codemirror_mode": {
    "name": "ipython",
    "version": 3
   },
   "file_extension": ".py",
   "mimetype": "text/x-python",
   "name": "python",
   "nbconvert_exporter": "python",
   "pygments_lexer": "ipython3",
   "version": "3.11.7"
  }
 },
 "nbformat": 4,
 "nbformat_minor": 5
}
